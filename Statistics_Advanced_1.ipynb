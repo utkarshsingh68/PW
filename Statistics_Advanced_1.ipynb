{
  "nbformat": 4,
  "nbformat_minor": 0,
  "metadata": {
    "colab": {
      "provenance": []
    },
    "kernelspec": {
      "name": "python3",
      "display_name": "Python 3"
    },
    "language_info": {
      "name": "python"
    }
  },
  "cells": [
    {
      "cell_type": "markdown",
      "source": [
        "Question 1: What is a random variable in probability theory?\n",
        "\n",
        "Ans\n",
        "A random variable (RV) in probability theory is a function that assigns a numerical value to each outcome of a random experiment. It helps us translate uncertain outcomes into numbers that we can work with mathematically.\n",
        "\n",
        "Formally, if\n",
        "\n",
        "S is the sample space of a random experiment, then a random variable\n",
        "\n",
        "X is a function:\n",
        "X:S→R\n",
        "\n",
        "which means it maps every outcome in the sample space to a real number.\n",
        "\n",
        "Types of Random Variables\n",
        "\n",
        "Discrete Random Variable\n",
        "\n",
        "Takes countable values (finite or infinite but countable).\n",
        "\n",
        "Example:\n",
        "\n",
        "Rolling a die →\n",
        "X can take values {1,2,3,4,5,6}.\n",
        "\n",
        "Number of heads in 3 coin tosses.\n",
        "\n",
        "It has a Probability Mass Function (PMF) that gives the probability of each value.\n",
        "\n",
        "Continuous Random Variable\n",
        "\n",
        "Takes values from an interval of real numbers (uncountable).\n",
        "\n",
        "Example:\n",
        "\n",
        "Height of students in a class.\n",
        "\n",
        "Time taken to complete an exam.\n",
        "\n",
        "It has a Probability Density Function (PDF) instead of PMF.\n",
        "\n",
        "Probability is measured over intervals, e.g.,\n",
        "P(a≤X≤b).\n",
        "\n",
        "Examples\n",
        "\n",
        "Tossing a coin:\n",
        "Define\n",
        "X=1 if Head,\n",
        "X=0 if Tail.\n",
        "\n",
        "Rolling two dice:\n",
        "Define\n",
        "Y as the sum of the two dice. Possible values are {2,3,…,12}.\n",
        "\n",
        "Temperature of a city tomorrow:\n",
        "This is a continuous random variable, can take values like 29.5°C, 30.1°C, etc."
      ],
      "metadata": {
        "id": "VqvrM9pILand"
      }
    },
    {
      "cell_type": "markdown",
      "source": [
        "Question 2: What are the types of random variables?\n",
        "\n",
        "Ans\n",
        "Random variables are mainly classified into two types:\n",
        "\n",
        "1. Discrete Random Variable\n",
        "\n",
        "A random variable is discrete if it takes countable distinct values (finite or countably infinite).\n",
        "\n",
        "Each possible value has a certain probability.\n",
        "\n",
        "Probabilities are described using a Probability Mass Function (PMF).\n",
        "\n",
        "Examples:\n",
        "\n",
        "Tossing a coin →\n",
        "\n",
        "X={0,1} (0 = Tail, 1 = Head).\n",
        "\n",
        "Rolling a die →\n",
        "\n",
        "X={1,2,3,4,5,6}.\n",
        "\n",
        "Number of students absent in a class.\n",
        "\n",
        "\n",
        "\n",
        "2. Continuous Random Variable\n",
        "\n",
        "A random variable is continuous if it can take uncountably infinite values within an interval of real numbers.\n",
        "\n",
        "Probability is described using a Probability Density Function (PDF).\n",
        "\n",
        "Exact values have zero probability, so we talk about probabilities over an interval:\n",
        "\n",
        "\n",
        "Examples:\n",
        "\n",
        "Height, weight, age, temperature.\n",
        "\n",
        "Time taken by a computer to execute a program."
      ],
      "metadata": {
        "id": "3OSQNVNqMEG6"
      }
    },
    {
      "cell_type": "markdown",
      "source": [
        "Question 3: Explain the difference between discrete and continuous distributions.\n",
        "\n",
        "Ans\n",
        "A distribution tells us how probabilities are assigned to the values of a random variable.\n",
        "Since random variables are of two main types (discrete and continuous), their distributions are also classified into discrete distributions and continuous distributions.\n",
        "\n",
        "1. Discrete Probability Distribution\n",
        "\n",
        "Deals with discrete random variables (countable outcomes).\n",
        "\n",
        "Probability is assigned to individual values.\n",
        "\n",
        "Described by a Probability Mass Function (PMF).\n",
        "\n",
        "Example:\n",
        "\n",
        "Tossing a coin →\n",
        "\n",
        "P(X=0)=0.5,P(X=1)=0.5.\n",
        "\n",
        "Rolling a die → Each outcome (1–6) has probability\n",
        "1/6\n",
        "\n",
        "\n",
        "2. Continuous Probability Distribution\n",
        "\n",
        "Deals with continuous random variables (uncountably infinite outcomes).\n",
        "\n",
        "Probability is assigned to intervals, not single points.\n",
        "\n",
        "Described by a Probability Density Function (PDF).\n",
        "\n",
        "Example:\n",
        "\n",
        "Height of students: Probability that height is between 160–170 cm.\n",
        "\n",
        "Normal distribution, Exponential distribution."
      ],
      "metadata": {
        "id": "ToaRWrkbMf6t"
      }
    },
    {
      "cell_type": "markdown",
      "source": [
        "Question 4: What is a binomial distribution, and how is it used in probability?\n",
        "Ans\n",
        "The Binomial distribution is a discrete probability distribution that describes the number of successes in a fixed number of independent trials, where each trial has only two outcomes:\n",
        "\n",
        "Success (with probability\n",
        "p)\n",
        "\n",
        "Failure (with probability\n",
        "q=1−p)\n",
        "\n",
        "It is widely used in probability theory and statistics to model “yes/no” type experiments.\n",
        "\n",
        "Conditions (when Binomial applies)\n",
        "\n",
        "There are a fixed number of trials (\n",
        "n).\n",
        "\n",
        "Each trial has only two possible outcomes: Success or Failure.\n",
        "\n",
        "Probability of success (\n",
        "p) is the same for every trial.\n",
        "\n",
        "All trials are independent.\n",
        "\n",
        "Probability Mass Function (PMF)\n",
        "\n",
        "The probability of getting exactly\n",
        "k successes in\n",
        "n trials is:\n",
        "\n",
        "P(X=k)=(n/k)p^k(1-p)^(n-k)\n",
        ",k=0,1,2,...,n\n",
        "\n",
        "where:\n",
        "(n/k) = n!/(k!(n-k)!\n",
        "\t​\n",
        "is the binomial coefficient.\n",
        "\n",
        "p= probability of success,\n",
        "q=1−p.\n",
        "\n",
        "Mean and Variance\n",
        "\n",
        "Mean (Expected value):\n",
        "\n",
        "E[X]=np\n",
        "\n",
        "Variance:\n",
        "\n",
        "Var(X)=np(1−p)\n",
        "\n",
        "Examples (Applications)\n",
        "\n",
        "Tossing a coin 10 times: Probability of getting exactly 6 heads.\n",
        "\n",
        "Here,\n",
        "n=10,\n",
        "p=0.5,\n",
        "k=6.\n",
        "\n",
        "In quality control: Probability that exactly 2 out of 5 products are defective (if defect probability = 0.1).\n",
        "\n",
        "In exams: Probability that a student guesses 3 correct answers out of 5 multiple-choice questions (with\n",
        "p=0.25).\n",
        "\n",
        "Usage in Probability\n",
        "\n",
        "Models “number of successes” in repeated independent experiments.\n",
        "\n",
        "Used in decision making, quality testing, genetics, survey sampling, and machine learning (Bernoulli trials)."
      ],
      "metadata": {
        "id": "J6BCB9vEMuuJ"
      }
    },
    {
      "cell_type": "markdown",
      "source": [
        "Question 5: What is the standard normal distribution, and why is it important?\n",
        "Ans\n",
        "The standard normal distribution is a special type of normal distribution with:\n",
        "\n",
        "Mean (μ) = 0\n",
        "\n",
        "Standard deviation (σ) = 1\n",
        "\n",
        "It is also called the Z-distribution because any normal variable can be converted into this form using Z-scores.\n",
        "\n",
        "Properties\n",
        "\n",
        "Symmetric about the mean (0).\n",
        "\n",
        "Bell-shaped curve.\n",
        "\n",
        "Mean = Median = Mode = 0.\n",
        "\n",
        "Area under the curve = 1.\n",
        "\n",
        "Probabilities are found using Z-tables.\n",
        "Z-Score (Standardization)\n",
        "\n",
        "To convert any normal variable\n",
        "X∼N(μ,σ^2) into the standard normal variable Z:\n",
        "Z = (X-μ)/σ\n",
        "\n",
        "This tells us how many standard deviations a value is away from the mean.\n",
        "Importance (Why It’s Important)\n",
        "\n",
        "Simplifies calculations → Instead of having separate tables for every normal distribution, we use one standard normal table (Z-table).\n",
        "\n",
        "Used in hypothesis testing → Z-tests, confidence intervals, and p-values rely on the standard normal distribution.\n",
        "\n",
        "Helps compare data → Z-scores allow comparison of values from different normal distributions.\n",
        "\n",
        "Foundation of statistics → Central Limit Theorem says many random processes approximate a normal distribution, which makes the standard normal very useful."
      ],
      "metadata": {
        "id": "qlV_jWsCOesb"
      }
    },
    {
      "cell_type": "markdown",
      "source": [
        "Question 6: What is the Central Limit Theorem (CLT), and why is it critical in statistics?\n",
        "\n",
        "Ans\n"
      ],
      "metadata": {
        "id": "dGUIodkwPbP6"
      }
    },
    {
      "cell_type": "markdown",
      "metadata": {
        "id": "f327052b"
      },
      "source": [
        "Question 6: What is the Central Limit Theorem (CLT), and why is it critical in statistics?\n",
        "\n",
        "Ans\n",
        "The Central Limit Theorem (CLT) is a fundamental theorem in probability and statistics. It states that if you take a sufficiently large number of random samples from any population (regardless of its distribution), the distribution of the sample means will be approximately normally distributed.\n",
        "\n",
        "This holds true even if the original population distribution is not normal. The approximation gets better as the sample size (n) increases. Generally, a sample size of n ≥ 30 is considered sufficient for the CLT to apply.\n",
        "\n",
        "Key Concepts of CLT:\n",
        "\n",
        "*   **Sampling Distribution of the Mean:** The CLT talks about the distribution of the means of multiple samples taken from a population.\n",
        "*   **Population Distribution:** The original distribution of the data in the population can be any shape (uniform, exponential, skewed, etc.).\n",
        "*   **Sample Size (n):** The number of observations in each sample. A larger sample size leads to a better approximation of the normal distribution for the sample means.\n",
        "*   **Mean of the Sampling Distribution:** The mean of the distribution of sample means is equal to the mean of the original population (μ).\n",
        "*   **Standard Deviation of the Sampling Distribution (Standard Error):** The standard deviation of the distribution of sample means is equal to the population standard deviation (σ) divided by the square root of the sample size (√n). This is called the standard error of the mean: SE = σ/√n.\n",
        "\n",
        "Why It's Critical in Statistics:\n",
        "\n",
        "The Central Limit Theorem is critical in statistics for several reasons:\n",
        "\n",
        "1.  **Basis for Inferential Statistics:** Many statistical methods, such as hypothesis testing and constructing confidence intervals, rely on the assumption that the sampling distribution of the mean is normal. The CLT allows us to make this assumption even when the population distribution is unknown or non-normal, provided the sample size is large enough.\n",
        "2.  **Approximation for Non-Normal Distributions:** It allows us to use the properties of the normal distribution (like the Z-table) to make inferences about populations with non-normal distributions.\n",
        "3.  **Understanding Variability:** It helps us understand how the variability of sample means decreases as the sample size increases (due to the standard error formula). This explains why larger samples provide more precise estimates of the population mean.\n",
        "4.  **Foundation for Many Statistical Tests:** Many parametric statistical tests (tests that assume certain properties about the population parameters) are valid because of the CLT.\n",
        "\n"
      ]
    },
    {
      "cell_type": "markdown",
      "source": [
        "Question 7: What is the significance of confidence intervals in statistical analysis?\n"
      ],
      "metadata": {
        "id": "KGt99nh5Pxh-"
      }
    },
    {
      "cell_type": "markdown",
      "metadata": {
        "id": "d2655f58"
      },
      "source": [
        "Question 7: What is the significance of confidence intervals in statistical analysis?\n",
        "\n",
        "Ans\n",
        "Confidence intervals are a fundamental tool in statistical analysis used to estimate an unknown population parameter (like the mean or proportion) based on a sample. They provide a range of values within which the true population parameter is likely to lie, along with a measure of confidence in that range.\n",
        "\n",
        "Significance in Statistical Analysis:\n",
        "\n",
        "1.  **Quantifying Uncertainty:** Point estimates (single values from a sample, like the sample mean) are unlikely to be exactly equal to the true population parameter. Confidence intervals explicitly acknowledge and quantify this uncertainty by providing a range of plausible values.\n",
        "2.  **Providing a Range of Plausible Values:** Instead of just a single point estimate, a confidence interval gives a range, which is much more informative. For example, stating that the average height of students is between 165 cm and 175 cm with 95% confidence is more useful than just saying the average height is 170 cm.\n",
        "3.  **Decision Making:** Confidence intervals aid in decision-making. If a confidence interval for a parameter excludes a certain value, it suggests that the true parameter is unlikely to be that value. For instance, if a 95% confidence interval for the mean improvement of a new drug is [5, 10] units, and a value of 0 (no improvement) is not in the interval, we can be reasonably confident that the drug has a positive effect.\n",
        "4.  **Understanding Precision:** The width of a confidence interval reflects the precision of the estimate. A narrower interval indicates a more precise estimate, usually obtained with larger sample sizes or lower variability in the data. A wider interval suggests less precision.\n",
        "5.  **Basis for Hypothesis Testing:** Confidence intervals are closely related to hypothesis testing. If a hypothesized value for a population parameter falls outside a confidence interval calculated from the sample data, we would reject that hypothesis at the corresponding significance level.\n",
        "6.  **Communication of Results:** Confidence intervals provide a clear and intuitive way to communicate the results of a study or analysis, allowing others to understand the range of plausible values for the parameter of interest and the associated level of uncertainty.\n",
        "\n"
      ]
    },
    {
      "cell_type": "markdown",
      "source": [],
      "metadata": {
        "id": "UC7dq6qSS-sk"
      }
    },
    {
      "cell_type": "markdown",
      "source": [
        "Question 8: What is the concept of expected value in a probability distribution?"
      ],
      "metadata": {
        "id": "GVqfLLMcP5Zx"
      }
    },
    {
      "cell_type": "markdown",
      "metadata": {
        "id": "4efc8d27"
      },
      "source": [
        "Question 8: What is the concept of expected value in a probability distribution?\n",
        "\n",
        "Ans\n",
        "The expected value (or expectation) of a random variable is a fundamental concept in probability theory. It represents the average value of the random variable over a large number of trials or experiments. It's essentially the weighted average of all possible values that the random variable can take, where the weights are the probabilities of each value occurring.\n",
        "\n",
        "**For a Discrete Random Variable (X):**\n",
        "\n",
        "The expected value, denoted as E(X) or μ (mu), is calculated as the sum of each possible value multiplied by its probability:\n",
        "\n",
        "E(X) = Σ [x * P(X=x)]\n",
        "\n",
        "where:\n",
        "*   x are the possible values of the random variable X\n",
        "*   P(X=x) is the probability that the random variable X takes on the value x\n",
        "*   Σ denotes the sum over all possible values of x\n",
        "\n",
        "**Example (Discrete):**\n",
        "Consider rolling a fair six-sided die. The possible values are 1, 2, 3, 4, 5, 6, and the probability of each value is 1/6.\n",
        "E(X) = (1 * 1/6) + (2 * 1/6) + (3 * 1/6) + (4 * 1/6) + (5 * 1/6) + (6 * 1/6)\n",
        "E(X) = (1+2+3+4+5+6) / 6 = 21 / 6 = 3.5\n",
        "\n",
        "The expected value of rolling a fair die is 3.5, even though you can never actually roll a 3.5. It represents the average outcome over many rolls.\n",
        "\n",
        "**For a Continuous Random Variable (X):**\n",
        "\n",
        "The expected value is calculated using an integral:\n",
        "\n",
        "E(X) = ∫ [x * f(x)] dx\n",
        "\n",
        "where:\n",
        "*   x are the possible values of the random variable X\n",
        "*   f(x) is the Probability Density Function (PDF) of X\n",
        "*   ∫ denotes the integral over the entire range of possible values of x\n",
        "\n",
        "**Significance of Expected Value:**\n",
        "\n",
        "*   **Measure of Central Tendency:** It represents the \"center\" or average of the distribution.\n",
        "*   **Long-Run Average:** It's the theoretical average outcome if the experiment is repeated many times.\n",
        "*   **Decision Making:** In many contexts (e.g., finance, gambling, risk assessment), the expected value is used to make decisions by evaluating the average outcome of different choices. For example, in gambling, a positive expected value suggests a favorable game in the long run.\n",
        "*   **Population Mean:** For a population, the expected value of a random variable is its mean (μ).\n"
      ]
    },
    {
      "cell_type": "markdown",
      "source": [
        "Question 9: Write a Python program to generate 1000 random numbers from a normal\n",
        "distribution with mean = 50 and standard deviation = 5. Compute its mean and standard\n",
        "deviation using NumPy, and draw a histogram to visualize the distribution"
      ],
      "metadata": {
        "id": "mJXzkkx8Qcf9"
      }
    },
    {
      "cell_type": "code",
      "metadata": {
        "colab": {
          "base_uri": "https://localhost:8080/",
          "height": 507
        },
        "id": "b01caac1",
        "outputId": "cdec63e1-ed31-4db7-8512-8589dcc841b9"
      },
      "source": [
        "import numpy as np\n",
        "import matplotlib.pyplot as plt\n",
        "\n",
        "mean = 50\n",
        "std_dev = 5\n",
        "num_samples = 1000\n",
        "random_numbers = np.random.normal(mean, std_dev, num_samples)\n",
        "\n",
        "computed_mean = np.mean(random_numbers)\n",
        "computed_std_dev = np.std(random_numbers)\n",
        "\n",
        "print(f\"Generated Mean: {mean}, Generated Standard Deviation: {std_dev}\")\n",
        "print(f\"Computed Mean: {computed_mean}, Computed Standard Deviation: {computed_std_dev}\")\n",
        "\n",
        "plt.hist(random_numbers, bins=30, density=True, alpha=0.6, color='g')\n",
        "plt.title('Histogram of Random Numbers from Normal Distribution')\n",
        "plt.xlabel('Value')\n",
        "plt.ylabel('Frequency')\n",
        "plt.grid(True)\n",
        "plt.show()"
      ],
      "execution_count": 1,
      "outputs": [
        {
          "output_type": "stream",
          "name": "stdout",
          "text": [
            "Generated Mean: 50, Generated Standard Deviation: 5\n",
            "Computed Mean: 49.93198228455847, Computed Standard Deviation: 4.772422688304643\n"
          ]
        },
        {
          "output_type": "display_data",
          "data": {
            "text/plain": [
              "<Figure size 640x480 with 1 Axes>"
            ],
            "image/png": "[encoded data removed]"
          },
          "metadata": {}
        }
      ]
    },
    {
      "cell_type": "markdown",
      "metadata": {
        "id": "0fdfb252"
      },
      "source": [
        "Question 10: You are working as a data analyst for a retail company. The company has\n",
        "collected daily sales data for 2 years and wants you to identify the overall sales trend.\n",
        "daily_sales = [220, 245, 210, 265, 230, 250, 260, 275, 240, 255,\n",
        " 235, 260, 245, 250, 225, 270, 265, 255, 250, 260]\n",
        "● Explain how you would apply the Central Limit Theorem to estimate the average sales\n",
        "with a 95% confidence interval.\n",
        "● Write the Python code to compute the mean sales and its confidence interval.\n",
        "\n",
        "Ans:\n",
        "\n",
        "Applying the Central Limit Theorem (CLT) to estimate the average sales with a 95% confidence interval involves the following steps:\n",
        "\n",
        "1.  **Understand the Goal:** The objective is to estimate the true average daily sales for the retail company based on the provided sample data and quantify the uncertainty of this estimate using a confidence interval.\n",
        "\n",
        "2.  **Check CLT Applicability:** While the CLT states that the distribution of sample means approaches a normal distribution for large sample sizes (typically n ≥ 30), the provided `daily_sales` list has only 20 data points. In practice, the CLT's applicability for small sample sizes depends on the underlying population distribution. If the population of daily sales is known to be approximately normally distributed, we can proceed. If not, or if the sample size is small and the population distribution is unknown/non-normal, using the t-distribution is statistically more appropriate for constructing confidence intervals for the mean. However, as the question specifically mentions applying the CLT, we will proceed with that assumption, keeping in mind that for small samples from non-normal populations, the confidence interval might not be as accurate. For larger datasets (like 2 years of daily sales, which would be ~730 data points), the CLT would be directly applicable and the sample size would be sufficient for the sample mean to be approximately normally distributed.\n",
        "\n",
        "3.  **Calculate Sample Statistics:**\n",
        "    *   Calculate the sample mean (x̄) from the provided `daily_sales` data. This is our best point estimate for the true population mean daily sales (μ).\n",
        "    *   Calculate the sample standard deviation (s) from the `daily_sales` data. This is used to estimate the population standard deviation (σ).\n",
        "\n",
        "4.  **Estimate the Standard Error:** The standard error of the mean (SE) is an estimate of the standard deviation of the sampling distribution of the mean. It is calculated as SE = s / √n, where n is the sample size.\n",
        "\n",
        "5.  **Determine the Z-score (or t-score):** For a 95% confidence interval using the CLT (assuming a large enough sample or known normal population), we need the critical Z-score that leaves 2.5% in each tail of the standard normal distribution (since 100% - 95% = 5%, and we split this equally into two tails). The Z-score for a 95% confidence level is approximately 1.96. If we were using the t-distribution (more appropriate for small samples from unknown distributions), we would use a t-score based on the degrees of freedom (n-1) and the desired confidence level.\n",
        "\n",
        "6.  **Construct the Confidence Interval:** The confidence interval for the population mean (μ) is calculated as:\n",
        "    Confidence Interval = Sample Mean ± (Critical Value * Standard Error)\n",
        "    Confidence Interval = x̄ ± (Z * SE)  (Using Z-score for CLT as requested)\n",
        "    Confidence Interval = x̄ ± (1.96 * (s / √n))\n",
        "\n",
        "7.  **Interpret the Confidence Interval:** A 95% confidence interval means that if we were to take many random samples of the same size from the population and construct a confidence interval for each sample, approximately 95% of these intervals would contain the true population mean daily sales. It does *not* mean there is a 95% probability that the true mean falls within this specific interval.\n",
        "\n"
      ]
    },
    {
      "cell_type": "code",
      "source": [
        "import numpy as np\n",
        "import scipy.stats as stats\n",
        "\n",
        "daily_sales = [220, 245, 210, 265, 230, 250, 260, 275, 240, 255,\n",
        "               235, 260, 245, 250, 225, 270, 265, 255, 250, 260]\n",
        "\n",
        "data = np.array(daily_sales)\n",
        "\n",
        "mean_sales = np.mean(data)\n",
        "std_sales = np.std(data, ddof=1)\n",
        "n = len(data)\n",
        "\n",
        "se = std_sales / np.sqrt(n)\n",
        "\n",
        "z = 1.96\n",
        "ci_lower = mean_sales - z * se\n",
        "ci_upper = mean_sales + z * se\n",
        "\n",
        "print(\"Mean Daily Sales:\", mean_sales)\n",
        "print(\"95% Confidence Interval: (\", ci_lower, \",\", ci_upper, \")\")\n"
      ],
      "metadata": {
        "colab": {
          "base_uri": "https://localhost:8080/"
        },
        "id": "vtkvBWXdTaLY",
        "outputId": "5da31996-bea6-448d-8eda-fabbffceed84"
      },
      "execution_count": 3,
      "outputs": [
        {
          "output_type": "stream",
          "name": "stdout",
          "text": [
            "Mean Daily Sales: 248.25\n",
            "95% Confidence Interval: ( 240.68312934041109 , 255.81687065958891 )\n"
          ]
        }
      ]
    }
  ]
}