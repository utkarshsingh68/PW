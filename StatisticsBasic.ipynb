{
  "nbformat": 4,
  "nbformat_minor": 0,
  "metadata": {
    "colab": {
      "provenance": []
    },
    "kernelspec": {
      "name": "python3",
      "display_name": "Python 3"
    },
    "language_info": {
      "name": "python"
    }
  },
  "cells": [
    {
      "cell_type": "markdown",
      "source": [
        "Question 1: What is the difference between descriptive statistics and inferential statistics? Explain with examples.\n",
        "\n",
        "Ans\n",
        "Difference between Descriptive and Inferential Statistics\n",
        "1. Descriptive Statistics:\n",
        "Descriptive statistics is the branch of statistics that deals with organizing, summarizing, and presenting data in a meaningful way.\n",
        "\n",
        "\n",
        "It does not make any predictions or generalizations beyond the data collected.\n",
        "\n",
        "\n",
        "Common techniques include mean, median, mode, standard deviation, charts, graphs, and tables.\n",
        "\n",
        "\n",
        "Example: Suppose we collect the marks of 100 students in a college and find:\n",
        "\n",
        "\n",
        "Mean = 72\n",
        "\n",
        "\n",
        "Median = 70\n",
        "\n",
        "\n",
        "Mode = 68\n",
        "\n",
        "\n",
        "Standard Deviation = 5\n",
        " This is descriptive statistics because it simply describes the performance of these 100 students without making any claim about other students.\n",
        "\n",
        "\n",
        "\n",
        "2. Inferential Statistics:\n",
        "Inferential statistics helps us to draw conclusions, make predictions, or test hypotheses about a population based on a sample of data.\n",
        "\n",
        "\n",
        "It uses probability theory to make these inferences.\n",
        "\n",
        "\n",
        "Common techniques include hypothesis testing, confidence intervals, correlation, regression, t-tests, and ANOVA.\n",
        "\n",
        "\n",
        "Example: From a sample of 100 students in a college, we conclude with 95% confidence that the average marks of all students in the college is between 70–74. Here, we are inferring about the whole population using the sample.\n",
        "\n"
      ],
      "metadata": {
        "id": "Mz29kXFvItrb"
      }
    },
    {
      "cell_type": "markdown",
      "source": [
        "Question 2: What is sampling in statistics? Explain the differences between random and stratified sampling.\n",
        "Ans -\n",
        "Sampling is the process of selecting a subset (sample) from a larger group (population) to collect data, analyze it, and make conclusions about the entire population.\n",
        " Since studying the entire population is often time-consuming, expensive, or impractical, sampling makes research faster, easier, and more cost-effective.\n",
        "Example: If a university has 10,000 students, and you survey only 500 students to find the average study hours, that 500 is your sample, and the 10,000 is your population.\n",
        "\n",
        "\n",
        "\n",
        "Types of Sampling: Random vs Stratified Sampling\n",
        "1. Random Sampling:\n",
        "Every individual in the population has an equal chance of being selected.\n",
        "\n",
        "\n",
        "It is simple and reduces selection bias.\n",
        "\n",
        "\n",
        "Methods include lottery method, using random number tables, or computer-generated random numbers.\n",
        "\n",
        "\n",
        "Example: Selecting 500 students randomly from 10,000 by assigning numbers and using a random number generator.\n",
        "\n",
        "\n",
        "Advantages:\n",
        "Easy to perform.\n",
        "\n",
        "\n",
        "Unbiased representation (if sample size is large).\n",
        "\n",
        "\n",
        "Disadvantages:\n",
        "May not represent all subgroups (e.g., if most randomly picked students are from one department).\n",
        "\n",
        "\n",
        "\n",
        "2. Stratified Sampling:\n",
        "The population is divided into subgroups (strata) based on certain characteristics (e.g., gender, department, age group), and samples are taken from each subgroup proportionally or equally.\n",
        "\n",
        "\n",
        "Ensures all subgroups are represented.\n",
        "\n",
        "\n",
        "Example: Dividing the 10,000 students by department (CSE, ECE, Mechanical, Civil) and then selecting students proportionally from each department.\n",
        "\n",
        "\n",
        "Advantages:\n",
        "More accurate and representative.\n",
        "\n",
        "\n",
        "Reduces sampling error.\n",
        "\n",
        "\n",
        "Disadvantages:\n",
        "Requires prior knowledge of population structure.\n",
        "\n",
        "\n",
        "More complex than random sampling.\n"
      ],
      "metadata": {
        "id": "rRPd2ApoI8b1"
      }
    },
    {
      "cell_type": "markdown",
      "source": [
        "Question 3: Define mean, median, and mode. Explain why these measures of central tendency are important.\n",
        "\n",
        "Ans - Mean, Median, and Mode – Measures of Central Tendency\n",
        "Central tendency refers to statistical measures that describe the center or typical value of a dataset. The three most common measures are Mean, Median, and Mode.\n",
        "\n",
        "1. Mean (Arithmetic Mean)\n",
        "Mean is the sum of all observations divided by the total number of observations.\n",
        "\n",
        "\n",
        "Formula:\n",
        " Mean=Σxn\\text{Mean} = \\frac{\\Sigma x}{n}Mean=nΣx​\n",
        " where Σx\\Sigma xΣx = sum of all values, and nnn = total number of values.\n",
        "\n",
        "\n",
        "Example: If marks = 10, 20, 30,\n",
        " Mean = (10 + 20 + 30) ÷ 3 = 60 ÷ 3 = 20.\n",
        "\n",
        "\n",
        "Use: Best for normally distributed data.\n",
        "\n",
        "\n",
        "\n",
        "2. Median\n",
        "Median is the middle value when data is arranged in ascending or descending order.\n",
        "\n",
        "\n",
        "If the number of observations is odd → middle value is the median.\n",
        "\n",
        "\n",
        "If even → median is the average of the two middle values.\n",
        "\n",
        "\n",
        "Example: Data = 5, 10, 15, 20, 25\n",
        " Median = 15 (middle value).\n",
        "\n",
        "\n",
        "Use: Good for skewed data (less affected by outliers).\n",
        "\n",
        "\n",
        "\n",
        "3. Mode\n",
        "Mode is the value that occurs most frequently in the data.\n",
        "\n",
        "\n",
        "A dataset may have no mode, one mode (unimodal), or multiple modes (bimodal/multimodal).\n",
        "\n",
        "\n",
        "Example: Data = 2, 4, 4, 6, 8\n",
        " Mode = 4 (appears most often).\n",
        "\n",
        "\n",
        "Use: Useful for categorical data (e.g., finding the most common shoe size).\n",
        "\n",
        "\n",
        "\n",
        "Importance of Mean, Median, and Mode\n",
        "They summarize large datasets with a single representative value.\n",
        "\n",
        "\n",
        "Help in data comparison between different groups or time periods.\n",
        "\n",
        "\n",
        "Used in decision making (business, economics, research, healthcare).\n",
        "\n",
        "\n",
        "Each measure has its specific application:\n",
        "\n",
        "\n",
        "Mean → Best for balanced data.\n",
        "\n",
        "\n",
        "Median → Best when there are outliers.\n",
        "\n",
        "\n",
        "Mode → Best for categorical or discrete data.\n"
      ],
      "metadata": {
        "id": "zIJhHbzUJF5g"
      }
    },
    {
      "cell_type": "markdown",
      "source": [
        "Question 4: Explain skewness and kurtosis. What does a positive skew imply about the data?\n",
        "Ans\n",
        "Ans -\n",
        "Skewness and Kurtosis\n",
        "Both are measures that describe the shape and distribution of data.\n",
        "\n",
        "1. Skewness\n",
        "Skewness measures the asymmetry of a data distribution around its mean.\n",
        "\n",
        "\n",
        "A perfectly symmetrical distribution (like the normal distribution) has a skewness = 0.\n",
        "\n",
        "\n",
        "Types of Skewness:\n",
        "Positive Skew (Right Skew):\n",
        "\n",
        "\n",
        "Tail is stretched to the right side (higher values).\n",
        "\n",
        "\n",
        "Mean > Median > Mode.\n",
        "\n",
        "\n",
        "Example: Income distribution (few people earn very high salaries).\n",
        "\n",
        "\n",
        "Negative Skew (Left Skew):\n",
        "\n",
        "\n",
        "Tail is stretched to the left side (lower values).\n",
        "\n",
        "\n",
        "Mean < Median < Mode.\n",
        "\n",
        "\n",
        "Example: Retirement age (most people retire around a similar age, few much earlier).\n",
        "\n",
        "\n",
        "\n",
        "2. Kurtosis\n",
        "Kurtosis measures the \"peakedness\" or flatness of a distribution compared to a normal distribution.\n",
        "\n",
        "\n",
        "Types of Kurtosis:\n",
        "\n",
        "\n",
        "Mesokurtic (Kurtosis = 3): Normal distribution.\n",
        "\n",
        "\n",
        "Leptokurtic (Kurtosis > 3): Sharper peak, fatter tails → more outliers.\n",
        "\n",
        "\n",
        "Platykurtic (Kurtosis < 3): Flatter peak, thinner tails → fewer outliers.\n",
        "\n",
        "\n",
        "\n",
        "What Does a Positive Skew Imply?\n",
        "Positive skew means the data tail extends towards higher values.\n",
        "\n",
        "\n",
        "Most data points are concentrated on the lower end, with a few extreme high values pulling the mean to the right.\n",
        "\n",
        "\n",
        "Example: Salaries in a company where most employees earn ₹30k–₹40k, but a few top executives earn lakhs.\n",
        "\n"
      ],
      "metadata": {
        "id": "17TMXW0dJNMP"
      }
    },
    {
      "cell_type": "markdown",
      "source": [
        "Question 5: Implement a Python program to compute the mean, median, and mode of a given list of numbers. numbers = [12, 15, 12, 18, 19, 12, 20, 22, 19, 19, 24, 24, 24, 26, 28]\n",
        "\n",
        "\n"
      ],
      "metadata": {
        "id": "VmVVbH4jJYIt"
      }
    },
    {
      "cell_type": "code",
      "source": [
        "from statistics import mean, median, mode\n",
        "numbers = [12, 15, 12, 18, 19, 12, 20, 22, 19, 19, 24, 24, 24, 26, 28]\n",
        "mean_value = mean(numbers)\n",
        "median_value = median(numbers)\n",
        "mode_value = mode(numbers)\n",
        "print(\"Given Numbers:\", numbers)\n",
        "print(\"Mean:\", mean_value)\n",
        "print(\"Median:\", median_value)\n",
        "print(\"Mode:\", mode_value)\n"
      ],
      "metadata": {
        "colab": {
          "base_uri": "https://localhost:8080/"
        },
        "id": "jIu5F2FQJcKi",
        "outputId": "21c4931e-2d57-495f-a27d-577628b216aa"
      },
      "execution_count": 1,
      "outputs": [
        {
          "output_type": "stream",
          "name": "stdout",
          "text": [
            "Given Numbers: [12, 15, 12, 18, 19, 12, 20, 22, 19, 19, 24, 24, 24, 26, 28]\n",
            "Mean: 19.6\n",
            "Median: 19\n",
            "Mode: 12\n"
          ]
        }
      ]
    },
    {
      "cell_type": "markdown",
      "source": [
        "Question 6: Compute the covariance and correlation coefficient between the following two datasets provided as lists in Python: list_x = [10, 20, 30, 40, 50] list_y = [15, 25, 35, 45, 60]"
      ],
      "metadata": {
        "id": "2Syph9MfJipU"
      }
    },
    {
      "cell_type": "code",
      "source": [
        "import numpy as np\n",
        "list_x = [10, 20, 30, 40, 50]\n",
        "list_y = [15, 25, 35, 45, 60]\n",
        "x = np.array(list_x)\n",
        "y = np.array(list_y)\n",
        "cov_matrix = np.cov(x, y, bias=False)\n",
        "covariance = cov_matrix[0, 1]\n",
        "correlation = np.corrcoef(x, y)[0, 1]\n",
        "print(\"List X:\", list_x)\n",
        "print(\"List Y:\", list_y)\n",
        "print(\"Covariance:\", covariance)\n",
        "print(\"Correlation Coefficient:\", correlation)\n"
      ],
      "metadata": {
        "colab": {
          "base_uri": "https://localhost:8080/"
        },
        "id": "UP5uiHsIJjyT",
        "outputId": "a2bbf2ac-79e5-4de2-d37e-ee230f10c922"
      },
      "execution_count": 2,
      "outputs": [
        {
          "output_type": "stream",
          "name": "stdout",
          "text": [
            "List X: [10, 20, 30, 40, 50]\n",
            "List Y: [15, 25, 35, 45, 60]\n",
            "Covariance: 275.0\n",
            "Correlation Coefficient: 0.995893206467704\n"
          ]
        }
      ]
    },
    {
      "cell_type": "markdown",
      "source": [
        "Question 7: Write a Python script to draw a boxplot for the following numeric list and identify its outliers. Explain the result: data = [12, 14, 14, 15, 18, 19, 19, 21, 22, 22, 23, 23, 24, 26, 29, 35]"
      ],
      "metadata": {
        "id": "q_fWu0xfJm3v"
      }
    },
    {
      "cell_type": "code",
      "source": [
        "import matplotlib.pyplot as plt\n",
        "import numpy as np\n",
        "data = [12, 14, 14, 15, 18, 19, 19, 21, 22, 22, 23, 23, 24, 26, 29, 35]\n",
        "plt.boxplot(data, vert=False, patch_artist=True, boxprops=dict(facecolor=\"lightblue\"))\n",
        "plt.title(\"Boxplot of Data\")\n",
        "plt.xlabel(\"Values\")\n",
        "plt.grid(axis='x', linestyle='--', alpha=0.7)\n",
        "plt.show()\n",
        "Q1 = np.percentile(data, 25)\n",
        "Q3 = np.percentile(data, 75)\n",
        "IQR = Q3 - Q1\n",
        "lower_bound = Q1 - 1.5 * IQR\n",
        "upper_bound = Q3 + 1.5 * IQR\n",
        "outliers = [x for x in data if x < lower_bound or x > upper_bound]\n",
        "print(\"Q1 (25th percentile):\", Q1)\n",
        "print(\"Q3 (75th percentile):\", Q3)\n",
        "print(\"IQR:\", IQR)\n",
        "print(\"Lower Bound:\", lower_bound)\n",
        "print(\"Upper Bound:\", upper_bound)\n",
        "print(\"Outliers:\", outliers)\n"
      ],
      "metadata": {
        "colab": {
          "base_uri": "https://localhost:8080/",
          "height": 576
        },
        "id": "omW-PuG5Jp1W",
        "outputId": "36b735e4-6bf5-4181-ae31-3d8710ad9cd1"
      },
      "execution_count": 3,
      "outputs": [
        {
          "output_type": "display_data",
          "data": {
            "text/plain": [
              "<Figure size 640x480 with 1 Axes>"
            ],
            "image/png": "[encoded data removed]"
          },
          "metadata": {}
        },
        {
          "output_type": "stream",
          "name": "stdout",
          "text": [
            "Q1 (25th percentile): 17.25\n",
            "Q3 (75th percentile): 23.25\n",
            "IQR: 6.0\n",
            "Lower Bound: 8.25\n",
            "Upper Bound: 32.25\n",
            "Outliers: [35]\n"
          ]
        }
      ]
    },
    {
      "cell_type": "markdown",
      "source": [
        "Question 8: You are working as a data analyst in an e-commerce company. The marketing team wants to know if there is a relationship between advertising spend and daily sales. ● Explain how you would use covariance and correlation to explore this relationship. ● Write Python code to compute the correlation between the two lists: advertising_spend = [200, 250, 300, 400, 500] daily_sales = [2200, 2450, 2750, 3200, 4000]"
      ],
      "metadata": {
        "id": "Fw4tPrQoJwkV"
      }
    },
    {
      "cell_type": "markdown",
      "source": [
        "Exploring Relationship using Covariance and Correlation\n",
        "Covariance:\n",
        "\n",
        "\n",
        "Covariance measures the direction of the relationship between two variables.\n",
        "\n",
        "\n",
        "If covariance > 0 → both variables increase together (positive relationship).\n",
        "\n",
        "\n",
        "If covariance < 0 → one increases while the other decreases (negative relationship).\n",
        "\n",
        "\n",
        "If covariance ≈ 0 → no clear relationship.\n",
        "\n",
        "\n",
        "Limitation: It does not show the strength of the relationship.\n",
        "\n",
        "\n",
        "Correlation:\n",
        "\n",
        "\n",
        "Correlation measures both the direction and strength of the relationship.\n",
        "\n",
        "\n",
        "Its value lies between -1 and +1:\n",
        "\n",
        "\n",
        "+1 → Perfect positive relationship\n",
        "\n",
        "\n",
        "-1 → Perfect negative relationship\n",
        "\n",
        "\n",
        "0 → No linear relationship\n",
        "Correlation is a scaled form of covariance, making it easier to interpret.\n"
      ],
      "metadata": {
        "id": "D-1_X8X0J4A-"
      }
    },
    {
      "cell_type": "code",
      "source": [
        "import numpy as np\n",
        "advertising_spend = [200, 250, 300, 400, 500]\n",
        "daily_sales = [2200, 2450, 2750, 3200, 4000]\n",
        "ad = np.array(advertising_spend)\n",
        "sales = np.array(daily_sales)\n",
        "cov_matrix = np.cov(ad, sales, bias=False)\n",
        "covariance = cov_matrix[0, 1]\n",
        "correlation = np.corrcoef(ad, sales)[0, 1]\n",
        "print(\"Advertising Spend:\", advertising_spend)\n",
        "print(\"Daily Sales:\", daily_sales)\n",
        "print(\"Covariance:\", covariance)\n",
        "print(\"Correlation Coefficient:\", correlation)\n"
      ],
      "metadata": {
        "colab": {
          "base_uri": "https://localhost:8080/"
        },
        "id": "5R5HZB_SJxpw",
        "outputId": "a12150ba-30a8-4f07-84af-f646baf2e258"
      },
      "execution_count": 4,
      "outputs": [
        {
          "output_type": "stream",
          "name": "stdout",
          "text": [
            "Advertising Spend: [200, 250, 300, 400, 500]\n",
            "Daily Sales: [2200, 2450, 2750, 3200, 4000]\n",
            "Covariance: 84875.0\n",
            "Correlation Coefficient: 0.9935824101653329\n"
          ]
        }
      ]
    },
    {
      "cell_type": "markdown",
      "source": [
        "Question 9: Your team has collected customer satisfaction survey data on a scale of 1-10 and wants to understand its distribution before launching a new product. ● Explain which summary statistics and visualizations (e.g. mean, standard deviation, histogram) you’d use. ● Write Python code to create a histogram using Matplotlib for the survey data:"
      ],
      "metadata": {
        "id": "-5V_WnP5J-s8"
      }
    },
    {
      "cell_type": "markdown",
      "source": [
        "Ans -\n",
        "When analyzing survey data (scale: 1–10), we want to understand central tendency, spread, and distribution shape before launching a new product.\n",
        "1. Summary Statistics to Use\n",
        "Mean: Shows the average satisfaction score.\n",
        "\n",
        "\n",
        "Median: Middle score; useful if the data is skewed.\n",
        "\n",
        "\n",
        "Mode: Most frequent score.\n",
        "\n",
        "\n",
        "Standard Deviation (SD): Indicates how spread out the scores are.\n",
        "\n",
        "\n",
        "Range (Max – Min): Gives the overall spread.\n",
        "\n",
        "\n",
        "2. Visualizations\n",
        "Histogram: Shows the frequency distribution of scores.\n",
        "\n",
        "\n",
        "Boxplot (optional): Identifies outliers and skewness.\n",
        "\n",
        "\n",
        "Bar chart (if categorical grouping is present): To compare satisfaction by groups.\n"
      ],
      "metadata": {
        "id": "guXIFWxtKDkC"
      }
    },
    {
      "cell_type": "code",
      "source": [
        "import matplotlib.pyplot as plt\n",
        "import numpy as np\n",
        "survey_data = [7, 8, 6, 9, 7, 8, 5, 6, 7, 8, 9, 6, 7, 8, 7, 9, 6, 7, 8, 5]\n",
        "mean_score = np.mean(survey_data)\n",
        "median_score = np.median(survey_data)\n",
        "std_dev = np.std(survey_data)\n",
        "print(\"Mean:\", mean_score)\n",
        "print(\"Median:\", median_score)\n",
        "print(\"Standard Deviation:\", std_dev)\n",
        "plt.hist(survey_data, bins=8, color='skyblue', edgecolor='black')\n",
        "plt.title(\"Customer Satisfaction Survey Distribution\")\n",
        "plt.xlabel(\"Satisfaction Score\")\n",
        "plt.ylabel(\"Frequency\")\n",
        "plt.grid(axis='y', linestyle='--', alpha=0.7)\n",
        "plt.show()\n"
      ],
      "metadata": {
        "colab": {
          "base_uri": "https://localhost:8080/",
          "height": 524
        },
        "id": "xyDNu98OKAOH",
        "outputId": "b0f507b4-763e-4b6c-ea46-4786c7db191a"
      },
      "execution_count": 5,
      "outputs": [
        {
          "output_type": "stream",
          "name": "stdout",
          "text": [
            "Mean: 7.15\n",
            "Median: 7.0\n",
            "Standard Deviation: 1.1947803145348521\n"
          ]
        },
        {
          "output_type": "display_data",
          "data": {
            "text/plain": [
              "<Figure size 640x480 with 1 Axes>"
            ],
            "image/png": "[encoded data removed]"
          },
          "metadata": {}
        }
      ]
    }
  ]
}