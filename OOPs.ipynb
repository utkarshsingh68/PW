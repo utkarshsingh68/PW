{
  "nbformat": 4,
  "nbformat_minor": 0,
  "metadata": {
    "colab": {
      "provenance": []
    },
    "kernelspec": {
      "name": "python3",
      "display_name": "Python 3"
    },
    "language_info": {
      "name": "python"
    }
  },
  "cells": [
    {
      "cell_type": "code",
      "execution_count": null,
      "metadata": {
        "id": "W5PUk-5FoVhV"
      },
      "outputs": [],
      "source": [
        "1 What is Object-Oriented Programming (OOP)+ ?\n",
        "\n",
        "OOP stands for Object-Oriented Programming.\n",
        "It’s a programming paradigm that revolves around objects — which combine data (variables) and methods (functions) into a single unit.\n",
        " Key Concepts of OOP (The 4 Pillars):\n",
        "Encapsulation\n",
        "\n",
        "Wrapping data and code together inside a class.\n",
        "A class Car that contains speed, gear, and methods like accelerate().\n",
        "\n",
        "Abstraction\n",
        "\n",
        "Hiding complex details and showing only essential features.\n",
        "\n",
        "Like using a smartphone—you don’t need to know how the internal circuits work.\n",
        "\n",
        "Inheritance\n",
        "\n",
        "One class (child) can inherit properties and methods from another (parent).\n",
        "\n",
        "Example: Dog class can inherit from Animal class.\n",
        "\n",
        "Polymorphism\n",
        "\n",
        "One function or method behaves differently based on input or context.\n",
        "\n",
        "Example: draw() function might draw a circle, square, or triangle based on the object.\n",
        "\n"
      ]
    },
    {
      "cell_type": "code",
      "source": [
        "class Animal:\n",
        "    def speak(self):\n",
        "        print(\"Animal speaks\")\n",
        "\n",
        "class Dog(Animal):\n",
        "    def speak(self):\n",
        "        print(\"Dog barks\")\n",
        "\n",
        "a = Dog()\n",
        "a.speak()\n"
      ],
      "metadata": {
        "id": "jGlapsVtopmG"
      },
      "execution_count": null,
      "outputs": []
    },
    {
      "cell_type": "markdown",
      "source": [
        "2 What is a class in OOP+ ?\n",
        "\n",
        "In Object-Oriented Programming, a class is like a blueprint or template used to create objects.\n",
        "\n",
        "It defines the properties (attributes/variables) and behaviors (methods/functions) that the objects created from it will have."
      ],
      "metadata": {
        "id": "xtThu1FUoxtD"
      }
    },
    {
      "cell_type": "code",
      "source": [
        "class Car:\n",
        "    def __init__(self, brand, speed):\n",
        "        self.brand = brand\n",
        "        self.speed = speed\n",
        "\n",
        "    def drive(self):\n",
        "        print(f\"{self.brand} is driving at {self.speed} km/h\")\n",
        "\n",
        "car1 = Car(\"Toyota\", 120)\n",
        "car1.drive()\n"
      ],
      "metadata": {
        "id": "LMEjgwUko17e"
      },
      "execution_count": null,
      "outputs": []
    },
    {
      "cell_type": "markdown",
      "source": [
        "3 What is an object in OOP+ ?\n",
        "An object is an instance of a class. It is the actual thing that is created in memory and can be used to access the attributes and methods defined in the class.\n",
        "\n"
      ],
      "metadata": {
        "id": "mQ_5bh7epI1V"
      }
    },
    {
      "cell_type": "code",
      "source": [
        "class Student:\n",
        "    def __init__(self, name, roll):\n",
        "        self.name = name\n",
        "        self.roll = roll\n",
        "\n",
        "    def display(self):\n",
        "        print(f\"Name: {self.name}, Roll: {self.roll}\")\n",
        "\n",
        "s1 = Student(\"Utkaarsh\", 101)\n",
        "s2 = Student(\"Riya\", 102)\n",
        "\n",
        "s1.display()\n",
        "s2.display()\n"
      ],
      "metadata": {
        "colab": {
          "base_uri": "https://localhost:8080/"
        },
        "id": "hV_hY6cmpNJD",
        "outputId": "9068ade1-6788-4b36-9b4a-c5b82ab96462"
      },
      "execution_count": 1,
      "outputs": [
        {
          "output_type": "stream",
          "name": "stdout",
          "text": [
            "Name: Utkaarsh, Roll: 101\n",
            "Name: Riya, Roll: 102\n"
          ]
        }
      ]
    },
    {
      "cell_type": "markdown",
      "source": [
        "4 What is the difference between abstraction and encapsulation+ ?\n",
        "Abstraction and encapsulation are two fundamental concepts in Object-Oriented Programming, but they serve different purposes. Abstraction means hiding unnecessary details from the user and only showing the essential features of an object. It helps reduce complexity by focusing on what an object does rather than how it does it. For example, when we use a smartphone, we don’t need to know the internal circuits or code — we just see the interface and perform actions like calling or texting. On the other hand, encapsulation is the concept of wrapping data and methods together into a single unit (class) and restricting access to some of the object's components. This is done to protect the data from outside interference and misuse. It focuses on controlling how the data is accessed and modified, usually using access modifiers like private, public, or protected. So, while abstraction is about hiding complexity and showing only the relevant parts, encapsulation is about securing data and keeping it safe within the object. Both work together to make programs more organized, secure, and easy to manage.\n"
      ],
      "metadata": {
        "id": "Rcf_dxRMpdTL"
      }
    },
    {
      "cell_type": "code",
      "source": [
        "class ATM:\n",
        "    def withdraw_cash(self):\n",
        "        self.__validate_user()\n",
        "        self.__dispense_cash()\n",
        "\n",
        "    def __validate_user(self):\n",
        "        pass\n",
        "\n",
        "    def __dispense_cash(self):\n",
        "        pass\n",
        "\n",
        "atm = ATM()\n",
        "atm.withdraw_cash()\n"
      ],
      "metadata": {
        "id": "ZNisselKpmss"
      },
      "execution_count": 2,
      "outputs": []
    },
    {
      "cell_type": "markdown",
      "source": [
        "5 What are dunder methods in Python+ ?\n",
        "\n",
        "Dunder methods in Python, also known as magic methods or special methods, are the methods that start and end with double underscores (i.e., “dunder” means “double underscore”). These methods are automatically called by Python to perform certain operations or behaviors on objects, such as arithmetic, comparison, object creation, and string representation.\n",
        "\n",
        "."
      ],
      "metadata": {
        "id": "Jag7E10np0DW"
      }
    },
    {
      "cell_type": "markdown",
      "source": [
        "6 Explain the concept of inheritance in OOP ?\n",
        "Inheritance is a core concept in Object-Oriented Programming (OOP) that allows one class to acquire the properties and behaviors of another class. The class that inherits is called the child class or subclass, and the class being inherited from is called the parent class or superclass. This means the child class can reuse the methods and attributes of the parent class without rewriting the code, which makes programs more organized, readable, and easier to maintain."
      ],
      "metadata": {
        "id": "mVL_otDkp5nL"
      }
    },
    {
      "cell_type": "code",
      "source": [
        "class Animal:\n",
        "    def eat(self):\n",
        "        print(\"This animal eats food.\")\n",
        "\n",
        "    def sleep(self):\n",
        "        print(\"This animal sleeps at night.\")\n",
        "\n",
        "class Dog(Animal):\n",
        "    def bark(self):\n",
        "        print(\"The dog barks.\")\n",
        "\n",
        "dog1 = Dog()\n",
        "dog1.eat()\n",
        "dog1.sleep()\n",
        "dog1.bark()\n"
      ],
      "metadata": {
        "id": "6jFE-lhUqWIN"
      },
      "execution_count": null,
      "outputs": []
    },
    {
      "cell_type": "markdown",
      "source": [
        "7 What is polymorphism in OOP+ ?\n",
        "Polymorphism in Object-Oriented Programming (OOP) refers to the ability of different classes to respond to the same function or method call in different ways. The word \"polymorphism\" comes from Greek and means “many forms.” In programming, it allows one interface or method to work with different types of objects or data.\n",
        "\n",
        "There are two main types of polymorphism in OOP:\n",
        "\n",
        "Compile-time Polymorphism (Method Overloading) – This occurs when multiple methods in the same class have the same name but different parameters. Python doesn’t support method overloading in the traditional sense like Java or C++, but you can still achieve it using default arguments.\n",
        "\n",
        "Run-time Polymorphism (Method Overriding) – This happens when a method in a child class has the same name as a method in its parent class but behaves differently. Python supports this fully.\n",
        "\n",
        "Polymorphism makes the code more flexible and scalable, because it allows us to write functions or methods that can work on different object types without changing their implementation."
      ],
      "metadata": {
        "id": "owwKITvIqhh9"
      }
    },
    {
      "cell_type": "code",
      "source": [
        "class Animal:\n",
        "    def speak(self):\n",
        "        print(\"The animal makes a sound.\")\n",
        "\n",
        "class Dog(Animal):\n",
        "    def speak(self):\n",
        "        print(\"The dog barks.\")\n",
        "\n",
        "class Cat(Animal):\n",
        "    def speak(self):\n",
        "        print(\"The cat meows.\")\n",
        "\n",
        "def make_animal_speak(animal):\n",
        "    animal.speak()\n",
        "\n",
        "a1 = Dog()\n",
        "a2 = Cat()\n",
        "\n",
        "make_animal_speak(a1)\n",
        "make_animal_speak(a2)\n"
      ],
      "metadata": {
        "colab": {
          "base_uri": "https://localhost:8080/"
        },
        "id": "bqPZB6zSqkru",
        "outputId": "b33da40b-c9bb-4095-cbca-1d75d0fea60c"
      },
      "execution_count": 3,
      "outputs": [
        {
          "output_type": "stream",
          "name": "stdout",
          "text": [
            "The dog barks.\n",
            "The cat meows.\n"
          ]
        }
      ]
    },
    {
      "cell_type": "markdown",
      "source": [
        "8 How is encapsulation achieved in Python+ ?\n",
        "\n",
        "Encapsulation in Python is achieved by binding data (variables) and methods (functions) together inside a class and by restricting access to some parts of the object to protect it from unwanted changes. It helps in keeping the internal details of an object hidden from the outside world, allowing access only through well-defined interfaces (like methods).\n",
        "\n",
        "In Python, encapsulation is mainly implemented using access modifiers:\n",
        "\n",
        "Public (var) – Accessible from anywhere (default in Python).\n",
        "\n",
        "Protected (_var) – Meant to be accessed only within the class and its subclasses (still accessible, but discouraged).\n",
        "\n",
        "Private (__var) – Name mangled to prevent direct access from outside the class."
      ],
      "metadata": {
        "id": "6V-X23CrqpJw"
      }
    },
    {
      "cell_type": "code",
      "source": [
        "class BankAccount:\n",
        "    def __init__(self, balance):\n",
        "        self.__balance = balance\n",
        "\n",
        "    def deposit(self, amount):\n",
        "        if amount > 0:\n",
        "            self.__balance += amount\n",
        "\n",
        "    def withdraw(self, amount):\n",
        "        if 0 < amount <= self.__balance:\n",
        "            self.__balance -= amount\n",
        "\n",
        "    def get_balance(self):\n",
        "        return self.__balance\n",
        "\n",
        "acc = BankAccount(1000)\n",
        "acc.deposit(500)\n",
        "acc.withdraw(200)\n",
        "print(acc.get_balance())\n",
        "\n",
        "\n"
      ],
      "metadata": {
        "id": "UhXESOxrqxAw"
      },
      "execution_count": null,
      "outputs": []
    },
    {
      "cell_type": "markdown",
      "source": [
        "9 What is a constructor in Python+ ?\n",
        "A constructor in Python is a special method used to initialize objects when they are created from a class. In Python, the constructor method is called __init__(). It is automatically called when we create a new object, and it is mainly used to set the initial values of the object's attributes.\n",
        "\n",
        "The __init__() method takes self as the first parameter (which refers to the object being created), followed by any other parameters you want to use for initialization. It helps in making sure that every object starts with specific data when it is created."
      ],
      "metadata": {
        "id": "I1grX2TNq8J0"
      }
    },
    {
      "cell_type": "code",
      "source": [
        "class Student:\n",
        "    def __init__(self, name, roll):\n",
        "        self.name = name\n",
        "        self.roll = roll\n",
        "\n",
        "    def display(self):\n",
        "        print(f\"Name: {self.name}, Roll: {self.roll}\")\n",
        "\n",
        "s1 = Student(\"Utkaarsh\", 101)\n",
        "s1.display()\n"
      ],
      "metadata": {
        "colab": {
          "base_uri": "https://localhost:8080/"
        },
        "id": "RIuu76L1rA_Q",
        "outputId": "50ec608d-b4eb-4297-c2eb-7024f98d353a"
      },
      "execution_count": 4,
      "outputs": [
        {
          "output_type": "stream",
          "name": "stdout",
          "text": [
            "Name: Utkaarsh, Roll: 101\n"
          ]
        }
      ]
    },
    {
      "cell_type": "markdown",
      "source": [
        "10 What are class and static methods in Python+ ?\n",
        "A class method is a method that is bound to the class and not the object. It takes cls (not self) as its first parameter and can access or modify class-level data. You define a class method using the @classmethod decorator."
      ],
      "metadata": {
        "id": "hKyiLmhNrMIg"
      }
    },
    {
      "cell_type": "code",
      "source": [
        "class Student:\n",
        "    college = \"ABC University\"\n",
        "\n",
        "    @classmethod\n",
        "    def change_college(cls, new_college):\n",
        "        cls.college = new_college\n",
        "\n",
        "    def show(self):\n",
        "        print(f\"College: {Student.college}\")\n",
        "\n",
        "s1 = Student()\n",
        "s1.show()\n",
        "\n",
        "Student.change_college(\"XYZ College\")\n",
        "s1.show()\n"
      ],
      "metadata": {
        "id": "zUMaLuaCrRzE"
      },
      "execution_count": null,
      "outputs": []
    },
    {
      "cell_type": "markdown",
      "source": [
        "11 What is method overloading in Python+ ?\n",
        "\n",
        "Method overloading in general refers to the ability to define multiple methods with the same name but different parameters (number or type) in the same class. It allows a method to perform different tasks based on the arguments passed to it.\n",
        "\n",
        "However, Python does not support traditional method overloading like some other languages (e.g., Java or C++). In Python, if you define multiple methods with the same name, the last one overrides all previous definitions.\n",
        "\n"
      ],
      "metadata": {
        "id": "JELLWOy1rU4o"
      }
    },
    {
      "cell_type": "code",
      "source": [
        "class Greet:\n",
        "    def hello(self, name=None):\n",
        "        if name:\n",
        "            print(f\"Hello, {name}!\")\n",
        "        else:\n",
        "            print(\"Hello!\")\n",
        "\n",
        "g = Greet()\n",
        "g.hello()\n",
        "g.hello(\"Utkaarsh\")\n"
      ],
      "metadata": {
        "id": "yH0EIWtSrph0"
      },
      "execution_count": null,
      "outputs": []
    },
    {
      "cell_type": "markdown",
      "source": [
        "12 What is method overriding in OOP+ ?\n",
        "Method overriding in Object-Oriented Programming (OOP) is a feature that allows a child class to provide its own implementation of a method that is already defined in its parent class. This is done when the method in the child class has the same name, same parameters, and is meant to replace or customize the behavior of the parent method.\n",
        "\n",
        "Overriding is a key part of runtime polymorphism, where the method that gets called is determined by the object’s actual class at runtime, not by the reference type.\n",
        "\n",
        "This allows child classes to modify or extend the behavior of parent class methods without changing the parent class code."
      ],
      "metadata": {
        "id": "Du4J3it6rxhN"
      }
    },
    {
      "cell_type": "code",
      "source": [
        "class Animal:\n",
        "    def sound(self):\n",
        "        print(\"Some generic animal sound\")\n",
        "\n",
        "class Dog(Animal):\n",
        "    def sound(self):\n",
        "        print(\"The dog barks\")\n",
        "\n",
        "a = Animal()\n",
        "d = Dog()\n",
        "\n",
        "a.sound()\n",
        "d.sound()\n"
      ],
      "metadata": {
        "id": "kLd7c2hyr1NO"
      },
      "execution_count": null,
      "outputs": []
    },
    {
      "cell_type": "markdown",
      "source": [
        "13 What is a property decorator in Python+ ?\n",
        "n Python, a property decorator (@property) is a built-in feature that allows you to turn a method into a read-only attribute, making the code cleaner and more Pythonic. It is used to control access to instance variables without changing the way the attribute is accessed.\n",
        "\n",
        "Instead of calling a method like obj.get_value(), the @property decorator lets you use obj.value while still allowing you to define custom logic behind the scenes.\n",
        "\n",
        "This helps in achieving encapsulation by keeping your attribute access controlled but looking like regular variable access from the outside."
      ],
      "metadata": {
        "id": "YuwHG8ajr3z2"
      }
    },
    {
      "cell_type": "code",
      "source": [
        "class Circle:\n",
        "    def __init__(self, radius):\n",
        "        self._radius = radius\n",
        "\n",
        "    @property\n",
        "    def area(self):\n",
        "        return 3.14 * self._radius * self._radius\n",
        "\n",
        "c = Circle(5)\n",
        "print(c.area)  # Output: 78.5\n"
      ],
      "metadata": {
        "colab": {
          "base_uri": "https://localhost:8080/"
        },
        "id": "iDP-R2RhsBxp",
        "outputId": "68316b1f-3bf5-47cd-a1c1-032cee9b0d1a"
      },
      "execution_count": 5,
      "outputs": [
        {
          "output_type": "stream",
          "name": "stdout",
          "text": [
            "78.5\n"
          ]
        }
      ]
    },
    {
      "cell_type": "markdown",
      "source": [
        "14 Why is polymorphism important in OOP+ ?\n",
        "Polymorphism is important in Object-Oriented Programming (OOP) because it allows the same method or operation to behave differently based on the object that is using it. This helps in writing flexible, reusable, and maintainable code.\n",
        "\n",
        "With polymorphism, you can define a common interface (like a method name) in a parent class, and let each child class customize the behavior. This means you can write general-purpose code that works with objects of different types without knowing their exact class. This is especially useful in large applications where multiple classes share similar functionality.\n",
        "\n",
        "For example, suppose you have a function that calls a method draw() on a list of shapes like circles, rectangles, and triangles. Each shape can have its own version of draw(), but the function doesn't need to know what kind of shape it’s dealing with. It just calls draw() and trusts that the object will respond correctly. This is runtime polymorphism, and it helps in reducing code duplication and increasing modularity."
      ],
      "metadata": {
        "id": "ieGYI4K2sNQA"
      }
    },
    {
      "cell_type": "markdown",
      "source": [
        "15 What is an abstract class in Python+ ?\n",
        "\n",
        "An abstract class in Python is a class that cannot be instantiated directly and is meant to be used as a base class for other classes. It provides a template for child classes by defining methods that must be implemented in the subclasses. In Python, abstract classes are defined using the abc module (which stands for Abstract Base Classes), and abstract methods are marked with the @abstractmethod decorator.\n",
        "\n",
        "The main purpose of an abstract class is to enforce a structure on all its subclasses. It ensures that certain methods are present in all derived classes, even though the actual implementation is different."
      ],
      "metadata": {
        "id": "PDmOLmfYsYJy"
      }
    },
    {
      "cell_type": "code",
      "source": [
        "from abc import ABC, abstractmethod\n",
        "\n",
        "class Animal(ABC):\n",
        "    @abstractmethod\n",
        "    def sound(self):\n",
        "        pass\n",
        "\n",
        "class Dog(Animal):\n",
        "    def sound(self):\n",
        "        print(\"The dog barks\")\n",
        "\n",
        "class Cat(Animal):\n",
        "    def sound(self):\n",
        "        print(\"The cat meows\")\n",
        "\n",
        "d = Dog()\n",
        "d.sound()\n"
      ],
      "metadata": {
        "colab": {
          "base_uri": "https://localhost:8080/"
        },
        "id": "-iYBKH0Zsy7-",
        "outputId": "51b168bc-d62a-47c9-ca36-ebeacd1babbc"
      },
      "execution_count": 6,
      "outputs": [
        {
          "output_type": "stream",
          "name": "stdout",
          "text": [
            "The dog barks\n"
          ]
        }
      ]
    },
    {
      "cell_type": "markdown",
      "source": [
        " 16 What are the advantages of OOP+ ?\n",
        " Object-Oriented Programming (OOP) offers several key advantages that make software development more organized, reusable, and scalable. Here are the main benefits:\n",
        "\n",
        "1. Modularity\n",
        "OOP allows breaking down a program into smaller, self-contained objects (classes), each handling specific functionality. This makes the code more organized and easier to understand.\n",
        "\n",
        "2. Code Reusability\n",
        "Using inheritance, you can reuse existing code by creating new classes from existing ones. This avoids duplication and speeds up development.\n",
        "\n",
        "3. Encapsulation\n",
        "OOP provides data protection by hiding the internal details of objects and only exposing what’s necessary. This improves security and prevents accidental changes.\n",
        "\n",
        "4. Polymorphism\n",
        "With polymorphism, the same interface (like a method name) can work differently based on the object. This adds flexibility and makes it easier to extend functionality without changing existing code.\n",
        "\n",
        "5. Abstraction\n",
        "OOP lets you hide complex implementation details and expose only the relevant parts, making programs easier to use and maintain.\n",
        "\n",
        "6. Easy Maintenance and Upgrades\n",
        "Because of modular structure and encapsulation, updating or fixing code becomes easier. Changes in one part of the program usually don’t affect other parts.\n",
        "\n",
        "7. Improved Collaboration\n",
        "In large projects, teams can work on different classes or modules independently, improving teamwork and reducing conflicts.\n",
        "\n",
        "8. Real-World Modeling\n",
        "OOP closely mimics real-world objects and relationships, making it intuitive to design systems like banking apps, hospital systems, etc.\n",
        "\n"
      ],
      "metadata": {
        "id": "AFctIIbrtKsJ"
      }
    },
    {
      "cell_type": "markdown",
      "source": [
        "17 What is the difference between a class variable and an instance variable+ ?\n",
        "In Object-Oriented Programming, especially in Python, class variables and instance variables are used to store data, but they work differently in terms of scope and behavior.\n",
        "\n",
        "Class Variable\n",
        "A class variable is shared across all instances of the class.\n",
        "\n",
        "It is defined inside the class but outside any methods.\n",
        "\n",
        "All objects refer to the same memory location for this variable.\n",
        "\n",
        "Used when the value should be common for all objects (like a counter or a constant).\n",
        "\n",
        "Instance Variable\n",
        "An instance variable is unique to each object (instance).\n",
        "\n",
        "It is usually defined inside the __init__() method using self.\n",
        "\n",
        "Each object gets its own copy of the variable.\n",
        "\n",
        "Used when each object should store different data.\n"
      ],
      "metadata": {
        "id": "7tsAJn42tSbD"
      }
    },
    {
      "cell_type": "code",
      "source": [
        "class Student:\n",
        "    college = \"ABC University\"\n",
        "\n",
        "    def __init__(self, name, roll):\n",
        "        self.name = name\n",
        "        self.roll = roll\n",
        "\n",
        "s1 = Student(\"Utkaarsh\", 101)\n",
        "s2 = Student(\"Riya\", 102)\n",
        "\n",
        "print(s1.college)\n",
        "print(s2.college)\n",
        "\n",
        "print(s1.name)\n",
        "print(s2.name)\n"
      ],
      "metadata": {
        "id": "_VKuzx37ImYw"
      },
      "execution_count": null,
      "outputs": []
    },
    {
      "cell_type": "markdown",
      "source": [
        "18 What is multiple inheritance in Python+ ?\n",
        "Multiple inheritance is a feature in Python where a class can inherit from more than one parent class. This means a child class can access the attributes and methods of multiple base classes, allowing it to combine functionalities from all of them.\n",
        "\n",
        "Python supports multiple inheritance directly, unlike some other languages like Java (which only supports it through interfaces). However, it must be used carefully to avoid complexity and confusion, especially when parent classes have methods with the same name.\n",
        "\n"
      ],
      "metadata": {
        "id": "vlVlC6AiIsYf"
      }
    },
    {
      "cell_type": "code",
      "source": [
        "class Father:\n",
        "    def skills(self):\n",
        "        print(\"Gardening and Carpentry\")\n",
        "\n",
        "class Mother:\n",
        "    def skills(self):\n",
        "        print(\"Cooking and Painting\")\n",
        "\n",
        "class Child(Father, Mother):\n",
        "    def skills(self):\n",
        "        print(\"Coding, \", end=\"\")\n",
        "        Father.skills(self)\n",
        "        Mother.skills(self)\n",
        "\n",
        "c = Child()\n",
        "c.skills()\n"
      ],
      "metadata": {
        "id": "5vdUL7_8I1KL"
      },
      "execution_count": null,
      "outputs": []
    },
    {
      "cell_type": "markdown",
      "source": [
        "\n",
        " 19 Explain the purpose of ‘’__str__’ and ‘__repr__’ ‘ methods in Python ?\n",
        "\n",
        "  __str__(self) – User-friendly string representation\n",
        "Used when you call print(object) or use str(object)\n",
        "\n",
        "Goal: Return a readable, nicely formatted string for end users\n",
        "\n",
        "Should be easy to understand\n",
        "\n",
        " __repr__(self) – Unambiguous string representation\n",
        "Used when you enter the object in the Python shell or use repr(object)\n",
        "\n",
        "Goal: Return a string that could be used to recreate the object (or at least is more precise for debugging)\n",
        "\n",
        "Preferred for developers\n",
        "\n"
      ],
      "metadata": {
        "id": "Y_uEvCbPI3QD"
      }
    },
    {
      "cell_type": "code",
      "source": [
        "class Book:\n",
        "    def __init__(self, title, author):\n",
        "        self.title = title\n",
        "        self.author = author\n",
        "\n",
        "    def __str__(self):\n",
        "        return f\"{self.title} by {self.author}\"\n",
        "\n",
        "book = Book(\"1984\", \"George Orwell\")\n",
        "print(book)\n"
      ],
      "metadata": {
        "id": "-J0gws2zJZF7"
      },
      "execution_count": null,
      "outputs": []
    },
    {
      "cell_type": "code",
      "source": [
        "class Book:\n",
        "    def __init__(self, title, author):\n",
        "        self.title = title\n",
        "        self.author = author\n",
        "\n",
        "    def __repr__(self):\n",
        "        return f\"Book('{self.title}', '{self.author}')\"\n",
        "\n",
        "book = Book(\"1984\", \"George Orwell\")\n",
        "print(repr(book))"
      ],
      "metadata": {
        "id": "9q4Z4BKbJb_G"
      },
      "execution_count": null,
      "outputs": []
    },
    {
      "cell_type": "markdown",
      "source": [
        "20 What is the significance of the ‘super()’ function in Python+ ?\n",
        "The super() function in Python is used to call a method from a parent (or superclass) inside a child (or subclass). It is especially important in inheritance, and helps you write more maintainable and cleaner code.\n",
        "Purpose of super():\n",
        "Access parent class methods or constructors without explicitly naming the parent.\n",
        "\n",
        "Support multiple inheritance properly.\n",
        "\n",
        "Avoid code duplication when you override methods.\n",
        "\n"
      ],
      "metadata": {
        "id": "jOzhfziLJnKH"
      }
    },
    {
      "cell_type": "code",
      "source": [
        "class Animal:\n",
        "    def __init__(self, name):\n",
        "        self.name = name\n",
        "\n",
        "class Dog(Animal):\n",
        "    def __init__(self, name, breed):\n",
        "        super().__init__(name)\n",
        "        self.breed = breed\n",
        "\n",
        "d = Dog(\"Buddy\", \"Labrador\")\n",
        "print(d.name)\n",
        "print(d.breed)\n"
      ],
      "metadata": {
        "id": "XptjoPb_Js4m"
      },
      "execution_count": null,
      "outputs": []
    },
    {
      "cell_type": "markdown",
      "source": [
        "20 What is the significance of the __del__ method in Python+ ?\\\n",
        "The __del__ method in Python is a special method called a destructor. It is automatically called when an object is about to be destroyed (i.e., when it is garbage collected).\n",
        "Purpose of __del__:\n",
        "To define cleanup actions (like closing a file, releasing memory, or disconnecting a network socket) before an object is deleted.\n",
        "\n",
        "Called when the object’s reference count drops to zero (i.e., no references to the object remain).\n",
        "\n"
      ],
      "metadata": {
        "id": "8AFO9iMbJucf"
      }
    },
    {
      "cell_type": "code",
      "source": [
        "class FileHandler:\n",
        "    def __init__(self, filename):\n",
        "        self.file = open(filename, 'w')\n",
        "        print(\"File opened\")\n",
        "\n",
        "    def __del__(self):\n",
        "        self.file.close()\n",
        "        print(\"File closed\")\n",
        "\n",
        "f = FileHandler(\"demo.txt\")\n",
        "del f\n",
        "\n"
      ],
      "metadata": {
        "id": "LWlZIoBvKHVR"
      },
      "execution_count": null,
      "outputs": []
    },
    {
      "cell_type": "markdown",
      "source": [
        "21 What is the difference between @staticmethod and @classmethod in Python+ ?\n",
        "\n",
        " @staticmethod\n",
        "Does not take self or cls as the first argument.\n",
        "\n",
        "Cannot access or modify instance attributes or class attributes.\n",
        "\n",
        "Works like a regular function, but defined inside a class.\n",
        "\n",
        "Used for utility/helper functions related to the class.\n",
        "\n",
        "Can be called using the class name or an instance.\n",
        "\n",
        "Defined using the @staticmethod decorator.\n",
        "\n",
        "\n",
        "@classmethod\n",
        "Takes cls (the class itself) as the first argument.\n",
        "\n",
        "Cannot access instance attributes, but can access/modify class attributes.\n",
        "\n",
        "Used when a method needs to know about the class, not the instance.\n",
        "\n",
        "Commonly used for factory methods (alternative constructors).\n",
        "\n",
        "Can be called using the class name or an instance.\n",
        "\n",
        "Defined using the @classmethod decorator."
      ],
      "metadata": {
        "id": "mU9aECYOKKuY"
      }
    },
    {
      "cell_type": "code",
      "source": [
        "class Math:\n",
        "    @staticmethod\n",
        "    def square(x):\n",
        "        return x * x\n",
        "\n",
        "print(Math.square(4))\n"
      ],
      "metadata": {
        "id": "l8FxXQmQKrf3"
      },
      "execution_count": null,
      "outputs": []
    },
    {
      "cell_type": "code",
      "source": [
        "class Person:\n",
        "    count = 0\n",
        "\n",
        "    def __init__(self, name):\n",
        "        self.name = name\n",
        "        Person.count += 1\n",
        "\n",
        "    @classmethod\n",
        "    def get_count(cls):\n",
        "        return cls.count\n",
        "\n",
        "print(Person.get_count())\n",
        "p1 = Person(\"Alice\")\n",
        "p2 = Person(\"Bob\")\n",
        "print(Person.get_count())\n"
      ],
      "metadata": {
        "id": "tk_h-iJzKuR5"
      },
      "execution_count": null,
      "outputs": []
    },
    {
      "cell_type": "markdown",
      "source": [
        "How does polymorphism work in Python with inheritance+\n",
        "Polymorphism means \"many forms.\"\n",
        "\n",
        "In Python, it allows objects of different classes to be treated using the same interface (i.e., same method name).\n",
        "\n",
        "It enables code reusability and flexibility.\n",
        "\n",
        "How Polymorphism Works with Inheritance:\n",
        "Parent class defines a method.\n",
        "\n",
        "Child classes inherit from the parent and override the method.\n",
        "\n",
        "You can call the same method name on objects of different child classes, and each will behave differently based on its class."
      ],
      "metadata": {
        "id": "dov0nVSCLJPw"
      }
    },
    {
      "cell_type": "code",
      "source": [
        "class Animal:\n",
        "    def speak(self):\n",
        "        print(\"Animal speaks\")\n",
        "\n",
        "class Dog(Animal):\n",
        "    def speak(self):\n",
        "        print(\"Dog barks\")\n",
        "\n",
        "class Cat(Animal):\n",
        "    def speak(self):\n",
        "        print(\"Cat meows\")\n",
        "\n",
        "# Using polymorphism\n",
        "animals = [Dog(), Cat(), Animal()]\n",
        "\n",
        "for animal in animals:\n",
        "    animal.speak()\n"
      ],
      "metadata": {
        "colab": {
          "base_uri": "https://localhost:8080/"
        },
        "id": "STlAfnT2LYIH",
        "outputId": "56a26c3d-8070-4f22-ce13-a703904e8d26"
      },
      "execution_count": 1,
      "outputs": [
        {
          "output_type": "stream",
          "name": "stdout",
          "text": [
            "Dog barks\n",
            "Cat meows\n",
            "Animal speaks\n"
          ]
        }
      ]
    },
    {
      "cell_type": "markdown",
      "source": [
        "24 What is method chaining in Python OOP+ ?\n",
        "Method chaining in Python OOP is a technique where multiple methods are called on the same object in a single line, one after another. It creates a chain of method calls and is possible when each method returns the object itself (usually using return self). This approach makes code look clean, fluent, and more readable.\n",
        "\n",
        "In Object-Oriented Programming, method chaining is often used to perform a sequence of operations on the same object without breaking them into separate lines. It's especially useful in builder patterns, data processing pipelines, and frameworks like pandas, Django ORM, etc.\n",
        "\n"
      ],
      "metadata": {
        "id": "thczgRQALdCv"
      }
    },
    {
      "cell_type": "code",
      "source": [
        "class Student:\n",
        "    def __init__(self, name):\n",
        "        self.name = name\n",
        "        self.courses = []\n",
        "\n",
        "    def enroll(self, course):\n",
        "        self.courses.append(course)\n",
        "        return self\n",
        "\n",
        "    def show(self):\n",
        "        print(f\"{self.name} is enrolled in: {', '.join(self.courses)}\")\n",
        "        return self\n",
        "\n",
        "\n",
        "s1 = Student(\"Utkaarsh\")\n",
        "s1.enroll(\"Math\").enroll(\"Science\").show()\n"
      ],
      "metadata": {
        "colab": {
          "base_uri": "https://localhost:8080/"
        },
        "id": "fSQ19-U9LzRX",
        "outputId": "f67b5a5f-4a7e-4213-bb9e-ba6af1213471"
      },
      "execution_count": 3,
      "outputs": [
        {
          "output_type": "stream",
          "name": "stdout",
          "text": [
            "Utkaarsh is enrolled in: Math, Science\n"
          ]
        },
        {
          "output_type": "execute_result",
          "data": {
            "text/plain": [
              "<__main__.Student at 0x7c507c8dbb50>"
            ]
          },
          "metadata": {},
          "execution_count": 3
        }
      ]
    },
    {
      "cell_type": "markdown",
      "source": [
        "25 What is the purpose of the __call__ method in Python ?\n",
        "\n",
        "In Python, the __call__() method allows an instance of a class to be called like a regular function. When you define the __call__() method inside a class, it means that objects of that class become callable, i.e., you can use parentheses () on them as if they were functions.\n",
        "\n",
        "Makes objects function-like, allowing more flexible and intuitive usage.\n",
        "\n",
        "Often used in function wrappers, custom decorators, machine learning models (e.g., calling a model on input data), and command patterns.\n",
        "\n",
        "Helps implement objects that need to behave like functions but also maintain internal state."
      ],
      "metadata": {
        "id": "kAOhXn64L-X4"
      }
    },
    {
      "cell_type": "code",
      "source": [
        "class Greeter:\n",
        "    def __init__(self, greeting):\n",
        "        self.greeting = greeting\n",
        "\n",
        "    def __call__(self, name):\n",
        "        print(f\"{self.greeting}, {name}!\")\n",
        "\n",
        "g = Greeter(\"Hello\")\n",
        "g(\"Utkarsh\")\n"
      ],
      "metadata": {
        "colab": {
          "base_uri": "https://localhost:8080/"
        },
        "id": "pX1UlPVmMNwY",
        "outputId": "6a7bfaae-5a14-4945-831a-620e8f5bc386"
      },
      "execution_count": 4,
      "outputs": [
        {
          "output_type": "stream",
          "name": "stdout",
          "text": [
            "Hello, Utkarsh!\n"
          ]
        }
      ]
    },
    {
      "cell_type": "markdown",
      "source": [
        "Practical Questions"
      ],
      "metadata": {
        "id": "wJzfUKFCMZp5"
      }
    },
    {
      "cell_type": "markdown",
      "source": [
        "1. Create a parent class Animal with a method speak() that prints a generic message. Create a child class Dog\n",
        "that overrides the speak() method to print \"Bark!\"."
      ],
      "metadata": {
        "id": "YiEPH9QjOxwf"
      }
    },
    {
      "cell_type": "code",
      "source": [
        "class Animal:\n",
        "    def speak(self):\n",
        "        print(\"Animal speaks\")\n",
        "\n",
        "class Dog(Animal):\n",
        "    def speak(self):\n",
        "        print(\"Bark!\")\n",
        "\n",
        "animal = Animal()\n",
        "dog = Dog()\n",
        "\n",
        "animal.speak()\n",
        "dog.speak()"
      ],
      "metadata": {
        "colab": {
          "base_uri": "https://localhost:8080/"
        },
        "id": "NCPoiloAO129",
        "outputId": "330db8bc-3f39-45d6-c87b-7ddc4debcba1"
      },
      "execution_count": 15,
      "outputs": [
        {
          "output_type": "stream",
          "name": "stdout",
          "text": [
            "Animal speaks\n",
            "Bark!\n"
          ]
        }
      ]
    },
    {
      "cell_type": "markdown",
      "source": [
        "2. Write a program to create an abstract class Shape with a method area(). Derive classes Circle and Rectangle\n",
        "from it and implement the area() method in both."
      ],
      "metadata": {
        "id": "SPDDH9lgPErQ"
      }
    },
    {
      "cell_type": "code",
      "source": [
        "from abc import ABC, abstractmethod\n",
        "\n",
        "class Shape(ABC):\n",
        "    @abstractmethod\n",
        "    def area(self):\n",
        "        pass\n",
        "\n",
        "class Circle(Shape):\n",
        "    def __init__(self, radius):\n",
        "        self.radius = radius\n",
        "\n",
        "    def area(self):\n",
        "        return 3.14 * self.radius * self.radius\n",
        "\n",
        "class Rectangle(Shape):\n",
        "    def __init__(self, width, height):\n",
        "        self.width = width\n",
        "        self.height = height\n",
        "\n",
        "    def area(self):\n",
        "        return self.width * self.height\n",
        "\n",
        "circle = Circle(5)\n",
        "rectangle = Rectangle(4, 6)\n",
        "\n",
        "print(f\"Area of Circle: {circle.area()}\")\n",
        "print(f\"Area of Rectangle: {rectangle.area()}\")"
      ],
      "metadata": {
        "colab": {
          "base_uri": "https://localhost:8080/"
        },
        "id": "T0hLnhWtPFrq",
        "outputId": "33e5d33f-d401-49f0-d61f-76744b41503c"
      },
      "execution_count": 6,
      "outputs": [
        {
          "output_type": "stream",
          "name": "stdout",
          "text": [
            "Area of Circle: 78.5\n",
            "Area of Rectangle: 24\n"
          ]
        }
      ]
    },
    {
      "cell_type": "markdown",
      "source": [
        "3. Implement a multi-level inheritance scenario where a class Vehicle has an attribute type. Derive a class Car\n",
        "and further derive a class ElectricCar that adds a battery attribute."
      ],
      "metadata": {
        "id": "gvsOyDthPbtv"
      }
    },
    {
      "cell_type": "code",
      "source": [
        "class Vehicle:\n",
        "    def __init__(self, vehicle_type):\n",
        "        self.type = vehicle_type\n",
        "\n",
        "class Car(Vehicle):\n",
        "    def __init__(self, vehicle_type, model):\n",
        "        super().__init__(vehicle_type)\n",
        "        self.model = model\n",
        "\n",
        "class ElectricCar(Car):\n",
        "    def __init__(self, vehicle_type, model, battery_capacity):\n",
        "        super().__init__(vehicle_type, model)\n",
        "        self.battery = battery_capacity\n",
        "\n",
        "# Example usage:\n",
        "electric_car = ElectricCar(\"Car\", \"Tesla Model S\", \"100 kWh\")\n",
        "\n",
        "print(f\"Vehicle Type: {electric_car.type}\")\n",
        "print(f\"Model: {electric_car.model}\")\n",
        "print(f\"Battery Capacity: {electric_car.battery}\")"
      ],
      "metadata": {
        "colab": {
          "base_uri": "https://localhost:8080/"
        },
        "id": "DGEXxGKRPfmC",
        "outputId": "6ae9bf71-b893-4483-98e1-a34847a9929b"
      },
      "execution_count": 7,
      "outputs": [
        {
          "output_type": "stream",
          "name": "stdout",
          "text": [
            "Vehicle Type: Car\n",
            "Model: Tesla Model S\n",
            "Battery Capacity: 100 kWh\n"
          ]
        }
      ]
    },
    {
      "cell_type": "markdown",
      "source": [
        "4. Demonstrate polymorphism by creating a base class Bird with a method fly(). Create two derived classes\n",
        "Sparrow and Penguin that override the fly() method."
      ],
      "metadata": {
        "id": "bS0IpAB9PtGb"
      }
    },
    {
      "cell_type": "code",
      "source": [
        "class Bird:\n",
        "    def fly(self):\n",
        "        print(\"This bird can fly\")\n",
        "\n",
        "class Sparrow(Bird):\n",
        "    def fly(self):\n",
        "        print(\"The sparrow flies away\")\n",
        "\n",
        "class Penguin(Bird):\n",
        "    def fly(self):\n",
        "        print(\"The penguin cannot fly, but can swim\")\n",
        "\n",
        "birds = [Sparrow(), Penguin(), Bird()]\n",
        "\n",
        "for bird in birds:\n",
        "    bird.fly()"
      ],
      "metadata": {
        "colab": {
          "base_uri": "https://localhost:8080/"
        },
        "id": "0-K_DKYYPt45",
        "outputId": "7dd9b6c5-6c88-437e-b0bb-f85575127c61"
      },
      "execution_count": 8,
      "outputs": [
        {
          "output_type": "stream",
          "name": "stdout",
          "text": [
            "The sparrow flies away\n",
            "The penguin cannot fly, but can swim\n",
            "This bird can fly\n"
          ]
        }
      ]
    },
    {
      "cell_type": "markdown",
      "source": [
        "5. Write a program to demonstrate encapsulation by creating a class BankAccount with private attributes\n",
        "balance and methods to deposit, withdraw, and check balance."
      ],
      "metadata": {
        "id": "LuiIZjgrQFUW"
      }
    },
    {
      "cell_type": "code",
      "source": [
        "class BankAccount:\n",
        "    def __init__(self, balance):\n",
        "        self.__balance = balance\n",
        "\n",
        "    def deposit(self, amount):\n",
        "        if amount > 0:\n",
        "            self.__balance += amount\n",
        "            print(f\"Deposited: {amount}. New balance: {self.__balance}\")\n",
        "        else:\n",
        "            print(\"Deposit amount must be positive.\")\n",
        "\n",
        "    def withdraw(self, amount):\n",
        "        if 0 < amount <= self.__balance:\n",
        "            self.__balance -= amount\n",
        "            print(f\"Withdrew: {amount}. New balance: {self.__balance}\")\n",
        "        else:\n",
        "            print(\"Invalid withdrawal amount or insufficient balance.\")\n",
        "\n",
        "    def get_balance(self):\n",
        "        return self.__balance\n",
        "\n",
        "# Example usage:\n",
        "account = BankAccount(1000)\n",
        "account.deposit(500)\n",
        "account.withdraw(200)\n",
        "print(f\"Current balance: {account.get_balance()}\")\n",
        "\n"
      ],
      "metadata": {
        "colab": {
          "base_uri": "https://localhost:8080/"
        },
        "id": "xJwjKU0dQE94",
        "outputId": "4661a73d-1d30-41f9-a482-2a1897517ae0"
      },
      "execution_count": 9,
      "outputs": [
        {
          "output_type": "stream",
          "name": "stdout",
          "text": [
            "Deposited: 500. New balance: 1500\n",
            "Withdrew: 200. New balance: 1300\n",
            "Current balance: 1300\n"
          ]
        }
      ]
    },
    {
      "cell_type": "markdown",
      "source": [
        "6. Demonstrate runtime polymorphism using a method play() in a base class Instrument. Derive classes Guitar\n",
        "and Piano that implement their own version of play()."
      ],
      "metadata": {
        "id": "UJ_Qc7_0Qn3l"
      }
    },
    {
      "cell_type": "code",
      "source": [
        "class Instrument:\n",
        "    def play(self):\n",
        "        print(\"Playing a generic instrument sound\")\n",
        "\n",
        "class Guitar(Instrument):\n",
        "    def play(self):\n",
        "        print(\"Playing a guitar riff\")\n",
        "\n",
        "class Piano(Instrument):\n",
        "    def play(self):\n",
        "        print(\"Playing a piano melody\")\n",
        "\n",
        "# Using polymorphism\n",
        "instruments = [Guitar(), Piano(), Instrument()]\n",
        "\n",
        "for instrument in instruments:\n",
        "    instrument.play()"
      ],
      "metadata": {
        "colab": {
          "base_uri": "https://localhost:8080/"
        },
        "id": "0j5cIsIMSxk1",
        "outputId": "c678f6a9-f57a-41db-bcd3-5c5609855eca"
      },
      "execution_count": 10,
      "outputs": [
        {
          "output_type": "stream",
          "name": "stdout",
          "text": [
            "Playing a guitar riff\n",
            "Playing a piano melody\n",
            "Playing a generic instrument sound\n"
          ]
        }
      ]
    },
    {
      "cell_type": "markdown",
      "source": [
        "7. Create a class MathOperations with a class method add_numbers() to add two numbers and a static\n",
        "method subtract_numbers() to subtract two numbers."
      ],
      "metadata": {
        "id": "v2008lqGQ85R"
      }
    },
    {
      "cell_type": "code",
      "source": [
        "class MathOperations:\n",
        "    @classmethod\n",
        "    def add_numbers(cls, x, y):\n",
        "        return x + y\n",
        "\n",
        "    @staticmethod\n",
        "    def subtract_numbers(x, y):\n",
        "        return x - y\n",
        "\n",
        "# Example usage:\n",
        "print(f\"Sum: {MathOperations.add_numbers(5, 3)}\")\n",
        "print(f\"Difference: {MathOperations.subtract_numbers(10, 4)}\")"
      ],
      "metadata": {
        "id": "KpI8rR5zS3iD"
      },
      "execution_count": null,
      "outputs": []
    },
    {
      "cell_type": "markdown",
      "source": [
        "8. Implement a class Person with a class method to count the total number of persons created."
      ],
      "metadata": {
        "id": "1UhUx4PJRUtd"
      }
    },
    {
      "cell_type": "code",
      "source": [
        "class Person:\n",
        "    count = 0\n",
        "\n",
        "    def __init__(self, name):\n",
        "        self.name = name\n",
        "        Person.count += 1\n",
        "\n",
        "    @classmethod\n",
        "    def get_count(cls):\n",
        "        return cls.count\n",
        "\n",
        "# Example usage:\n",
        "print(Person.get_count())\n",
        "p1 = Person(\"Alice\")\n",
        "p2 = Person(\"Bob\")\n",
        "print(Person.get_count())"
      ],
      "metadata": {
        "colab": {
          "base_uri": "https://localhost:8080/"
        },
        "id": "n6U2vAHeTB2u",
        "outputId": "26d8e855-af86-4888-9d82-47fe07d1999c"
      },
      "execution_count": 11,
      "outputs": [
        {
          "output_type": "stream",
          "name": "stdout",
          "text": [
            "0\n",
            "2\n"
          ]
        }
      ]
    },
    {
      "cell_type": "markdown",
      "source": [
        "9. Write a class Fraction with attributes numerator and denominator. Override the str method to display the\n",
        "fraction as \"numerator/denominator\"."
      ],
      "metadata": {
        "id": "blqBTCobRVre"
      }
    },
    {
      "cell_type": "code",
      "source": [
        "class Fraction:\n",
        "    def __init__(self, numerator, denominator):\n",
        "        self.numerator = numerator\n",
        "        self.denominator = denominator\n",
        "\n",
        "    def __str__(self):\n",
        "        return f\"{self.numerator}/{self.denominator}\"\n",
        "\n",
        "# Example usage:\n",
        "fraction = Fraction(3, 4)\n",
        "print(fraction)"
      ],
      "metadata": {
        "id": "qRaczjFDTNcG"
      },
      "execution_count": null,
      "outputs": []
    },
    {
      "cell_type": "markdown",
      "source": [
        "10. Demonstrate operator overloading by creating a class Vector and overriding the add method to add two\n",
        "vectors."
      ],
      "metadata": {
        "id": "gEnXOGBcTRza"
      }
    },
    {
      "cell_type": "code",
      "source": [
        "class Vector:\n",
        "    def __init__(self, x, y):\n",
        "        self.x = x\n",
        "        self.y = y\n",
        "\n",
        "    def __str__(self):\n",
        "        return f\"({self.x}, {self.y})\"\n",
        "\n",
        "    def __add__(self, other):\n",
        "        if isinstance(other, Vector):\n",
        "            return Vector(self.x + other.x, self.y + other.y)\n",
        "        else:\n",
        "            raise TypeError(\"Can only add Vector objects\")\n",
        "\n",
        "# Example usage:\n",
        "v1 = Vector(2, 3)\n",
        "v2 = Vector(4, 5)\n",
        "\n",
        "v3 = v1 + v2\n",
        "print(f\"Vector 1: {v1}\")\n",
        "print(f\"Vector 2: {v2}\")\n",
        "print(f\"Sum of Vectors: {v3}\")"
      ],
      "metadata": {
        "id": "1gTIydb6TSvu"
      },
      "execution_count": null,
      "outputs": []
    },
    {
      "cell_type": "markdown",
      "source": [
        "11. Create a class Person with attributes name and age. Add a method greet() that prints \"Hello, my name is\n",
        "{name} and I am {age} years old.\""
      ],
      "metadata": {
        "id": "BF87GYTCTWbv"
      }
    },
    {
      "cell_type": "code",
      "source": [
        "class Person:\n",
        "    def __init__(self, name, age):\n",
        "        self.name = name\n",
        "        self.age = age\n",
        "\n",
        "    def greet(self):\n",
        "        print(f\"Hello, my name is {self.name} and I am {self.age} years old.\")\n",
        "\n",
        "# Example usage:\n",
        "person = Person(\"UTKARSH\", 30)\n",
        "person.greet()"
      ],
      "metadata": {
        "colab": {
          "base_uri": "https://localhost:8080/"
        },
        "id": "OQsQgBHvTXxj",
        "outputId": "26a12854-5d03-443b-e272-d30427721446"
      },
      "execution_count": 13,
      "outputs": [
        {
          "output_type": "stream",
          "name": "stdout",
          "text": [
            "Hello, my name is UTKARSH and I am 30 years old.\n"
          ]
        }
      ]
    },
    {
      "cell_type": "markdown",
      "source": [
        "12. Implement a class Student with attributes name and grades. Create a method average_grade() to compute\n",
        "the average of the grades."
      ],
      "metadata": {
        "id": "HodhV60ETmaM"
      }
    },
    {
      "cell_type": "code",
      "source": [
        "class Student:\n",
        "    def __init__(self, name, grades):\n",
        "        self.name = name\n",
        "        self.grades = grades\n",
        "\n",
        "    def average_grade(self):\n",
        "        if not self.grades:\n",
        "            return 0\n",
        "        return sum(self.grades) / len(self.grades)\n",
        "\n",
        "# Example usage:\n",
        "student = Student(\"Bob\", [85, 90, 78, 92])\n",
        "print(f\"Student: {student.name}\")\n",
        "print(f\"Grades: {student.grades}\")\n",
        "print(f\"Average Grade: {student.average_grade()}\")"
      ],
      "metadata": {
        "id": "ce0ePiqATnMd"
      },
      "execution_count": null,
      "outputs": []
    },
    {
      "cell_type": "markdown",
      "source": [
        "13. Create a class Rectangle with methods set_dimensions() to set the dimensions and area() to calculate the\n",
        "area."
      ],
      "metadata": {
        "id": "HR9OvT3rTtDa"
      }
    },
    {
      "cell_type": "code",
      "source": [
        "class Rectangle:\n",
        "    def __init__(self):\n",
        "        self.width = 0\n",
        "        self.height = 0\n",
        "\n",
        "    def set_dimensions(self, width, height):\n",
        "        self.width = width\n",
        "        self.height = height\n",
        "\n",
        "    def area(self):\n",
        "        return self.width * self.height\n",
        "\n",
        "# Example usage:\n",
        "rectangle = Rectangle()\n",
        "rectangle.set_dimensions(5, 10)\n",
        "print(f\"Area of Rectangle: {rectangle.area()}\")"
      ],
      "metadata": {
        "colab": {
          "base_uri": "https://localhost:8080/"
        },
        "id": "KivWK8MITukZ",
        "outputId": "66026114-d6db-4bfe-aeae-c7f6cd2d8b7d"
      },
      "execution_count": 14,
      "outputs": [
        {
          "output_type": "stream",
          "name": "stdout",
          "text": [
            "Area of Rectangle: 50\n"
          ]
        }
      ]
    },
    {
      "cell_type": "markdown",
      "source": [
        "14. Create a class Employee with a method calculate_salary() that computes the salary based on hours worked\n",
        "and hourly rate. Create a derived class Manager that adds a bonus to the salary."
      ],
      "metadata": {
        "id": "fvc_deDITzx3"
      }
    },
    {
      "cell_type": "code",
      "source": [
        "class Employee:\n",
        "    def __init__(self, hours_worked, hourly_rate):\n",
        "        self.hours_worked = hours_worked\n",
        "        self.hourly_rate = hourly_rate\n",
        "\n",
        "    def calculate_salary(self):\n",
        "        return self.hours_worked * self.hourly_rate\n",
        "\n",
        "class Manager(Employee):\n",
        "    def __init__(self, hours_worked, hourly_rate, bonus):\n",
        "        super().__init__(hours_worked, hourly_rate)\n",
        "        self.bonus = bonus\n",
        "\n",
        "    def calculate_salary(self):\n",
        "        base_salary = super().calculate_salary()\n",
        "        return base_salary + self.bonus\n",
        "\n",
        "# Example usage:\n",
        "employee = Employee(40, 15)\n",
        "manager = Manager(40, 20, 500)\n",
        "\n",
        "print(f\"Employee Salary: {employee.calculate_salary()}\")\n",
        "print(f\"Manager Salary: {manager.calculate_salary()}\")"
      ],
      "metadata": {
        "id": "1MS2fVXbT0u_"
      },
      "execution_count": null,
      "outputs": []
    },
    {
      "cell_type": "markdown",
      "source": [
        "15. Create a class Product with attributes name, price, and quantity. Implement a method total_price() that\n",
        "calculates the total price of the product."
      ],
      "metadata": {
        "id": "fJSA_S_SUAb8"
      }
    },
    {
      "cell_type": "code",
      "source": [
        "class Product:\n",
        "    def __init__(self, name, price, quantity):\n",
        "        self.name = name\n",
        "        self.price = price\n",
        "        self.quantity = quantity\n",
        "\n",
        "    def total_price(self):\n",
        "        return self.price * self.quantity\n",
        "\n",
        "# Example usage:\n",
        "product = Product(\"Book\", 10, 5)\n",
        "print(f\"Product: {product.name}\")\n",
        "print(f\"Price: {product.price}\")\n",
        "print(f\"Quantity: {product.quantity}\")\n",
        "print(f\"Total Price: {product.total_price()}\")"
      ],
      "metadata": {
        "id": "68krBdvAUBR-"
      },
      "execution_count": null,
      "outputs": []
    },
    {
      "cell_type": "markdown",
      "source": [
        "16. Create a class Animal with an abstract method sound(). Create two derived classes Cow and Sheep that\n",
        "implement the sound() method."
      ],
      "metadata": {
        "id": "ZP1F5NhhUFg2"
      }
    },
    {
      "cell_type": "code",
      "source": [
        "from abc import ABC, abstractmethod\n",
        "\n",
        "class Animal(ABC):\n",
        "    @abstractmethod\n",
        "    def sound(self):\n",
        "        pass\n",
        "\n",
        "class Cow(Animal):\n",
        "    def sound(self):\n",
        "        print(\"Moo!\")\n",
        "\n",
        "class Sheep(Animal):\n",
        "    def sound(self):\n",
        "        print(\"Baa!\")\n",
        "\n",
        "cow = Cow()\n",
        "sheep = Sheep()\n",
        "\n",
        "cow.sound()\n",
        "sheep.sound()"
      ],
      "metadata": {
        "id": "gQNjXxf7UGof"
      },
      "execution_count": null,
      "outputs": []
    },
    {
      "cell_type": "markdown",
      "source": [
        "17. Create a class Book with attributes title, author, and year_published. Add a method get_book_info() that\n",
        "returns a formatted string with the book's details."
      ],
      "metadata": {
        "id": "pEEgbMJtUKZ_"
      }
    },
    {
      "cell_type": "code",
      "source": [
        "class Book:\n",
        "    def __init__(self, title, author, year_published):\n",
        "        self.title = title\n",
        "        self.author = author\n",
        "        self.year_published = year_published\n",
        "\n",
        "    def get_book_info(self):\n",
        "        return f\"{self.title} by {self.author}, published in {self.year_published}\"\n",
        "\n",
        "\n",
        "book = Book(\"The Hitchhiker's Guide to the Galaxy\", \"Douglas Adams\", 1979)\n",
        "print(book.get_book_info())"
      ],
      "metadata": {
        "id": "CxcB_tviURGc"
      },
      "execution_count": null,
      "outputs": []
    },
    {
      "cell_type": "markdown",
      "source": [
        "18. Create a class House with attributes address and price. Create a derived class Mansion that adds an\n",
        "attribute number_of_rooms."
      ],
      "metadata": {
        "id": "AKphwYTYUZ_I"
      }
    },
    {
      "cell_type": "code",
      "source": [
        "class House:\n",
        "    def __init__(self, address, price):\n",
        "        self.address = address\n",
        "        self.price = price\n",
        "\n",
        "class Mansion(House):\n",
        "    def __init__(self, address, price, number_of_rooms):\n",
        "        super().__init__(address, price)\n",
        "        self.number_of_rooms = number_of_rooms\n",
        "\n",
        "# Example usage:\n",
        "mansion = Mansion(\"123 Luxury Lane\", 5000000, 20)\n",
        "\n",
        "print(f\"Mansion Address: {mansion.address}\")\n",
        "print(f\"Mansion Price: ${mansion.price}\")\n",
        "print(f\"Number of Rooms: {mansion.number_of_rooms}\")"
      ],
      "metadata": {
        "id": "jf_SzqibUbxo"
      },
      "execution_count": null,
      "outputs": []
    }
  ]
}