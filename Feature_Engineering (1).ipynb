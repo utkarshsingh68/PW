{
  "nbformat": 4,
  "nbformat_minor": 0,
  "metadata": {
    "colab": {
      "provenance": []
    },
    "kernelspec": {
      "name": "python3",
      "display_name": "Python 3"
    },
    "language_info": {
      "name": "python"
    }
  },
  "cells": [
    {
      "cell_type": "markdown",
      "source": [
        "Q1 What is a parameter?\n",
        "Ans\n",
        "A parameter is a numerical value that describes some characteristic of a population.\n",
        "\n",
        "Example: If we want to study the average height of all students in your university, the actual average height of the whole university (everyone included) is called a parameter.\n",
        "\n",
        "It’s usually fixed but unknown, because we can’t always measure the whole population. That’s why we often take a sample and calculate a statistic (like sample mean), which is used to estimate the parameter.\n",
        "\n",
        "So,\n",
        "\n",
        "Parameter → Population characteristic (fixed, usually unknown).\n",
        "\n",
        "Statistic → Sample characteristic (calculated, used to estimate parameter)."
      ],
      "metadata": {
        "id": "lggkJzwR2ALk"
      }
    },
    {
      "cell_type": "markdown",
      "source": [
        "Q2 What is correlation?\n",
        " What does negative correlation mean?\n",
        "Ans\n",
        "Correlation is a statistical measure that shows the strength and direction of the relationship between two variables.\n",
        "\n",
        "It tells us whether the variables increase together, decrease together, or move in opposite directions.\n",
        "\n",
        "The correlation coefficient (usually denoted by r) ranges between –1 and +1.\n",
        "\n",
        "\n",
        "Negative correlation means that when one variable increases, the other variable decreases.\n",
        "\n",
        "The value of r will be less than 0 (e.g., –0.7).\n",
        "\n",
        "Example: The number of hours spent watching TV and exam scores. Generally, if TV time goes up, exam scores go down.\n"
      ],
      "metadata": {
        "id": "ySNzZqOh2XYL"
      }
    },
    {
      "cell_type": "markdown",
      "source": [
        "Q3 How does loss value help in determining whether the model is good or not?\n",
        "\n",
        "Ans\n",
        "The loss value tells us how far off our model’s predictions are from the actual (true) values.\n",
        "\n",
        "A low loss value means the predictions are close to the real answers → the model is performing well.\n",
        "\n",
        "A high loss value means the predictions are very different from the real answers → the model is performing poorly.\n",
        "\n",
        "In training machine learning models, we check the loss after each step (or epoch). If the loss keeps decreasing, it shows the model is learning properly. If the loss stays high or doesn’t improve, the model might not be good, or it might be underfitting/overfitting."
      ],
      "metadata": {
        "id": "Wa1v6tJk3Epw"
      }
    },
    {
      "cell_type": "markdown",
      "source": [
        "Q4 What are continuous and categorical variables ?\n",
        "Ans\n",
        "Continuous Variables\n",
        "\n",
        "A continuous variable can take any numerical value within a range.\n",
        "\n",
        "They are measurable and can have fractions/decimals.\n",
        "\n",
        "Example: Height (170.5 cm), weight (62.3 kg), temperature (36.7°C).\n",
        "\n",
        "\n",
        "Categorical Variables\n",
        "\n",
        "A categorical variable represents groups or categories instead of exact numbers.\n",
        "\n",
        "They are not measured, but classified/labelled.\n",
        "\n",
        "Example: Gender (male/female/other), blood group (A, B, AB, O), colors (red, blue, green).\n",
        "\n"
      ],
      "metadata": {
        "id": "KrCu9PyG3XqC"
      }
    },
    {
      "cell_type": "markdown",
      "source": [
        "Q5 How do we handle categorical variables in Machine Learning? What are the common t\n",
        "echniques?\n",
        "Ans\n",
        "Machine learning models usually work with numbers, not text labels. So, we need to convert categorical variables into numerical form before using them in models.\n",
        "\n",
        "Common Techniques\n",
        "\n",
        "Label Encoding\n",
        "\n",
        "Assigns each category a unique number.\n",
        "\n",
        "Example: Gender → Male = 0, Female = 1.\n",
        "\n",
        "Problem: It may wrongly introduce “order” (model thinks 0 < 1 < 2).\n",
        "\n",
        "One-Hot Encoding\n",
        "\n",
        "Creates a new binary column for each category (1 = present, 0 = not present).\n",
        "\n",
        "Example: Color → [Red, Blue, Green] →\n",
        "\n",
        "Red = [1,0,0], Blue = [0,1,0], Green = [0,0,1].\n",
        "\n",
        "Works well, but increases dataset size if categories are many.\n",
        "\n",
        "Ordinal Encoding\n",
        "\n",
        "Used when categories have a natural order.\n",
        "\n",
        "Example: Education → High School = 1, Graduate = 2, Postgraduate = 3.\n",
        "\n",
        "Target Encoding (Mean Encoding) (advanced)\n",
        "\n",
        "Replace a category with the average of the target variable for that category.\n",
        "\n",
        "Example: If in “City A” average sales = 200, replace City A with 200."
      ],
      "metadata": {
        "id": "ZKVu2BmD3tG0"
      }
    },
    {
      "cell_type": "markdown",
      "source": [
        "Q7  What do you mean by training and testing a dataset?\n",
        "Ans\n",
        "\n",
        "In machine learning, we split our dataset into two parts:\n",
        "\n",
        "Training Dataset\n",
        "\n",
        "This part of the data is used to teach the model.\n",
        "\n",
        "The model looks at the input features and the correct output (labels) to learn patterns.\n",
        "\n",
        "Example: If we’re predicting house prices, the training data has house details (size, location, rooms) and their actual prices.\n",
        "\n",
        "Testing Dataset\n",
        "\n",
        "This part of the data is kept aside and not shown to the model during training.\n",
        "\n",
        "After the model is trained, we use the testing data to check how well the model performs on unseen data.\n",
        "\n",
        "Example: Give the model new house details and see if its predicted price is close to the real price.\n"
      ],
      "metadata": {
        "id": "1_2FYgAD3--j"
      }
    },
    {
      "cell_type": "markdown",
      "source": [
        "Q8 What is sklearn.preprocessing?\n",
        "Ans\n",
        "sklearn.preprocessing is a module in scikit-learn (sklearn) that provides tools to prepare and transform raw data before feeding it into a machine learning model.\n",
        "\n",
        "Since most models work better when data is in a certain format (like normalized, scaled, or encoded), preprocessing makes the data clean, consistent, and machine-friendly.\n",
        "\n",
        "Common Functions in sklearn.preprocessing\n",
        "\n",
        "Scaling & Normalization\n",
        "\n",
        "StandardScaler → makes data have mean = 0 and variance = 1.\n",
        "\n",
        "MinMaxScaler → scales values between 0 and 1.\n",
        "\n",
        "Normalizer → scales row-wise (useful in text classification).\n",
        "\n",
        "Encoding Categorical Data\n",
        "\n",
        "LabelEncoder → converts categories into numbers.\n",
        "\n",
        "OneHotEncoder → converts categories into binary vectors.\n",
        "\n",
        "Feature Transformation\n",
        "\n",
        "PolynomialFeatures → generates polynomial combinations (useful in polynomial regression).\n",
        "\n",
        "Binarizer → turns values into 0/1 based on a threshold."
      ],
      "metadata": {
        "id": "TEJCAUoU4J6E"
      }
    },
    {
      "cell_type": "markdown",
      "source": [
        "Q9 What is a Test set?\n",
        "Ans\n",
        "A test set is the portion of a dataset that is kept aside and not used while training the model.\n",
        "\n",
        "After the model has been trained on the training data, we use the test set to check how well the model can make predictions on unseen data.\n",
        "\n",
        "It helps us measure the model’s accuracy, performance, and generalization ability.\n",
        "\n",
        "Suppose we have 1,000 student exam records.\n",
        "\n",
        "We use 800 records for training (teaching the model the pattern between study hours and marks).\n",
        "\n",
        "The remaining 200 records form the test set (to check if the model can predict marks correctly for new students)."
      ],
      "metadata": {
        "id": "52R2BlMq4o_W"
      }
    },
    {
      "cell_type": "markdown",
      "source": [
        "Q10 How do we split data for model fitting (training and testing) in Python?\n",
        "How do you approach a Machine Learning problem?\n",
        "Ans\n",
        "In Python, we commonly use scikit-learn’s train_test_split function to divide data into training and testing sets."
      ],
      "metadata": {
        "id": "pzaGo0Qb497i"
      }
    },
    {
      "cell_type": "code",
      "source": [
        "from sklearn.model_selection import train_test_split\n",
        "X_train, X_test, y_train, y_test = train_test_split(\n",
        "    X, y, test_size=0.2, random_state=42\n",
        ")\n",
        "\n",
        "\n"
      ],
      "metadata": {
        "colab": {
          "base_uri": "https://localhost:8080/",
          "height": 211
        },
        "id": "P-1MXrn85LvP",
        "outputId": "057379d5-f372-4e78-b238-9f99fb337cf0"
      },
      "execution_count": null,
      "outputs": [
        {
          "output_type": "error",
          "ename": "NameError",
          "evalue": "name 'X' is not defined",
          "traceback": [
            "\u001b[0;31m---------------------------------------------------------------------------\u001b[0m",
            "\u001b[0;31mNameError\u001b[0m                                 Traceback (most recent call last)",
            "\u001b[0;32m/tmp/ipython-input-1294826043.py\u001b[0m in \u001b[0;36m<cell line: 0>\u001b[0;34m()\u001b[0m\n\u001b[1;32m      1\u001b[0m \u001b[0;32mfrom\u001b[0m \u001b[0msklearn\u001b[0m\u001b[0;34m.\u001b[0m\u001b[0mmodel_selection\u001b[0m \u001b[0;32mimport\u001b[0m \u001b[0mtrain_test_split\u001b[0m\u001b[0;34m\u001b[0m\u001b[0;34m\u001b[0m\u001b[0m\n\u001b[1;32m      2\u001b[0m X_train, X_test, y_train, y_test = train_test_split(\n\u001b[0;32m----> 3\u001b[0;31m     \u001b[0mX\u001b[0m\u001b[0;34m,\u001b[0m \u001b[0my\u001b[0m\u001b[0;34m,\u001b[0m \u001b[0mtest_size\u001b[0m\u001b[0;34m=\u001b[0m\u001b[0;36m0.2\u001b[0m\u001b[0;34m,\u001b[0m \u001b[0mrandom_state\u001b[0m\u001b[0;34m=\u001b[0m\u001b[0;36m42\u001b[0m\u001b[0;34m\u001b[0m\u001b[0;34m\u001b[0m\u001b[0m\n\u001b[0m\u001b[1;32m      4\u001b[0m )\n\u001b[1;32m      5\u001b[0m \u001b[0;34m\u001b[0m\u001b[0m\n",
            "\u001b[0;31mNameError\u001b[0m: name 'X' is not defined"
          ]
        }
      ]
    },
    {
      "cell_type": "code",
      "metadata": {
        "colab": {
          "base_uri": "https://localhost:8080/"
        },
        "id": "02c6c407",
        "outputId": "49f33523-2a96-42a5-d956-cf7c7017fcfa"
      },
      "source": [
        "import numpy as np\n",
        "\n",
        "X = np.array([[1, 2], [3, 4], [5, 6], [7, 8], [9, 10]])\n",
        "y = np.array([0, 1, 0, 1, 0])\n",
        "\n",
        "from sklearn.model_selection import train_test_split\n",
        "\n",
        "X_train, X_test, y_train, y_test = train_test_split(\n",
        "    X, y, test_size=0.2, random_state=42\n",
        ")\n",
        "\n",
        "print(\"X_train shape:\", X_train.shape)\n",
        "print(\"X_test shape:\", X_test.shape)\n",
        "print(\"y_train shape:\", y_train.shape)\n",
        "print(\"y_test shape:\", y_test.shape)"
      ],
      "execution_count": null,
      "outputs": [
        {
          "output_type": "stream",
          "name": "stdout",
          "text": [
            "X_train shape: (4, 2)\n",
            "X_test shape: (1, 2)\n",
            "y_train shape: (4,)\n",
            "y_test shape: (1,)\n"
          ]
        }
      ]
    },
    {
      "cell_type": "markdown",
      "source": [
        "test_size=0.2 → 20% for testing, 80% for training.\n",
        "\n",
        "random_state → ensures reproducibility (same split each time).\n",
        "\n",
        "Q2: How do you approach a Machine Learning problem ?\n",
        "\n",
        "The general approach to solving an ML problem can be broken into steps:\n",
        "\n",
        "Understand the Problem\n",
        "\n",
        "Define the objective (e.g., predict house prices, classify diseases).\n",
        "\n",
        "Identify type of ML task: classification, regression, clustering, etc.\n",
        "\n",
        "Collect & Explore Data\n",
        "\n",
        "Gather dataset.\n",
        "\n",
        "Use EDA (Exploratory Data Analysis) → check for missing values, outliers, distributions.\n",
        "\n",
        "Preprocess the Data\n",
        "\n",
        "Handle missing values.\n",
        "\n",
        "Encode categorical variables.\n",
        "\n",
        "Scale/normalize numerical features.\n",
        "\n",
        "Split Data\n",
        "\n",
        "Use training set (to build model) and testing set (to evaluate model).\n",
        "\n",
        "Choose and Train a Model\n",
        "\n",
        "Try suitable algorithms (Linear Regression, Decision Trees, Random Forest, Neural Networks).\n",
        "\n",
        "Evaluate Model\n",
        "\n",
        "Use metrics (accuracy, precision, recall, RMSE, etc.).\n",
        "\n",
        "Compare different models.\n",
        "\n",
        "Tune the Model\n",
        "\n",
        "Use techniques like hyperparameter tuning (GridSearchCV, RandomSearchCV).\n",
        "\n",
        "Deploy the Model\n",
        "\n",
        "Integrate into real-world applications (e.g., web app, mobile app)."
      ],
      "metadata": {
        "id": "uyBtet1M5iui"
      }
    },
    {
      "cell_type": "markdown",
      "source": [
        "Q11 Why do we have to perform EDA before fitting a model to the data?\n",
        "Ans\n",
        "EDA (Exploratory Data Analysis) is the process of exploring and understanding a dataset before building a machine learning model.\n",
        "\n",
        "We perform EDA because:\n",
        "\n",
        "Understand Data Structure\n",
        "\n",
        "Know the number of rows, columns, and types of variables (categorical, continuous, etc.).\n",
        "\n",
        "Detect Missing Values & Outliers\n",
        "\n",
        "Helps identify incomplete or unusual data that can affect model performance.\n",
        "\n",
        "Check Data Distribution\n",
        "\n",
        "Some models assume normal distribution; EDA helps confirm this.\n",
        "\n",
        "Find Relationships Between Variables\n",
        "\n",
        "Correlations and patterns can guide feature selection.\n",
        "\n",
        "Avoid Garbage In, Garbage Out\n",
        "\n",
        "If the data is messy, the model will give poor results, no matter how advanced it is.\n",
        "\n",
        "Example:\n",
        "\n",
        "Suppose you are predicting house prices:\n",
        "\n",
        "EDA might show that “location” strongly affects price.\n",
        "\n",
        "It might also reveal missing values in “number of rooms,” which you need to fix before training."
      ],
      "metadata": {
        "id": "aKhzD-f86Jav"
      }
    },
    {
      "cell_type": "markdown",
      "source": [
        "Q12 What is correlation?\n",
        "Ans\n",
        "Correlation is a statistical measure that shows the strength and direction of the relationship between two variables.\n",
        "\n",
        "It tells us how closely two variables move together.\n",
        "\n",
        "The correlation value (denoted as r) lies between –1 and +1.\n",
        "\n",
        "Types of Correlation\n",
        "\n",
        "Positive Correlation (+r):\n",
        "\n",
        "When one variable increases, the other also increases.\n",
        "\n",
        "Example: Hours studied ⬆ → Marks scored ⬆.\n",
        "\n",
        "Negative Correlation (–r):\n",
        "\n",
        "When one variable increases, the other decreases.\n",
        "\n",
        "Example: Watching TV hours ⬆ → Exam scores ⬇.\n",
        "\n",
        "Zero Correlation (r ≈ 0):\n",
        "\n",
        "No relationship between variables.\n",
        "\n",
        "Example: Shoe size and intelligence."
      ],
      "metadata": {
        "id": "FRfKuE1x6b4w"
      }
    },
    {
      "cell_type": "markdown",
      "source": [
        "Q13 What does Negative Correlation mean?\n",
        "Ans\n",
        "Negative correlation means that when one variable increases, the other variable decreases.\n",
        "\n",
        "The correlation coefficient (r) will be less than 0 (ranges from –1 to 0).\n",
        "\n",
        "The closer r is to –1, the stronger the negative relationship.\n",
        " Example:\n",
        "\n",
        "TV watching hours vs. Exam scores → More TV  → Lower marks .\n",
        "\n",
        "Speed of a car vs. Travel time → Higher speed  → Less travel time ."
      ],
      "metadata": {
        "id": "-hsI3LgI6o8A"
      }
    },
    {
      "cell_type": "markdown",
      "source": [
        "Q14 How can you find correlation between variables in Python?\n",
        "\n",
        "Ans\n",
        "\n",
        "In Python, we mainly use the Pandas and Seaborn/Matplotlib libraries to calculate and visualize correlation."
      ],
      "metadata": {
        "id": "z5XrvbzE7KeK"
      }
    },
    {
      "cell_type": "code",
      "source": [
        "import pandas as pd\n",
        "\n",
        "data = {\n",
        "    'Hours_Studied': [2, 3, 4, 5, 6],\n",
        "    'Marks': [50, 60, 65, 80, 85]\n",
        "}\n",
        "\n",
        "df = pd.DataFrame(data)\n",
        "\n",
        "print(df.corr())\n"
      ],
      "metadata": {
        "colab": {
          "base_uri": "https://localhost:8080/"
        },
        "id": "Gyz6myQR7WBU",
        "outputId": "3a43c5c2-619b-4366-de04-91160c20259f"
      },
      "execution_count": null,
      "outputs": [
        {
          "output_type": "stream",
          "name": "stdout",
          "text": [
            "               Hours_Studied     Marks\n",
            "Hours_Studied       1.000000  0.987878\n",
            "Marks               0.987878  1.000000\n"
          ]
        }
      ]
    },
    {
      "cell_type": "code",
      "source": [
        "import seaborn as sns\n",
        "import matplotlib.pyplot as plt\n",
        "\n",
        "sns.heatmap(df.corr(), annot=True, cmap='coolwarm')\n",
        "plt.show()\n"
      ],
      "metadata": {
        "colab": {
          "base_uri": "https://localhost:8080/",
          "height": 435
        },
        "id": "XTJ80agh7d65",
        "outputId": "aa1e7ae8-d69c-43e9-c384-2105924f2d3f"
      },
      "execution_count": null,
      "outputs": [
        {
          "output_type": "display_data",
          "data": {
            "text/plain": [
              "<Figure size 640x480 with 2 Axes>"
            ],
            "image/png": "[encoded data removed]"
          },
          "metadata": {}
        }
      ]
    },
    {
      "cell_type": "code",
      "source": [
        "from scipy.stats import pearsonr\n",
        "\n",
        "corr, p_value = pearsonr(df['Hours_Studied'], df['Marks'])\n",
        "print(\"Correlation:\", corr)\n",
        "print(\"p-value:\", p_value)\n"
      ],
      "metadata": {
        "colab": {
          "base_uri": "https://localhost:8080/"
        },
        "id": "ZJMNXm817jXJ",
        "outputId": "d2121fff-74f2-4e94-cfd5-1cbe6df6b957"
      },
      "execution_count": null,
      "outputs": [
        {
          "output_type": "stream",
          "name": "stdout",
          "text": [
            "Correlation: 0.9878783399072133\n",
            "p-value: 0.0015991373885635045\n"
          ]
        }
      ]
    },
    {
      "cell_type": "markdown",
      "source": [
        "Q15 What is causation? Explain difference between correlation and causation with an example.\n",
        "\n",
        "Ans\n",
        "\n",
        "What is Causation?\n",
        "\n",
        "Causation means that one variable produces a direct effect on another variable.\n",
        "\n",
        "In simple terms → A causes B.\n",
        "\n",
        "It’s a cause-and-effect relationship, not just an association.\n",
        "\n",
        "Example: If you push a ball (cause), it rolls (effect).\n",
        "\n",
        "What is Correlation?\n",
        "\n",
        "Correlation means that two variables are related (they move together in some way), but one may not cause the other.\n",
        "\n",
        "Example: As height increases, weight also tends to increase. (They are related but height does not directly cause weight).\n",
        "\n",
        "Correlation but NOT causation:\n",
        "\n",
        "In summer, ice cream sales increase  and drowning accidents increase .\n",
        "\n",
        "They are correlated because both rise in hot weather, but eating ice cream doesn’t cause drowning.\n",
        "\n",
        "Causation (real cause-effect):\n",
        "\n",
        "Smoking cigarettes → damages lungs → leads to lung cancer.\n",
        "\n",
        "Here, smoking causes cancer (not just a random relationship)."
      ],
      "metadata": {
        "id": "ZEoy59eU7oMQ"
      }
    },
    {
      "cell_type": "markdown",
      "source": [
        "Q16 What is an Optimizer? What are different types of optimizers? Explain each with an example.\n",
        "\n",
        "Ans\n",
        "\n",
        "In Machine Learning and Deep Learning, an optimizer is an algorithm that updates the weights of a model during training in order to minimize the loss function.\n",
        "\n",
        "The model makes predictions.\n",
        "\n",
        "Loss function calculates the error.\n",
        "\n",
        "Optimizer adjusts the model weights step by step to reduce this error.\n",
        "\n",
        "1. Gradient Descent\n",
        "\n",
        "The most basic optimizer.\n",
        "\n",
        "It calculates the gradient (slope) of the loss function and updates weights in the opposite direction of the gradient.\n",
        "\n",
        "\n",
        "Example:\n",
        "Predicting house prices → weights (coefficients) are updated after each step to minimize prediction error.\n",
        "\n",
        "2. Stochastic Gradient Descent (SGD)\n",
        "\n",
        "Instead of using the entire dataset, it updates weights for each data point (or small batch).\n",
        "\n",
        "Faster than normal Gradient Descent, but more noisy.\n",
        "\n",
        "Example:\n",
        "Training an image classifier → updates weights after looking at 1 (or few) images at a time.\n",
        "\n",
        "3. Momentum\n",
        "\n",
        "Improves SGD by adding a memory of past updates.\n",
        "\n",
        "Helps to move faster in the correct direction and avoid oscillations.\n",
        "\n",
        "Example:\n",
        "Like rolling a ball down a hill—it gains momentum and doesn’t get stuck in small bumps.\n",
        "\n",
        "4. Adagrad (Adaptive Gradient)\n",
        "\n",
        "Adjusts the learning rate for each parameter individually.\n",
        "\n",
        "Works well for sparse data (many zeros).\n",
        "\n",
        "Example:\n",
        "NLP (natural language processing) tasks where many words are rare → Adagrad adjusts learning for each word differently.\n",
        "\n",
        "5. RMSprop (Root Mean Square Propagation)\n",
        "\n",
        "Similar to Adagrad but solves its problem of decreasing learning rate too much.\n",
        "\n",
        "Keeps learning rate adaptive and efficient.\n",
        "\n",
        "Example:\n",
        "Widely used in Recurrent Neural Networks (RNNs) for sequence data like text or time series.\n",
        "\n",
        "6. Adam (Adaptive Moment Estimation)\n",
        "\n",
        "Combines Momentum + RMSprop.\n",
        "\n",
        "The most popular optimizer in deep learning because it’s fast and usually works well without much tuning.\n",
        "\n",
        "Example:\n",
        "Used in almost all deep learning tasks → image recognition, NLP, speech recognition, etc."
      ],
      "metadata": {
        "id": "Jl6O52SX8L5A"
      }
    },
    {
      "cell_type": "markdown",
      "source": [
        "Q17 What is sklearn.linear_model ?\n",
        "\n",
        "Ans\n",
        "\n",
        "sklearn.linear_model is a module in the Python library scikit-learn (sklearn) that provides classes and functions for implementing linear models for machine learning tasks like regression and classification.\n",
        "\n",
        "Linear models assume that the relationship between the input features (X) and the target variable (y) can be represented as a linear combination of the input features.\n",
        "\n",
        "Key Algorithms inside sklearn.linear_model:\n",
        "\n",
        "Linear Regression\n",
        "\n",
        "Class: LinearRegression\n",
        "\n",
        "Used for predicting continuous values.\n",
        "\n",
        "Logistic Regression\n",
        "\n",
        "Class: LogisticRegression\n",
        "\n",
        "Used for binary or multi-class classification problems.\n",
        "\n",
        "Outputs probabilities using the logistic (sigmoid) function.\n",
        "\n",
        "Ridge Regression (L2 regularization)\n",
        "\n",
        "Class: Ridge\n",
        "\n",
        "Adds a penalty term proportional to the square of the coefficients to prevent overfitting.\n",
        "\n",
        "Lasso Regression (L1 regularization)\n",
        "\n",
        "Class: Lasso\n",
        "\n",
        "Shrinks coefficients and can set some to zero, performing feature selection.\n",
        "\n",
        "Elastic Net\n",
        "\n",
        "Class: ElasticNet\n",
        "\n",
        "Combines both L1 (Lasso) and L2 (Ridge) penalties.\n",
        "\n",
        "SGD Classifiers and Regressors\n",
        "\n",
        "Classes: SGDClassifier, SGDRegressor\n",
        "\n",
        "Use Stochastic Gradient Descent to fit linear models efficiently for large datasets.\n",
        "\n",
        "Perceptron\n",
        "\n",
        "Class: Perceptron\n",
        "\n",
        "A simple linear classifier used in early neural networks.\n"
      ],
      "metadata": {
        "id": "3Cb_o9UW8fj3"
      }
    },
    {
      "cell_type": "code",
      "source": [
        "from sklearn.linear_model import LinearRegression\n",
        "import numpy as np\n",
        "\n",
        "X = np.array([[1], [2], [3], [4], [5]])\n",
        "y = np.array([1, 2, 3, 4, 5])\n",
        "\n",
        "model = LinearRegression()\n",
        "model.fit(X, y)\n",
        "\n",
        "print(model.predict([[6]]))  # Output: [6.]\n"
      ],
      "metadata": {
        "colab": {
          "base_uri": "https://localhost:8080/"
        },
        "id": "7uYLGILd8z1n",
        "outputId": "4c0ffcca-8e76-4868-a3ae-89251f3b49f7"
      },
      "execution_count": null,
      "outputs": [
        {
          "output_type": "stream",
          "name": "stdout",
          "text": [
            "[6.]\n"
          ]
        }
      ]
    },
    {
      "cell_type": "markdown",
      "source": [
        "Q18 What does model.fit() do? What arguments must be given?\n",
        "\n",
        "Ans\n",
        "\n",
        " What model.fit() does:\n",
        "\n",
        "Takes in training data (X) and target labels/values (y).\n",
        "\n",
        "Learns the relationship between them (i.e., finds model parameters like weights and bias).\n",
        "\n",
        "Stores these learned parameters inside the model object so you can later call .predict() or .score().\n",
        "\n",
        " Arguments of .fit()\n",
        "\n",
        "Required arguments (almost always):\n",
        "\n",
        "X:\n",
        "\n",
        "Input features (independent variables).\n",
        "\n",
        "Must be array-like, shape = (n_samples, n_features).\n",
        "\n",
        "Example: For 100 students with 2 features (hours studied, hours slept) → shape (100, 2).\n",
        "\n",
        "y:\n",
        "\n",
        "Target values (dependent variable).\n",
        "\n",
        "For regression → continuous values.\n",
        "\n",
        "For classification → class labels (0/1, or multiclass).\n",
        "\n",
        "Shape = (n_samples,) or (n_samples, n_outputs).\n",
        "\n",
        "Optional arguments (depend on the model):\n",
        "\n",
        "sample_weight:\n",
        "\n",
        "Some models (like LinearRegression, LogisticRegression) accept it.\n",
        "\n",
        "Lets you assign different importance (weights) to different samples.\n",
        "\n",
        "Shape = (n_samples,).\n",
        "\n",
        "Example: If some data points are more reliable, you give them higher weights."
      ],
      "metadata": {
        "id": "k7zg-4VM89Ql"
      }
    },
    {
      "cell_type": "code",
      "source": [
        "from sklearn.linear_model import LinearRegression\n",
        "import numpy as np\n",
        "X = np.array([[1], [2], [3], [4], [5]])\n",
        "y = np.array([40, 50, 60, 70, 80])\n",
        "model = LinearRegression()\n",
        "model.fit(X, y)\n",
        "print(\"Coefficient:\", model.coef_)\n",
        "print(\"Intercept:\", model.intercept_)\n"
      ],
      "metadata": {
        "colab": {
          "base_uri": "https://localhost:8080/"
        },
        "id": "k5rV0nUp9IJr",
        "outputId": "8987db19-a885-46bb-aa98-f42f07c80d00"
      },
      "execution_count": null,
      "outputs": [
        {
          "output_type": "stream",
          "name": "stdout",
          "text": [
            "Coefficient: [10.]\n",
            "Intercept: 30.000000000000007\n"
          ]
        }
      ]
    },
    {
      "cell_type": "markdown",
      "source": [
        "Q19 What does model.predict() do? What arguments must be given?\n",
        "\n",
        "Ans\n",
        "\n",
        " What model.predict() does:\n",
        "\n",
        "Takes input data (X_new) with the same structure/features as the training data.\n",
        "\n",
        "Applies the learned model parameters (from .fit()) to compute predictions.\n",
        "\n",
        "Returns the predicted output (y_pred).\n",
        "\n",
        "For regression → continuous values (e.g., house prices).\n",
        "\n",
        "For classification → predicted class labels (e.g., 0 or 1).\n",
        "\n",
        "Arguments of .predict()\n",
        "\n",
        "Required:\n",
        "\n",
        "X:\n",
        "\n",
        "The data you want predictions for.\n",
        "\n",
        "Must be array-like, shape = (n_samples, n_features).\n",
        "\n",
        "Even if predicting for a single sample, it should be 2D (e.g., [[6]], not just 6).\n",
        "\n",
        "No y needed here → because .predict() is only for inputs, it doesn’t require true labels."
      ],
      "metadata": {
        "id": "g-agc5fA9QXi"
      }
    },
    {
      "cell_type": "code",
      "source": [
        "from sklearn.linear_model import LinearRegression\n",
        "import numpy as np\n",
        "\n",
        "X = np.array([[1], [2], [3], [4], [5]])\n",
        "y = np.array([40, 50, 60, 70, 80])\n",
        "\n",
        "model = LinearRegression()\n",
        "model.fit(X, y)\n",
        "\n",
        "prediction = model.predict([[6]])\n",
        "print(\"Predicted marks:\", prediction)\n"
      ],
      "metadata": {
        "colab": {
          "base_uri": "https://localhost:8080/"
        },
        "id": "lqHmN4Ia9hJw",
        "outputId": "45fe0da3-ba37-49b1-ff5b-0ce744638fde"
      },
      "execution_count": null,
      "outputs": [
        {
          "output_type": "stream",
          "name": "stdout",
          "text": [
            "Predicted marks: [90.]\n"
          ]
        }
      ]
    },
    {
      "cell_type": "code",
      "source": [
        "from sklearn.linear_model import LogisticRegression\n",
        "import numpy as np\n",
        "\n",
        "X = np.array([[1, 5], [2, 4], [3, 6], [4, 3], [5, 7]])\n",
        "y = np.array([0, 0, 1, 1, 1])  # 0 = Fail, 1 = Pass\n",
        "\n",
        "model = LogisticRegression()\n",
        "model.fit(X, y)\n",
        "\n",
        "print(model.predict([[3, 5]]))  # Output: [1]\n"
      ],
      "metadata": {
        "colab": {
          "base_uri": "https://localhost:8080/"
        },
        "id": "RSfEPK1z9l7B",
        "outputId": "3c4f01b0-3d7c-4a32-8b2a-a22e5531b25c"
      },
      "execution_count": null,
      "outputs": [
        {
          "output_type": "stream",
          "name": "stdout",
          "text": [
            "[1]\n"
          ]
        }
      ]
    },
    {
      "cell_type": "markdown",
      "source": [
        "Q20 What are continuous and categorical variables?\n",
        "\n",
        "Ans\n",
        "\n",
        "Continuous Variables\n",
        "\n",
        "Variables that can take any numeric value within a range.\n",
        "\n",
        "They are measured, not counted.\n",
        "\n",
        "Can be fractions/decimals (not just whole numbers).\n",
        "\n",
        "Examples:\n",
        "\n",
        "Height (e.g., 170.5 cm)\n",
        "\n",
        "Weight (e.g., 62.8 kg)\n",
        "\n",
        "Temperature (e.g., 36.7 °C)\n",
        "\n",
        "Time taken to run (e.g., 12.34 seconds)\n",
        "\n",
        "They are usually used in regression problems.\n",
        "\n",
        " Categorical Variables\n",
        "\n",
        "Variables that represent categories or groups.\n",
        "\n",
        "They are qualitative, not quantitative.\n",
        "\n",
        "Can be:\n",
        "\n",
        "Nominal (no order) – categories without ranking.\n",
        "\n",
        "Example: Colors (Red, Blue, Green), Gender (Male, Female, Other), City names.\n",
        "\n",
        "Ordinal (ordered categories) – categories with a meaningful order/ranking.\n",
        "\n",
        "Example: Education level (Primary < Secondary < College < PhD), Ratings (Poor < Average < Good < Excellent)."
      ],
      "metadata": {
        "id": "XO90TjyD9rA6"
      }
    },
    {
      "cell_type": "markdown",
      "source": [
        "Q21 🔹 What is Feature Scaling?\n",
        "\n",
        "Feature scaling is the process of transforming the values of numerical features into a similar range so that no single feature dominates others just because of its scale (magnitude of values).\n",
        "\n",
        "For example:\n",
        "\n",
        "Height = 170 cm\n",
        "\n",
        "Salary = ₹50,000\n",
        "\n",
        "Here, \"salary\" has much larger numbers than \"height\". Some algorithms might treat salary as more important just because the numbers are bigger, even if it isn’t truly more important.\n",
        "\n",
        "Why is Feature Scaling Important?\n",
        "\n",
        "Improves model performance\n",
        "\n",
        "Algorithms like KNN, K-means, SVM, Neural Networks are distance-based.\n",
        "\n",
        "If one feature has larger values, it will dominate distance calculations.\n",
        "\n",
        "Scaling ensures fair contribution from all features.\n",
        "\n",
        "Speeds up training\n",
        "\n",
        "In Gradient Descent–based algorithms (like Linear/Logistic Regression, Neural Networks), scaling helps the model converge faster.\n",
        "\n",
        "Without scaling, optimization might take much longer.\n",
        "\n",
        "Ensures coefficients are comparable\n",
        "\n",
        "In linear models (like Linear Regression, Logistic Regression, Ridge, Lasso), scaling makes feature coefficients easier to interpret.\n",
        "\n",
        "Common Methods of Feature Scaling\n",
        "\n",
        "Min-Max Normalization (Rescaling)\n",
        "\n",
        "Scales values to [0, 1] range.\n",
        "\n",
        "Example: Heights between 150–200 cm → scaled to 0–1.\n",
        "\n",
        "Standardization (Z-score scaling)\n",
        "\n",
        "\n",
        "Transforms values to have mean = 0 and standard deviation = 1.\n",
        "\n",
        "Useful when data has positive & negative values.\n",
        "\n",
        "Robust Scaling\n",
        "\n",
        "Uses median and IQR (Interquartile Range).\n",
        "\n",
        "More robust to outliers."
      ],
      "metadata": {
        "id": "0PO3FqKH-WuV"
      }
    },
    {
      "cell_type": "markdown",
      "source": [
        "Q22 How do we perform scaling in Python?\n",
        "\n",
        "Ans\n",
        "\n",
        "Methods of Scaling in Python\n",
        "1. Min-Max Scaling (Normalization)\n",
        "\n",
        "Scales features to a fixed range, usually [0, 1]"
      ],
      "metadata": {
        "id": "pP_70a5t-o9_"
      }
    },
    {
      "cell_type": "code",
      "source": [
        "from sklearn.preprocessing import MinMaxScaler\n",
        "import numpy as np\n",
        "\n",
        "X = np.array([[170, 50000],\n",
        "              [180, 60000],\n",
        "              [160, 40000]])\n",
        "\n",
        "scaler = MinMaxScaler()   # default range = [0, 1]\n",
        "X_scaled = scaler.fit_transform(X)\n",
        "\n",
        "print(\"Normalized Data:\\n\", X_scaled)\n"
      ],
      "metadata": {
        "colab": {
          "base_uri": "https://localhost:8080/"
        },
        "id": "9IiOQDId-3I6",
        "outputId": "6f6315db-15f2-487d-cc54-63c77c332a70"
      },
      "execution_count": null,
      "outputs": [
        {
          "output_type": "stream",
          "name": "stdout",
          "text": [
            "Normalized Data:\n",
            " [[0.5 0.5]\n",
            " [1.  1. ]\n",
            " [0.  0. ]]\n"
          ]
        }
      ]
    },
    {
      "cell_type": "markdown",
      "source": [
        "2. Standardization (Z-score Scaling)\n",
        "\n",
        "Transforms features to have mean = 0 and std = 1."
      ],
      "metadata": {
        "id": "eNQEW7zQ-65x"
      }
    },
    {
      "cell_type": "code",
      "source": [
        "from sklearn.preprocessing import StandardScaler\n",
        "\n",
        "scaler = StandardScaler()\n",
        "X_scaled = scaler.fit_transform(X)\n",
        "\n",
        "print(\"Standardized Data:\\n\", X_scaled)\n"
      ],
      "metadata": {
        "colab": {
          "base_uri": "https://localhost:8080/"
        },
        "id": "KFdr2q7F-8Dq",
        "outputId": "c5133696-d8e8-4e00-b4a1-861e668c6a27"
      },
      "execution_count": null,
      "outputs": [
        {
          "output_type": "stream",
          "name": "stdout",
          "text": [
            "Standardized Data:\n",
            " [[ 0.          0.        ]\n",
            " [ 1.22474487  1.22474487]\n",
            " [-1.22474487 -1.22474487]]\n"
          ]
        }
      ]
    },
    {
      "cell_type": "markdown",
      "source": [
        "Q22 What is sklearn.preprocessing?\n",
        "\n",
        "Ans\n",
        "\n",
        "sklearn.preprocessing is a module in scikit-learn that provides tools to prepare and transform raw data before feeding it into machine learning models.\n",
        "\n",
        "Since most ML algorithms assume data is clean, numerical, and scaled, sklearn.preprocessing helps by:\n",
        "\n",
        "Scaling / Normalizing features\n",
        "\n",
        "Encoding categorical variables\n",
        "\n",
        "Generating polynomial features\n",
        "\n",
        "Handling missing values (imputation tools are in sklearn.impute)\n",
        "\n",
        "Basically, it contains data preprocessing utilities to make raw data model-friendly.\n",
        "\n",
        " Key Functions & Classes in sklearn.preprocessing\n",
        "1. Scaling & Normalization\n",
        "\n",
        "StandardScaler → standardizes data (mean=0, std=1).\n",
        "\n",
        "MinMaxScaler → scales values to [0,1].\n",
        "\n",
        "RobustScaler → scales using median & IQR (good for outliers).\n",
        "\n",
        "MaxAbsScaler → scales to [-1, 1] by max absolute value.\n",
        "\n",
        "Normalizer → scales each row to have unit norm (for text/cosine similarity).\n",
        "\n",
        "2. Encoding Categorical Data\n",
        "\n",
        "LabelEncoder → encodes labels (e.g., “red, green, blue” → 0,1,2).\n",
        "\n",
        "OneHotEncoder → creates binary dummy variables (e.g., “red, green, blue” → [1,0,0], [0,1,0], [0,0,1]).\n",
        "\n",
        "OrdinalEncoder → encodes categories with an order (e.g., small < medium < large → 0,1,2).\n",
        "\n",
        "3. Feature Engineering\n",
        "\n",
        "PolynomialFeatures → generates polynomial combinations\\\n",
        "\n",
        "Binarizer → converts values above a threshold into 1, else 0.\n",
        "\n",
        "4. Other Utilities\n",
        "\n",
        "FunctionTransformer → lets you apply custom transformations.\n",
        "\n",
        "PowerTransformer → makes data more Gaussian-like (Box-Cox, Yeo-Johnson transforms).\n",
        "\n",
        "QuantileTransformer → maps data to a uniform or normal distribution."
      ],
      "metadata": {
        "id": "q6UbMXkS_JxE"
      }
    },
    {
      "cell_type": "code",
      "source": [
        "from sklearn.preprocessing import StandardScaler, OneHotEncoder, PolynomialFeatures\n",
        "import numpy as np\n",
        "\n",
        "X = np.array([[1, 200],\n",
        "              [2, 300],\n",
        "              [3, 400]])\n",
        "scaler = StandardScaler()\n",
        "print(\"Scaled:\\n\", scaler.fit_transform(X))\n",
        "\n",
        "encoder = OneHotEncoder()\n",
        "colors = np.array([[\"Red\"], [\"Green\"], [\"Blue\"], [\"Red\"]])\n",
        "print(\"One-hot:\\n\", encoder.fit_transform(colors).toarray())\n",
        "\n",
        "poly = PolynomialFeatures(degree=2)\n",
        "print(\"Polynomial:\\n\", poly.fit_transform([[2, 3]]))  # expands [2,3] → [1,2,3,4,6,9]\n"
      ],
      "metadata": {
        "colab": {
          "base_uri": "https://localhost:8080/"
        },
        "id": "XzpNQf0M_T_H",
        "outputId": "71edb58e-0dcc-42cc-a5a4-4c50603ffaa9"
      },
      "execution_count": null,
      "outputs": [
        {
          "output_type": "stream",
          "name": "stdout",
          "text": [
            "Scaled:\n",
            " [[-1.22474487 -1.22474487]\n",
            " [ 0.          0.        ]\n",
            " [ 1.22474487  1.22474487]]\n",
            "One-hot:\n",
            " [[0. 0. 1.]\n",
            " [0. 1. 0.]\n",
            " [1. 0. 0.]\n",
            " [0. 0. 1.]]\n",
            "Polynomial:\n",
            " [[1. 2. 3. 4. 6. 9.]]\n"
          ]
        }
      ]
    },
    {
      "cell_type": "markdown",
      "source": [
        "Q24 How do we split data for model fitting (training and testing) in Python?\n",
        "\n",
        "Ans\n",
        "\n",
        "Why Split Data?\n",
        "\n",
        "Training set → used to fit (train) the model.\n",
        "\n",
        "Testing set → used to evaluate the model on unseen data.\n",
        "\n",
        "This prevents overfitting (when a model memorizes training data but fails on new data).\n",
        " How to Split in Python (scikit-learn)\n",
        "\n",
        "We use train_test_split from sklearn.model_selection."
      ],
      "metadata": {
        "id": "yPoa7AFO_hpv"
      }
    },
    {
      "cell_type": "code",
      "source": [
        "from sklearn.model_selection import train_test_split\n",
        "import numpy as np\n",
        "\n",
        "X = np.array([[1], [2], [3], [4], [5], [6], [7], [8]])\n",
        "y = np.array([10, 20, 30, 40, 50, 60, 70, 80])\n",
        "\n",
        "X_train, X_test, y_train, y_test = train_test_split(\n",
        "    X, y, test_size=0.3, random_state=42\n",
        ")\n",
        "\n",
        "print(\"X_train:\\n\", X_train)\n",
        "print(\"X_test:\\n\", X_test)\n"
      ],
      "metadata": {
        "colab": {
          "base_uri": "https://localhost:8080/"
        },
        "id": "2ldOfQaa_tY-",
        "outputId": "e99a08e1-4ec0-4924-aa4e-474d3cf93075"
      },
      "execution_count": null,
      "outputs": [
        {
          "output_type": "stream",
          "name": "stdout",
          "text": [
            "X_train:\n",
            " [[8]\n",
            " [3]\n",
            " [5]\n",
            " [4]\n",
            " [7]]\n",
            "X_test:\n",
            " [[2]\n",
            " [6]\n",
            " [1]]\n"
          ]
        }
      ]
    },
    {
      "cell_type": "markdown",
      "source": [
        "Parameters of train_test_split\n",
        "\n",
        "X, y → Features and target values.\n",
        "\n",
        "test_size → Fraction or number of samples for testing (e.g., 0.2 = 20%).\n",
        "\n",
        "train_size → Fraction for training (optional, since it’s 1 - test_size).\n",
        "\n",
        "random_state → Random seed (for reproducibility).\n",
        "\n",
        "shuffle=True → Shuffles data before splitting (default is True).\n",
        "\n",
        "stratify=y → Ensures the same proportion of classes in train & test (useful in classification)."
      ],
      "metadata": {
        "id": "C6ABMOJA_3HG"
      }
    },
    {
      "cell_type": "code",
      "source": [
        "from sklearn.model_selection import train_test_split\n",
        "\n",
        "X = [[1], [2], [3], [4], [5], [6]]\n",
        "y = [0, 0, 1, 1, 1, 0]  # Class labels\n",
        "\n",
        "X_train, X_test, y_train, y_test = train_test_split(\n",
        "    X, y, test_size=0.33, stratify=y, random_state=42\n",
        ")\n",
        "\n",
        "print(\"Train labels:\", y_train)\n",
        "print(\"Test labels:\", y_test)\n"
      ],
      "metadata": {
        "colab": {
          "base_uri": "https://localhost:8080/"
        },
        "id": "69myIfvE_5Ex",
        "outputId": "180675d3-7aff-4f6f-fb88-f06f38170e2f"
      },
      "execution_count": null,
      "outputs": [
        {
          "output_type": "stream",
          "name": "stdout",
          "text": [
            "Train labels: [0, 1, 0, 1]\n",
            "Test labels: [1, 0]\n"
          ]
        }
      ]
    },
    {
      "cell_type": "markdown",
      "source": [
        "Q25 Explain data encoding?\n",
        "\n",
        "Ans\n",
        "\n",
        "Data encoding is the process of converting categorical (non-numeric) variables into a numerical format so that machine learning algorithms can understand and process them.\n",
        "\n",
        " Most ML models (like Linear Regression, Logistic Regression, SVM, Neural Networks) only work with numbers, not text labels.\n",
        "\n",
        "Example:\n",
        "\n",
        "Raw data: [\"Red\", \"Blue\", \"Green\"]\n",
        "\n",
        "Encoded data: [0, 1, 2] or one-hot vectors like [[1,0,0], [0,1,0], [0,0,1]].\n",
        "\n",
        "Types of Data Encoding\n",
        "1. Label Encoding\n",
        "\n",
        "Converts categories into numeric labels (0, 1, 2, …).\n",
        "\n",
        "Example: [\"Red\", \"Blue\", \"Green\"] → [2, 0, 1].\n",
        "\n",
        "Problem: Algorithms might think Green (1) < Red (2), which may not make sense for nominal data."
      ],
      "metadata": {
        "id": "yhbiOV66ABYh"
      }
    },
    {
      "cell_type": "code",
      "source": [
        "from sklearn.preprocessing import LabelEncoder\n",
        "\n",
        "colors = [\"Red\", \"Blue\", \"Green\", \"Red\"]\n",
        "encoder = LabelEncoder()\n",
        "encoded = encoder.fit_transform(colors)\n",
        "print(encoded)  # [2 0 1 2]\n"
      ],
      "metadata": {
        "colab": {
          "base_uri": "https://localhost:8080/"
        },
        "id": "lrgnJmPOALvV",
        "outputId": "b765fd34-8d6d-4b3a-9201-d1e57b17f2b8"
      },
      "execution_count": null,
      "outputs": [
        {
          "output_type": "stream",
          "name": "stdout",
          "text": [
            "[2 0 1 2]\n"
          ]
        }
      ]
    },
    {
      "cell_type": "markdown",
      "source": [
        "2. One-Hot Encoding\n",
        "\n",
        "Creates a binary column for each category.\n",
        "\n",
        "Example:\n",
        "\n",
        "Colors = [\"Red\", \"Blue\", \"Green\"]\n",
        "\n",
        "Encoded ="
      ],
      "metadata": {
        "id": "0RJBCUBsAPra"
      }
    },
    {
      "cell_type": "code",
      "source": [
        "from sklearn.preprocessing import OneHotEncoder\n",
        "import numpy as np\n",
        "\n",
        "colors = np.array([[\"Red\"], [\"Blue\"], [\"Green\"], [\"Red\"]])\n",
        "encoder = OneHotEncoder()\n",
        "encoded = encoder.fit_transform(colors).toarray()\n",
        "print(encoded)"
      ],
      "metadata": {
        "colab": {
          "base_uri": "https://localhost:8080/"
        },
        "id": "aWsUovviAQpP",
        "outputId": "31ed8f68-921c-4603-ae27-57b287b50f86"
      },
      "execution_count": null,
      "outputs": [
        {
          "output_type": "stream",
          "name": "stdout",
          "text": [
            "[[0. 0. 1.]\n",
            " [1. 0. 0.]\n",
            " [0. 1. 0.]\n",
            " [0. 0. 1.]]\n"
          ]
        }
      ]
    },
    {
      "cell_type": "markdown",
      "metadata": {
        "id": "11e84748"
      },
      "source": [
        "2. One-Hot Encoding\n",
        "\n",
        "Creates a binary column for each category.\n",
        "\n",
        "Example:\n",
        "\n",
        "Colors = [\"Red\", \"Blue\", \"Green\"]\n",
        "\n",
        "Encoded =\n",
        "\n",
        "| Red | Blue | Green |\n",
        "|---|---|---|\n",
        "| 1 | 0 | 0 |\n",
        "| 0 | 1 | 0 |\n",
        "| 0 | 0 | 1 |"
      ]
    },
    {
      "cell_type": "code",
      "source": [
        "from sklearn.preprocessing import OneHotEncoder\n",
        "import numpy as np\n",
        "\n",
        "colors = np.array([[\"Red\"], [\"Blue\"], [\"Green\"], [\"Red\"]])\n",
        "encoder = OneHotEncoder()\n",
        "encoded = encoder.fit_transform(colors).toarray()\n",
        "print(encoded)\n"
      ],
      "metadata": {
        "colab": {
          "base_uri": "https://localhost:8080/"
        },
        "id": "_RocbhqHAY2h",
        "outputId": "d163c9e0-b6bc-4f14-9ab5-e2f8b0fabf8c"
      },
      "execution_count": null,
      "outputs": [
        {
          "output_type": "stream",
          "name": "stdout",
          "text": [
            "[[0. 0. 1.]\n",
            " [1. 0. 0.]\n",
            " [0. 1. 0.]\n",
            " [0. 0. 1.]]\n"
          ]
        }
      ]
    },
    {
      "cell_type": "markdown",
      "source": [
        "3. Ordinal Encoding\n",
        "\n",
        "Assigns ordered numbers when categories have a natural order.\n",
        "\n",
        "Example: Education = [\"High School\", \"Bachelor\", \"Master\", \"PhD\"] → [0,1,2,3].\n",
        "\n",
        "Useful when order matters."
      ],
      "metadata": {
        "id": "7QDGX5w2Ab0H"
      }
    },
    {
      "cell_type": "code",
      "source": [
        "from sklearn.preprocessing import OrdinalEncoder\n",
        "\n",
        "levels = [[\"High School\"], [\"Bachelor\"], [\"Master\"], [\"PhD\"]]\n",
        "encoder = OrdinalEncoder()\n",
        "encoded = encoder.fit_transform(levels)\n",
        "print(encoded)\n"
      ],
      "metadata": {
        "colab": {
          "base_uri": "https://localhost:8080/"
        },
        "id": "s5gxSNClAedq",
        "outputId": "54a1f7ad-40d8-4e9e-a816-a9a1d0725ceb"
      },
      "execution_count": null,
      "outputs": [
        {
          "output_type": "stream",
          "name": "stdout",
          "text": [
            "[[1.]\n",
            " [0.]\n",
            " [2.]\n",
            " [3.]]\n"
          ]
        }
      ]
    },
    {
      "cell_type": "markdown",
      "source": [
        ". Binary / Hash Encoding (advanced, for high-cardinality data)\n",
        "\n",
        "Converts categories into binary numbers or hashes.\n",
        "\n",
        "Useful when there are thousands of unique categories (like zip codes, product IDs).\n",
        "\n",
        "(Libraries like category_encoders in Python provide these.)\n",
        "\n",
        "Choosing Encoding\n",
        "\n",
        "Nominal categories (no order): One-Hot Encoding.\n",
        "\n",
        "Ordinal categories (with order): Ordinal Encoding.\n",
        "\n",
        "High-cardinality features: Hashing / Target encoding.\n",
        "\n",
        "Simple models (trees): Often don’t need encoding (they can handle labels directly)."
      ],
      "metadata": {
        "id": "jRFtmHX-AjUV"
      }
    }
  ]
}