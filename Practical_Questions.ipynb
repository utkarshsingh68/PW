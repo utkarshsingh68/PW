{
  "nbformat": 4,
  "nbformat_minor": 0,
  "metadata": {
    "colab": {
      "provenance": []
    },
    "kernelspec": {
      "name": "python3",
      "display_name": "Python 3"
    },
    "language_info": {
      "name": "python"
    }
  },
  "cells": [
    {
      "cell_type": "markdown",
      "metadata": {
        "id": "0d926974"
      },
      "source": [
        "# Task\n",
        "Solve the following Python programming exercises:\n",
        "1. Write a Python program to print \"Hello, World!\".\n",
        "2. Write a Python program that displays your name and age.\n",
        "3. Write code to print all the pre-defined keywords in Python using the keyword library.\n",
        "4. Write a program that checks if a given word is a Python keyword.\n",
        "5. Create a list and tuple in Python, and demonstrate how attempting to change an element works differently for each.\n",
        "6. Write a function to demonstrate the behavior of mutable and immutable arguments.\n",
        "7. Write a program that performs basic arithmetic operations on two user-input numbers.\n",
        "8. Write a program to demonstrate the use of logical operators.\n",
        "9. Write a Python program to convert user input from string to integer, float, and boolean types.\n",
        "10. Write code to demonstrate type casting with list elements.\n",
        "11. Write a program that checks if a number is positive, negative, or zero.\n",
        "12. Write a for loop to print numbers from 1 to 10.\n",
        "13. Write a Python program to find the sum of all even numbers between 1 and 50.\n",
        "14. Write a program to reverse a string using a while loop.\n",
        "15. Write a Python program to calculate the factorial of a number provided by the user using a while loop."
      ]
    },
    {
      "cell_type": "markdown",
      "metadata": {
        "id": "af32d516"
      },
      "source": [
        "## Solve exercise 1\n",
        "\n",
        "### Subtask:\n",
        "Write a Python program to print \"Hello, World!\".\n"
      ]
    },
    {
      "cell_type": "markdown",
      "metadata": {
        "id": "78a24154"
      },
      "source": [
        "**Reasoning**:\n",
        "The subtask is to print \"Hello, World!\". This can be done with a single line of Python code using the `print()` function.\n",
        "\n"
      ]
    },
    {
      "cell_type": "code",
      "metadata": {
        "colab": {
          "base_uri": "https://localhost:8080/"
        },
        "id": "e03fd040",
        "outputId": "17d9b3fc-3edb-4d57-bfcf-deadf0e63f15"
      },
      "source": [
        "print(\"Hello, World!\")"
      ],
      "execution_count": 2,
      "outputs": [
        {
          "output_type": "stream",
          "name": "stdout",
          "text": [
            "Hello, World!\n"
          ]
        }
      ]
    },
    {
      "cell_type": "markdown",
      "metadata": {
        "id": "b8925f7d"
      },
      "source": [
        "## Solve exercise 2\n",
        "\n",
        "### Subtask:\n",
        "Write a Python program that displays your name and age.\n"
      ]
    },
    {
      "cell_type": "markdown",
      "metadata": {
        "id": "e6a152b4"
      },
      "source": [
        "**Reasoning**:\n",
        "Define variables for name and age and print them.\n",
        "\n"
      ]
    },
    {
      "cell_type": "code",
      "metadata": {
        "colab": {
          "base_uri": "https://localhost:8080/"
        },
        "id": "df26f9b4",
        "outputId": "4b638d65-d7cf-436d-cdfe-48e80316f1ee"
      },
      "source": [
        "name = \"AI Assistant\"\n",
        "age = 1\n",
        "print(f\"My name is {name} and I am {age} years old.\")"
      ],
      "execution_count": 3,
      "outputs": [
        {
          "output_type": "stream",
          "name": "stdout",
          "text": [
            "My name is AI Assistant and I am 1 years old.\n"
          ]
        }
      ]
    },
    {
      "cell_type": "markdown",
      "metadata": {
        "id": "8908a408"
      },
      "source": [
        "## Solve exercise 3\n",
        "\n",
        "### Subtask:\n",
        "Write code to print all the pre-defined keywords in Python using the keyword library.\n"
      ]
    },
    {
      "cell_type": "markdown",
      "metadata": {
        "id": "7b98f53b"
      },
      "source": [
        "**Reasoning**:\n",
        "Import the keyword module and print the list of keywords.\n",
        "\n"
      ]
    },
    {
      "cell_type": "code",
      "metadata": {
        "colab": {
          "base_uri": "https://localhost:8080/"
        },
        "id": "ed91a346",
        "outputId": "c1a29cee-36e8-4e29-bb99-9445ebc47a52"
      },
      "source": [
        "import keyword\n",
        "print(keyword.kwlist)"
      ],
      "execution_count": 4,
      "outputs": [
        {
          "output_type": "stream",
          "name": "stdout",
          "text": [
            "['False', 'None', 'True', 'and', 'as', 'assert', 'async', 'await', 'break', 'class', 'continue', 'def', 'del', 'elif', 'else', 'except', 'finally', 'for', 'from', 'global', 'if', 'import', 'in', 'is', 'lambda', 'nonlocal', 'not', 'or', 'pass', 'raise', 'return', 'try', 'while', 'with', 'yield']\n"
          ]
        }
      ]
    },
    {
      "cell_type": "markdown",
      "metadata": {
        "id": "a8628c26"
      },
      "source": [
        "## Solve exercise 4\n",
        "\n",
        "### Subtask:\n",
        "Write a program that checks if a given word is a Python keyword.\n"
      ]
    },
    {
      "cell_type": "markdown",
      "metadata": {
        "id": "bbae26ab"
      },
      "source": [
        "**Reasoning**:\n",
        "Import the `keyword` library, define the word to check, use `iskeyword` to check, and print the result.\n",
        "\n"
      ]
    },
    {
      "cell_type": "code",
      "metadata": {
        "colab": {
          "base_uri": "https://localhost:8080/"
        },
        "id": "ee5d9427",
        "outputId": "d9b23db2-f1a0-4f04-d565-e1fa3ad0a9da"
      },
      "source": [
        "import keyword\n",
        "\n",
        "word_to_check = \"if\"\n",
        "\n",
        "if keyword.iskeyword(word_to_check):\n",
        "  print(f\"'{word_to_check}' is a Python keyword.\")\n",
        "else:\n",
        "  print(f\"'{word_to_check}' is not a Python keyword.\")"
      ],
      "execution_count": 5,
      "outputs": [
        {
          "output_type": "stream",
          "name": "stdout",
          "text": [
            "'if' is a Python keyword.\n"
          ]
        }
      ]
    },
    {
      "cell_type": "markdown",
      "metadata": {
        "id": "226a804d"
      },
      "source": [
        "## Solve exercise 5\n",
        "\n",
        "### Subtask:\n",
        "Create a list and tuple in Python, and demonstrate how attempting to change an element works differently for each.\n"
      ]
    },
    {
      "cell_type": "markdown",
      "metadata": {
        "id": "1cf750dc"
      },
      "source": [
        "**Reasoning**:\n",
        "The subtask requires creating a list and a tuple, attempting to modify an element in each, and printing the results and explanations. These steps can be grouped into a single code block.\n",
        "\n"
      ]
    },
    {
      "cell_type": "code",
      "metadata": {
        "colab": {
          "base_uri": "https://localhost:8080/"
        },
        "id": "f27ebbb8",
        "outputId": "69c3f6f4-7cfe-4d2a-a95c-ac07547674a7"
      },
      "source": [
        "# 1. Create a Python list named my_list with at least three elements.\n",
        "my_list = [10, 20, 30, 40]\n",
        "print(\"Original list:\", my_list)\n",
        "\n",
        "# 2. Create a Python tuple named my_tuple with at least three elements.\n",
        "my_tuple = (10, 20, 30, 40)\n",
        "print(\"Original tuple:\", my_tuple)\n",
        "\n",
        "# 3. Attempt to change the value of an element in my_list\n",
        "# Expected outcome: Successful modification because lists are mutable.\n",
        "try:\n",
        "    my_list[1] = 25\n",
        "    print(\"List after attempted modification:\", my_list)\n",
        "except TypeError as e:\n",
        "    print(\"Error modifying list:\", e)\n",
        "\n",
        "\n",
        "# 4. Attempt to change the value of an element in my_tuple\n",
        "# Expected outcome: An error will occur because tuples are immutable.\n",
        "try:\n",
        "    my_tuple[1] = 25\n",
        "    print(\"Tuple after attempted modification:\", my_tuple) # This line will not be reached\n",
        "except TypeError as e:\n",
        "    print(\"Error modifying tuple:\", e)\n"
      ],
      "execution_count": 9,
      "outputs": [
        {
          "output_type": "stream",
          "name": "stdout",
          "text": [
            "Original list: [10, 20, 30, 40]\n",
            "Original tuple: (10, 20, 30, 40)\n",
            "List after attempted modification: [10, 25, 30, 40]\n",
            "Error modifying tuple: 'tuple' object does not support item assignment\n"
          ]
        }
      ]
    },
    {
      "cell_type": "markdown",
      "metadata": {
        "id": "3820687b"
      },
      "source": [
        "## Solve exercise 6\n",
        "\n",
        "### Subtask:\n",
        "Write a function to demonstrate the behavior of mutable and immutable arguments.\n"
      ]
    },
    {
      "cell_type": "markdown",
      "metadata": {
        "id": "68c70620"
      },
      "source": [
        "**Reasoning**:\n",
        "Define the function to demonstrate mutable and immutable arguments and then call it with example mutable and immutable objects and print their states before and after the function call.\n",
        "\n"
      ]
    },
    {
      "cell_type": "code",
      "metadata": {
        "colab": {
          "base_uri": "https://localhost:8080/"
        },
        "id": "5213eafd",
        "outputId": "fe6efdf2-4509-4fa9-aa2c-e45d5302494f"
      },
      "source": [
        "# 1. Define a function named modify_values\n",
        "def modify_values(mutable_arg, immutable_arg):\n",
        "  # 2. Inside the function, attempt to modify the mutable argument\n",
        "  print(f\"Inside function before modification: mutable_arg={mutable_arg}, immutable_arg={immutable_arg}\")\n",
        "  mutable_arg.append(50)\n",
        "  # 3. Inside the function, attempt to \"modify\" the immutable argument\n",
        "  # Note: Reassigning an immutable object inside a function creates a new local variable, it does not modify the original object outside the function's scope.\n",
        "  immutable_arg = immutable_arg + 10\n",
        "  print(f\"Inside function after modification: mutable_arg={mutable_arg}, immutable_arg={immutable_arg}\")\n",
        "\n",
        "\n",
        "# 4. Outside the function, create a mutable object (a list) and an immutable object (an integer)\n",
        "my_list = [10, 20, 30, 40]\n",
        "my_integer = 100\n",
        "\n",
        "# 5. Print the original mutable and immutable objects before calling the function.\n",
        "print(f\"Before function call: my_list={my_list}, my_integer={my_integer}\")\n",
        "\n",
        "# 6. Call the modify_values function with the created objects.\n",
        "modify_values(my_list, my_integer)\n",
        "\n",
        "# 7. Print the mutable and immutable objects again after calling the function to demonstrate whether the original objects were changed.\n",
        "print(f\"After function call: my_list={my_list}, my_integer={my_integer}\")"
      ],
      "execution_count": 7,
      "outputs": [
        {
          "output_type": "stream",
          "name": "stdout",
          "text": [
            "Before function call: my_list=[10, 20, 30, 40], my_integer=100\n",
            "Inside function before modification: mutable_arg=[10, 20, 30, 40], immutable_arg=100\n",
            "Inside function after modification: mutable_arg=[10, 20, 30, 40, 50], immutable_arg=110\n",
            "After function call: my_list=[10, 20, 30, 40, 50], my_integer=100\n"
          ]
        }
      ]
    },
    {
      "cell_type": "markdown",
      "metadata": {
        "id": "66b6dda9"
      },
      "source": [
        "## Solve exercise 7\n",
        "\n",
        "### Subtask:\n",
        "Write a program that performs basic arithmetic operations on two user-input numbers.\n"
      ]
    },
    {
      "cell_type": "markdown",
      "metadata": {
        "id": "16600905"
      },
      "source": [
        "**Reasoning**:\n",
        "The subtask requires performing basic arithmetic operations on two user-input numbers. The first step is to get the first number from the user as a string.\n",
        "\n"
      ]
    },
    {
      "cell_type": "code",
      "metadata": {
        "colab": {
          "base_uri": "https://localhost:8080/"
        },
        "id": "de564668",
        "outputId": "2e5460f3-5aea-4fec-f6e0-d5e8e117c1c7"
      },
      "source": [
        "# Prompt the user to enter the first number and store it as a string.\n",
        "num1_str = input(\"Enter the first number: \")"
      ],
      "execution_count": 8,
      "outputs": [
        {
          "name": "stdout",
          "output_type": "stream",
          "text": [
            "Enter the first number: 5\n"
          ]
        }
      ]
    },
    {
      "cell_type": "markdown",
      "metadata": {
        "id": "9bfbfb18"
      },
      "source": [
        "**Reasoning**:\n",
        "The next step is to get the second number from the user as a string, as specified in the subtask instructions.\n",
        "\n"
      ]
    },
    {
      "cell_type": "code",
      "metadata": {
        "colab": {
          "base_uri": "https://localhost:8080/"
        },
        "id": "fe4bfe7f",
        "outputId": "31f4fe7d-2901-48a4-cbb0-b9edde14bb7e"
      },
      "source": [
        "# Prompt the user to enter the second number and store it as a string.\n",
        "num2_str = input(\"Enter the second number: \")"
      ],
      "execution_count": 10,
      "outputs": [
        {
          "name": "stdout",
          "output_type": "stream",
          "text": [
            "Enter the second number: 10\n"
          ]
        }
      ]
    },
    {
      "cell_type": "markdown",
      "metadata": {
        "id": "1ce100eb"
      },
      "source": [
        "**Reasoning**:\n",
        "Now that both inputs are received as strings, the next step is to convert them to floating-point numbers to prepare for arithmetic operations, as per the instructions.\n",
        "\n"
      ]
    },
    {
      "cell_type": "code",
      "metadata": {
        "id": "1bd50bf9"
      },
      "source": [
        "# Convert both user inputs from strings to floating-point numbers to handle potential decimal inputs.\n",
        "num1 = float(num1_str)\n",
        "num2 = float(num2_str)"
      ],
      "execution_count": 11,
      "outputs": []
    },
    {
      "cell_type": "markdown",
      "metadata": {
        "id": "f9bdf30e"
      },
      "source": [
        "**Reasoning**:\n",
        "With the inputs converted to numbers, the next step is to perform the required arithmetic operations: addition, subtraction, multiplication, and division.\n",
        "\n"
      ]
    },
    {
      "cell_type": "code",
      "metadata": {
        "id": "90470e59"
      },
      "source": [
        "# Perform the following arithmetic operations: addition, subtraction, multiplication, and division, storing each result in a separate variable.\n",
        "addition_result = num1 + num2\n",
        "subtraction_result = num1 - num2\n",
        "multiplication_result = num1 * num2\n",
        "\n",
        "# Handle division by zero\n",
        "if num2 != 0:\n",
        "  division_result = num1 / num2\n",
        "else:\n",
        "  division_result = \"Cannot divide by zero\""
      ],
      "execution_count": 12,
      "outputs": []
    },
    {
      "cell_type": "markdown",
      "metadata": {
        "id": "40bcaae2"
      },
      "source": [
        "**Reasoning**:\n",
        "The final step of the subtask is to print the results of the arithmetic operations in a clear and readable format.\n",
        "\n"
      ]
    },
    {
      "cell_type": "code",
      "metadata": {
        "colab": {
          "base_uri": "https://localhost:8080/"
        },
        "id": "4014757e",
        "outputId": "814576af-dcf8-4006-8f7e-694fa0a1faf4"
      },
      "source": [
        "# Print the results of each arithmetic operation in a clear and readable format, indicating which operation was performed.\n",
        "print(f\"Addition: {num1} + {num2} = {addition_result}\")\n",
        "print(f\"Subtraction: {num1} - {num2} = {subtraction_result}\")\n",
        "print(f\"Multiplication: {num1} * {num2} = {multiplication_result}\")\n",
        "print(f\"Division: {num1} / {num2} = {division_result}\")"
      ],
      "execution_count": 13,
      "outputs": [
        {
          "output_type": "stream",
          "name": "stdout",
          "text": [
            "Addition: 5.0 + 10.0 = 15.0\n",
            "Subtraction: 5.0 - 10.0 = -5.0\n",
            "Multiplication: 5.0 * 10.0 = 50.0\n",
            "Division: 5.0 / 10.0 = 0.5\n"
          ]
        }
      ]
    },
    {
      "cell_type": "markdown",
      "metadata": {
        "id": "a7bb7d85"
      },
      "source": [
        "## Solve exercise 8\n",
        "\n",
        "### Subtask:\n",
        "Write a program to demonstrate the use of logical operators.\n"
      ]
    },
    {
      "cell_type": "markdown",
      "metadata": {
        "id": "cd23a75f"
      },
      "source": [
        "**Reasoning**:\n",
        "Define two boolean variables with different truth values as per step 1 of the instructions.\n",
        "\n"
      ]
    },
    {
      "cell_type": "code",
      "metadata": {
        "colab": {
          "base_uri": "https://localhost:8080/"
        },
        "id": "27e8fdad",
        "outputId": "d6f23406-ea72-4618-a177-9ab0ab998225"
      },
      "source": [
        "is_sunny = True\n",
        "is_warm = False\n",
        "\n",
        "# Use the `and` logical operator and print the result as per step 2.\n",
        "print(f\"Is it sunny AND warm? {is_sunny and is_warm}\")\n",
        "\n",
        "# Use the `or` logical operator and print the result as per step 3.\n",
        "print(f\"Is it sunny OR warm? {is_sunny or is_warm}\")\n",
        "\n",
        "# Use the `not` logical operator and print the result as per step 4.\n",
        "print(f\"Is it NOT sunny? {not is_sunny}\")"
      ],
      "execution_count": 14,
      "outputs": [
        {
          "output_type": "stream",
          "name": "stdout",
          "text": [
            "Is it sunny AND warm? False\n",
            "Is it sunny OR warm? True\n",
            "Is it NOT sunny? False\n"
          ]
        }
      ]
    },
    {
      "cell_type": "markdown",
      "metadata": {
        "id": "e6640d6e"
      },
      "source": [
        "## Solve exercise 9\n",
        "\n",
        "### Subtask:\n",
        "Write a Python program to convert user input from string to integer, float, and boolean types.\n"
      ]
    },
    {
      "cell_type": "markdown",
      "metadata": {
        "id": "484ef99b"
      },
      "source": [
        "**Reasoning**:\n",
        "Prompt the user for input for integer conversion and handle potential errors during conversion.\n",
        "\n"
      ]
    },
    {
      "cell_type": "code",
      "metadata": {
        "colab": {
          "base_uri": "https://localhost:8080/"
        },
        "id": "53c6e7cf",
        "outputId": "98eb4bc8-533c-4636-f9a9-11ebe1f7d200"
      },
      "source": [
        "# Prompt for string to integer conversion\n",
        "int_str = input(\"Enter a value to convert to integer: \")\n",
        "\n",
        "# Attempt to convert to integer with error handling\n",
        "try:\n",
        "    int_value = int(int_str)\n",
        "    print(f\"Original input: '{int_str}', Converted to integer: {int_value}\")\n",
        "except ValueError:\n",
        "    print(f\"Error: Cannot convert '{int_str}' to an integer.\")"
      ],
      "execution_count": 15,
      "outputs": [
        {
          "output_type": "stream",
          "name": "stdout",
          "text": [
            "Enter a value to convert to integer: 6\n",
            "Original input: '6', Converted to integer: 6\n"
          ]
        }
      ]
    },
    {
      "cell_type": "markdown",
      "metadata": {
        "id": "7316ee40"
      },
      "source": [
        "**Reasoning**:\n",
        "Prompt the user for input for float conversion and handle potential errors during conversion.\n",
        "\n"
      ]
    },
    {
      "cell_type": "code",
      "metadata": {
        "colab": {
          "base_uri": "https://localhost:8080/"
        },
        "id": "128c4a95",
        "outputId": "d65b3702-7782-47b9-d270-4619953c9380"
      },
      "source": [
        "# Prompt for string to float conversion\n",
        "float_str = input(\"Enter a value to convert to float: \")\n",
        "\n",
        "# Attempt to convert to float with error handling\n",
        "try:\n",
        "    float_value = float(float_str)\n",
        "    print(f\"Original input: '{float_str}', Converted to float: {float_value}\")\n",
        "except ValueError:\n",
        "    print(f\"Error: Cannot convert '{float_str}' to a float.\")"
      ],
      "execution_count": 16,
      "outputs": [
        {
          "output_type": "stream",
          "name": "stdout",
          "text": [
            "Enter a value to convert to float: 5.5\n",
            "Original input: '5.5', Converted to float: 5.5\n"
          ]
        }
      ]
    },
    {
      "cell_type": "markdown",
      "metadata": {
        "id": "de707ab5"
      },
      "source": [
        "**Reasoning**:\n",
        "Prompt the user for input for boolean conversion and convert it to a boolean based on common string representations, then print the result.\n",
        "\n"
      ]
    },
    {
      "cell_type": "code",
      "metadata": {
        "colab": {
          "base_uri": "https://localhost:8080/"
        },
        "id": "5e4484b1",
        "outputId": "4be2c3db-e767-4c20-a8bc-87c533a3d2ec"
      },
      "source": [
        "# Prompt for string to boolean conversion\n",
        "bool_str = input(\"Enter a value to convert to boolean (e.g., True, False, Yes, No): \")\n",
        "\n",
        "# Convert to lowercase\n",
        "bool_str_lower = bool_str.lower()\n",
        "\n",
        "# Convert to boolean based on string content\n",
        "if bool_str_lower in ['true', 'yes']:\n",
        "    bool_value = True\n",
        "elif bool_str_lower in ['false', 'no']:\n",
        "    bool_value = False\n",
        "else:\n",
        "    # Default boolean evaluation for other non-empty strings is True,\n",
        "    # but for explicit clarity based on common representations,\n",
        "    # we'll consider other inputs as False unless they are empty.\n",
        "    # The standard bool() function would evaluate any non-empty string as True.\n",
        "    # To align with the instruction's suggestion of explicit checks for 'true', 'false', etc.,\n",
        "    # we'll make an explicit choice for other cases. Let's consider anything else as False\n",
        "    # unless we want to strictly follow bool() for all other non-empty strings.\n",
        "    # Sticking to the explicit checks for 'true'/'yes' and 'false'/'no' and\n",
        "    # considering everything else false for this demonstration.\n",
        "    bool_value = False\n",
        "\n",
        "print(f\"Original input: '{bool_str}', Converted to boolean: {bool_value}\")"
      ],
      "execution_count": 17,
      "outputs": [
        {
          "output_type": "stream",
          "name": "stdout",
          "text": [
            "Enter a value to convert to boolean (e.g., True, False, Yes, No): No\n",
            "Original input: 'No', Converted to boolean: False\n"
          ]
        }
      ]
    },
    {
      "cell_type": "markdown",
      "metadata": {
        "id": "1308beb8"
      },
      "source": [
        "## Solve exercise 10\n",
        "\n",
        "### Subtask:\n",
        "Write code to demonstrate type casting with list elements.\n"
      ]
    },
    {
      "cell_type": "markdown",
      "metadata": {
        "id": "14ff980f"
      },
      "source": [
        "**Reasoning**:\n",
        "Create a list with elements of different data types, iterate through it, and attempt type casting for each element with error handling.\n",
        "\n"
      ]
    },
    {
      "cell_type": "code",
      "metadata": {
        "colab": {
          "base_uri": "https://localhost:8080/"
        },
        "id": "f244dc2e",
        "outputId": "98442995-c6ff-4612-81ac-017f1056daba"
      },
      "source": [
        "# 1. Create a list containing elements of different data types\n",
        "my_mixed_list = [1, 2.5, \"3\", \"4.7\", \"hello\", True, False, None]\n",
        "\n",
        "# 2. Iterate through the list\n",
        "print(\"Demonstrating Type Casting with List Elements:\")\n",
        "for element in my_mixed_list:\n",
        "    print(f\"\\nOriginal element: {element} (Type: {type(element)})\")\n",
        "\n",
        "    # 3. Demonstrate converting each element to a different data type\n",
        "    # Attempt to convert to integer\n",
        "    try:\n",
        "        int_converted = int(element)\n",
        "        print(f\"  Attempting to convert to integer: {int_converted} (Successful)\")\n",
        "    except (ValueError, TypeError):\n",
        "        print(f\"  Attempting to convert to integer: Failed (Cannot convert {element} to int)\")\n",
        "\n",
        "    # Attempt to convert to float\n",
        "    try:\n",
        "        float_converted = float(element)\n",
        "        print(f\"  Attempting to convert to float: {float_converted} (Successful)\")\n",
        "    except (ValueError, TypeError):\n",
        "        print(f\"  Attempting to convert to float: Failed (Cannot convert {element} to float)\")\n",
        "\n",
        "    # Attempt to convert to string (most types can be converted to string)\n",
        "    try:\n",
        "        str_converted = str(element)\n",
        "        print(f\"  Attempting to convert to string: '{str_converted}' (Successful)\")\n",
        "    except (ValueError, TypeError):\n",
        "        print(f\"  Attempting to convert to string: Failed (Cannot convert {element} to str)\")\n",
        "\n",
        "    # Attempt to convert to boolean (standard bool() behavior)\n",
        "    # Note: bool() on most non-empty strings is True, 0/0.0 is False, None is False, empty list/tuple/dict is False\n",
        "    try:\n",
        "        bool_converted = bool(element)\n",
        "        print(f\"  Attempting to convert to boolean: {bool_converted} (Successful)\")\n",
        "    except (ValueError, TypeError):\n",
        "         # bool() is quite permissive, this except block is less likely to be hit\n",
        "         print(f\"  Attempting to convert to boolean: Failed (Cannot evaluate boolean for {element})\")"
      ],
      "execution_count": 18,
      "outputs": [
        {
          "output_type": "stream",
          "name": "stdout",
          "text": [
            "Demonstrating Type Casting with List Elements:\n",
            "\n",
            "Original element: 1 (Type: <class 'int'>)\n",
            "  Attempting to convert to integer: 1 (Successful)\n",
            "  Attempting to convert to float: 1.0 (Successful)\n",
            "  Attempting to convert to string: '1' (Successful)\n",
            "  Attempting to convert to boolean: True (Successful)\n",
            "\n",
            "Original element: 2.5 (Type: <class 'float'>)\n",
            "  Attempting to convert to integer: 2 (Successful)\n",
            "  Attempting to convert to float: 2.5 (Successful)\n",
            "  Attempting to convert to string: '2.5' (Successful)\n",
            "  Attempting to convert to boolean: True (Successful)\n",
            "\n",
            "Original element: 3 (Type: <class 'str'>)\n",
            "  Attempting to convert to integer: 3 (Successful)\n",
            "  Attempting to convert to float: 3.0 (Successful)\n",
            "  Attempting to convert to string: '3' (Successful)\n",
            "  Attempting to convert to boolean: True (Successful)\n",
            "\n",
            "Original element: 4.7 (Type: <class 'str'>)\n",
            "  Attempting to convert to integer: Failed (Cannot convert 4.7 to int)\n",
            "  Attempting to convert to float: 4.7 (Successful)\n",
            "  Attempting to convert to string: '4.7' (Successful)\n",
            "  Attempting to convert to boolean: True (Successful)\n",
            "\n",
            "Original element: hello (Type: <class 'str'>)\n",
            "  Attempting to convert to integer: Failed (Cannot convert hello to int)\n",
            "  Attempting to convert to float: Failed (Cannot convert hello to float)\n",
            "  Attempting to convert to string: 'hello' (Successful)\n",
            "  Attempting to convert to boolean: True (Successful)\n",
            "\n",
            "Original element: True (Type: <class 'bool'>)\n",
            "  Attempting to convert to integer: 1 (Successful)\n",
            "  Attempting to convert to float: 1.0 (Successful)\n",
            "  Attempting to convert to string: 'True' (Successful)\n",
            "  Attempting to convert to boolean: True (Successful)\n",
            "\n",
            "Original element: False (Type: <class 'bool'>)\n",
            "  Attempting to convert to integer: 0 (Successful)\n",
            "  Attempting to convert to float: 0.0 (Successful)\n",
            "  Attempting to convert to string: 'False' (Successful)\n",
            "  Attempting to convert to boolean: False (Successful)\n",
            "\n",
            "Original element: None (Type: <class 'NoneType'>)\n",
            "  Attempting to convert to integer: Failed (Cannot convert None to int)\n",
            "  Attempting to convert to float: Failed (Cannot convert None to float)\n",
            "  Attempting to convert to string: 'None' (Successful)\n",
            "  Attempting to convert to boolean: False (Successful)\n"
          ]
        }
      ]
    },
    {
      "cell_type": "markdown",
      "metadata": {
        "id": "e547dcb0"
      },
      "source": [
        "## Solve exercise 11\n",
        "\n",
        "### Subtask:\n",
        "Write a program that checks if a number is positive, negative, or zero.\n"
      ]
    },
    {
      "cell_type": "markdown",
      "metadata": {
        "id": "462346e9"
      },
      "source": [
        "**Reasoning**:\n",
        "The subtask is to check if a number is positive, negative, or zero. This involves getting user input, converting it to a number, and then using conditional statements to determine its sign. All these steps can be included in a single code block.\n",
        "\n"
      ]
    },
    {
      "cell_type": "code",
      "metadata": {
        "colab": {
          "base_uri": "https://localhost:8080/"
        },
        "id": "14bc99ea",
        "outputId": "b0bfd615-0015-4e2b-e698-4f5905be3b50"
      },
      "source": [
        "# 1. Prompt the user to enter a number.\n",
        "num_str = input(\"Enter a number: \")\n",
        "\n",
        "# 2. Convert the user's input to a floating-point number.\n",
        "try:\n",
        "    number = float(num_str)\n",
        "\n",
        "    # 3. Use if, elif, and else statements to check if the number is greater than zero, less than zero, or equal to zero.\n",
        "    # 4. Print an appropriate message indicating whether the number is positive, negative, or zero.\n",
        "    if number > 0:\n",
        "        print(f\"The number {number} is positive.\")\n",
        "    elif number < 0:\n",
        "        print(f\"The number {number} is negative.\")\n",
        "    else:\n",
        "        print(f\"The number {number} is zero.\")\n",
        "\n",
        "except ValueError:\n",
        "    print(f\"Invalid input: '{num_str}' is not a valid number.\")"
      ],
      "execution_count": 19,
      "outputs": [
        {
          "output_type": "stream",
          "name": "stdout",
          "text": [
            "Enter a number: 19\n",
            "The number 19.0 is positive.\n"
          ]
        }
      ]
    },
    {
      "cell_type": "markdown",
      "metadata": {
        "id": "ebc9a7cc"
      },
      "source": [
        "## Solve exercise 12\n",
        "\n",
        "### Subtask:\n",
        "Write a for loop to print numbers from 1 to 10.\n"
      ]
    },
    {
      "cell_type": "markdown",
      "metadata": {
        "id": "1f525ceb"
      },
      "source": [
        "**Reasoning**:\n",
        "Use a for loop with range(1, 11) to iterate from 1 to 10 and print each number inside the loop.\n",
        "\n"
      ]
    },
    {
      "cell_type": "code",
      "metadata": {
        "colab": {
          "base_uri": "https://localhost:8080/"
        },
        "id": "ed5893b3",
        "outputId": "3b9ac45e-2060-4106-81e6-b5021325a21a"
      },
      "source": [
        "# Use a for loop with the range() function to iterate through numbers from 1 up to and including 10.\n",
        "# Inside the loop, print the current number.\n",
        "print(\"Numbers from 1 to 10:\")\n",
        "for i in range(1, 11):\n",
        "  print(i)"
      ],
      "execution_count": 20,
      "outputs": [
        {
          "output_type": "stream",
          "name": "stdout",
          "text": [
            "Numbers from 1 to 10:\n",
            "1\n",
            "2\n",
            "3\n",
            "4\n",
            "5\n",
            "6\n",
            "7\n",
            "8\n",
            "9\n",
            "10\n"
          ]
        }
      ]
    },
    {
      "cell_type": "markdown",
      "metadata": {
        "id": "558adf27"
      },
      "source": [
        "## Solve exercise 13\n",
        "\n",
        "### Subtask:\n",
        "Write a Python program to find the sum of all even numbers between 1 and 50.\n"
      ]
    },
    {
      "cell_type": "markdown",
      "metadata": {
        "id": "352c80dd"
      },
      "source": [
        "**Reasoning**:\n",
        "Initialize the sum variable and use a for loop to iterate through numbers from 1 to 50, adding even numbers to the sum. Finally, print the result.\n",
        "\n"
      ]
    },
    {
      "cell_type": "code",
      "metadata": {
        "colab": {
          "base_uri": "https://localhost:8080/"
        },
        "id": "d4070ac6",
        "outputId": "cf3fb735-3414-44ce-cfd8-4f512bed7cf6"
      },
      "source": [
        "# 1. Initialize a variable named total_sum to 0.\n",
        "total_sum = 0\n",
        "\n",
        "# 2. Use a for loop to iterate through numbers from 1 to 50 (inclusive).\n",
        "# 3. Inside the loop, use the modulo operator (%) to check if the current number is even.\n",
        "# 4. If the number is even, add it to the total_sum.\n",
        "for number in range(1, 51):\n",
        "  if number % 2 == 0:\n",
        "    total_sum += number\n",
        "\n",
        "# 5. After the loop finishes, print the final total_sum with a descriptive message.\n",
        "print(f\"The sum of all even numbers between 1 and 50 is: {total_sum}\")"
      ],
      "execution_count": 21,
      "outputs": [
        {
          "output_type": "stream",
          "name": "stdout",
          "text": [
            "The sum of all even numbers between 1 and 50 is: 650\n"
          ]
        }
      ]
    },
    {
      "cell_type": "markdown",
      "metadata": {
        "id": "aa99a50a"
      },
      "source": [
        "## Solve exercise 14\n",
        "\n",
        "### Subtask:\n",
        "Write a program to reverse a string using a while loop.\n"
      ]
    },
    {
      "cell_type": "markdown",
      "metadata": {
        "id": "0f1fe5ea"
      },
      "source": [
        "**Reasoning**:\n",
        "The task is to reverse a string using a while loop. I will write a code block that prompts for user input, initializes variables for the reversed string and index, uses a while loop to build the reversed string character by character, and finally prints the original and reversed strings.\n",
        "\n"
      ]
    },
    {
      "cell_type": "code",
      "metadata": {
        "colab": {
          "base_uri": "https://localhost:8080/"
        },
        "id": "0c194b3d",
        "outputId": "815831c4-4a00-4bf0-c6fe-810879dce7cf"
      },
      "source": [
        "# Prompt the user to enter a string.\n",
        "input_string = input(\"Enter a string to reverse: \")\n",
        "\n",
        "# Initialize an empty string called reversed_string.\n",
        "reversed_string = \"\"\n",
        "\n",
        "# Initialize a variable called index with the value of the index of the last character of the input string.\n",
        "index = len(input_string) - 1\n",
        "\n",
        "# Start a while loop that continues as long as index is greater than or equal to 0.\n",
        "while index >= 0:\n",
        "  # Inside the loop, append the character at the current index of the input string to the reversed_string.\n",
        "  reversed_string += input_string[index]\n",
        "  # Decrement the index by 1 in each iteration.\n",
        "  index -= 1\n",
        "\n",
        "# After the while loop finishes, print the original and reversed strings with descriptive messages.\n",
        "print(f\"Original string: {input_string}\")\n",
        "print(f\"Reversed string: {reversed_string}\")"
      ],
      "execution_count": 22,
      "outputs": [
        {
          "output_type": "stream",
          "name": "stdout",
          "text": [
            "Enter a string to reverse: 1\n",
            "Original string: 1\n",
            "Reversed string: 1\n"
          ]
        }
      ]
    },
    {
      "cell_type": "markdown",
      "metadata": {
        "id": "ca9bd6d3"
      },
      "source": [
        "## Solve exercise 15\n",
        "\n",
        "### Subtask:\n",
        "Write a Python program to calculate the factorial of a number provided by the user using a while loop.\n"
      ]
    },
    {
      "cell_type": "markdown",
      "metadata": {
        "id": "93169b45"
      },
      "source": [
        "**Reasoning**:\n",
        "The task is to calculate the factorial of a user-provided number using a while loop. The first step is to get the user input and handle potential errors during conversion to an integer.\n",
        "\n"
      ]
    },
    {
      "cell_type": "code",
      "metadata": {
        "colab": {
          "base_uri": "https://localhost:8080/"
        },
        "id": "9ade3d7b",
        "outputId": "befe95d4-f4af-48ed-e1b4-4bac8584faa9"
      },
      "source": [
        "# Prompt the user to enter a non-negative integer and store it as a string.\n",
        "num_str = input(\"Enter a non-negative integer to calculate its factorial: \")\n",
        "\n",
        "# Convert the user's input string to an integer. Include error handling to catch ValueError.\n",
        "try:\n",
        "    number = int(num_str)\n",
        "\n",
        "    # If the input is a valid integer, check if the number is negative.\n",
        "    if number < 0:\n",
        "        print(\"Factorial is not defined for negative numbers.\")\n",
        "    # If the number is 0, print that the factorial of 0 is 1.\n",
        "    elif number == 0:\n",
        "        print(\"The factorial of 0 is 1.\")\n",
        "    # If the number is positive, calculate the factorial using a while loop.\n",
        "    else:\n",
        "        # Initialize a variable factorial to 1 and a counter variable (e.g., count) to 1.\n",
        "        factorial = 1\n",
        "        count = 1\n",
        "\n",
        "        # Use a while loop that continues as long as the counter is less than or equal to the input number.\n",
        "        while count <= number:\n",
        "            # Inside the loop, multiply the factorial variable by the current value of the counter and update factorial.\n",
        "            factorial *= count\n",
        "            # Increment the counter by 1 in each iteration.\n",
        "            count += 1\n",
        "\n",
        "        # After the loop finishes, print the calculated factorial with a descriptive message.\n",
        "        print(f\"The factorial of {number} is {factorial}.\")\n",
        "\n",
        "except ValueError:\n",
        "    print(f\"Invalid input: '{num_str}' is not a valid integer.\")"
      ],
      "execution_count": 23,
      "outputs": [
        {
          "output_type": "stream",
          "name": "stdout",
          "text": [
            "Enter a non-negative integer to calculate its factorial: 55\n",
            "The factorial of 55 is 12696403353658275925965100847566516959580321051449436762275840000000000000.\n"
          ]
        }
      ]
    }
  ]
}