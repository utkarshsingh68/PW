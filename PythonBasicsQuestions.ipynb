{
  "nbformat": 4,
  "nbformat_minor": 0,
  "metadata": {
    "colab": {
      "provenance": []
    },
    "kernelspec": {
      "name": "python3",
      "display_name": "Python 3"
    },
    "language_info": {
      "name": "python"
    }
  },
  "cells": [
    {
      "cell_type": "markdown",
      "source": [
        "1. What is Python, and why is it popular?\n",
        "\n",
        "   Python is a programming language that’s super easy to read and write. It’s often the first language people learn because the code feels a lot like English, so you don’t get lost in complicated syntax.\n",
        "   It’s really popular because you can use it for almost anything—building websites, analyzing data, creating machine learning models, automating boring tasks, and even making games. Plus, there are tons of libraries (pre-made tools) that make your life way easier."
      ],
      "metadata": {
        "id": "LfDPTSIQDhTe"
      }
    },
    {
      "cell_type": "markdown",
      "source": [
        "2. What is an interpreter in Python?\n",
        "\n",
        " An interpreter in Python is a program that reads and runs your code line by line.\n",
        " Instead of converting the whole code into machine language at once (like a compiler), the Python interpreter checks and executes each line one after the other.\n",
        "\n"
      ],
      "metadata": {
        "id": "MDWPtM8pEKDw"
      }
    },
    {
      "cell_type": "markdown",
      "source": [
        "3. What are pre-defined keywords in Python?\n",
        "\n",
        " Pre-defined keywords in Python are special reserved words that have a specific meaning in the language. You can’t use them as variable names, function names, or identifiers, because Python already uses them to understand the structure and logic of your code\n",
        " if, else, elif – for conditions\n",
        " **Examples of Python keywords:**\n",
        " for, while – for loops\n",
        " def – to define a function\n",
        " class – to define a class\n",
        " True, False, None – special constant values\n",
        " import, from – for using libraries\n",
        " and, or, not – for logical operations"
      ],
      "metadata": {
        "id": "dKIMuRwcEX3X"
      }
    },
    {
      "cell_type": "markdown",
      "source": [
        "4. Can keywords be used as variable names?\n",
        "\n",
        " No, keywords cannot be used as variable names in Python.\n",
        " Because keywords are reserved words that Python uses to understand the meaning of your code. If you try to use them as variable names, Python will get confused and throw an error."
      ],
      "metadata": {
        "id": "YQLr4y55FXCY"
      }
    },
    {
      "cell_type": "markdown",
      "source": [
        " 5. What is mutability in Python?\n",
        "\n",
        " In simple terms, mutability refers to whether or not a value (or object) can be changed after it's create.\n",
        " These can be changed after creation — you can update, add, or remove their content.\n",
        "\n",
        " Examples of mutable types:\n",
        " list\n",
        " dict (dictionary)\n",
        " set\n",
        "\n",
        "\n"
      ],
      "metadata": {
        "id": "lBMHXUHYFn8f"
      }
    },
    {
      "cell_type": "markdown",
      "source": [
        "6. Why are lists mutable, but tuples are immutable?\n",
        "\n",
        " Lists are designed to hold data that might change.\n",
        " You can add, remove, or modify elements after the list is created.\n",
        " Python allows this because lists are often used when your data needs to be updated or changed during the program's execution.\n",
        "\n",
        " Tuples are meant to be fixed collections — like constants.\n",
        " Python makes them immutable for safety, performance, and reliability.\n",
        " Since they can't change, they can be used as keys in dictionaries or elements in sets (mutable types can't)\n",
        "\n"
      ],
      "metadata": {
        "id": "8QcejlKoGXg2"
      }
    },
    {
      "cell_type": "markdown",
      "source": [
        "7. What is the difference between “==” and “is” operators in Python?\n",
        "\n",
        " == → Equality Operator\n",
        " Checks if two values are the same (i.e., they look the same).\n",
        " It's about content, not memory.\n",
        " python\n",
        " Copy\n",
        " Edit\n",
        "\n",
        " is → Identity Operator\n",
        " Checks if two variables point to the exact same object in memory.\n",
        " It's about identity, not content.\n",
        "\n"
      ],
      "metadata": {
        "id": "EfJJQp1mG0aG"
      }
    },
    {
      "cell_type": "markdown",
      "source": [
        "8. What are logical operators in Python ?\n",
        "\n",
        " Logical operators in Python are used to combine multiple conditions or boolean expressions (i.e., things that are either True or False)\n",
        " There are 3 main logical operators:\n",
        " and – Returns True if both conditions are True\n",
        " python\n",
        " Copy\n",
        " Edit\n",
        " x = 10\n",
        " print(x > 5 and x < 20)  #  True (both conditions are true)\n",
        " or – Returns True if at least one condition is True\n",
        " python\n",
        " Copy\n",
        " Edit\n",
        " x = 10\n",
        " print(x < 5 or x < 15)  #  True (one condition is true)\n",
        " not – Reverses the condition\n",
        " python\n",
        " Copy\n",
        " Edit\n",
        "  = 10\n",
        " print(not (x > 5))  #  False (x > 5 is True, but `not` makes it False)"
      ],
      "metadata": {
        "id": "MODVmFCrIgls"
      }
    },
    {
      "cell_type": "markdown",
      "source": [
        "9.  What is type casting in Python ?\n",
        "\n",
        "  Type casting in Python means converting one data type into another, like turning a string into a number, or a float into an integer.\n",
        "\n"
      ],
      "metadata": {
        "id": "q_PkDjmUJB9N"
      }
    },
    {
      "cell_type": "markdown",
      "source": [
        "10. What is the difference between implicit and explicit type casting ?\n",
        "\n",
        "  Explicit Type Casting\n",
        " You manually convert from one data type to another using functions like:\n",
        " int(), float(), str(), etc.\n",
        " Useful when Python can’t automatically convert or when you want control.\n",
        "\n",
        " Implicit Type Casting\n",
        " Python automatically converts one data type to another.\n",
        " Happens when there’s no risk of losing data."
      ],
      "metadata": {
        "id": "pdn4xs2MJXiU"
      }
    },
    {
      "cell_type": "markdown",
      "source": [
        "11. What is the purpose of conditional statements in Python ?\n",
        "\n",
        "  Conditional statements are used to make decisions in your Python program.\n",
        "  Why are they useful?\n",
        " They let your program respond to different inputs or situations.\n",
        " You can control the flow of your code: do this if something is true, do that else."
      ],
      "metadata": {
        "id": "P-l1GS-SJy2x"
      }
    },
    {
      "cell_type": "markdown",
      "source": [
        "12. How does the elif statement work ?\n",
        "\n",
        " The elif (short for \"else if\") is used when you want to check multiple conditions — not just one.\n",
        " It only runs if the previous if condition was False, and its own condition is True.\n",
        "\n",
        " if condition1:\n",
        "    # runs if condition1 is True\n",
        "elif condition2:\n",
        "    # runs if condition1 is False AND condition2 is True\n",
        "elif condition3:\n",
        "    # runs if above are False AND condition3 is True\n",
        "else:\n",
        "    # runs if none of the above are True\n",
        "\n"
      ],
      "metadata": {
        "id": "zN69aQ65KILQ"
      }
    },
    {
      "cell_type": "markdown",
      "source": [
        "13. What is the difference between for and while loops ?\n",
        "\n",
        " for loop – Used when you know how many times you want to loop.\n",
        " Best for looping over a sequence (like a list, string, or range).\n",
        " Automatically stops after going through all items.\n",
        "\n",
        " while loop – Used when you don't know how many times, but loop until a condition becomes False.\n",
        " Keeps running as long as a condition is True.\n",
        " Can run forever if the condition is never False (infinite loop)."
      ],
      "metadata": {
        "id": "X79fcSiLKieu"
      }
    },
    {
      "cell_type": "markdown",
      "source": [
        " 14. Describe a scenario where a while loop is more suitable than a for loop?\n",
        "\n",
        "  Imagine you're creating a simple login system where a user has 3 chances to enter the correct password. You don’t know in advance how many tries it will take — so a while loop is more suitable.\n",
        "\n",
        "  correct_password = \"python123\"\n",
        "attempts = 0\n",
        "max_attempts = 3\n",
        "\n",
        "while attempts < max_attempts:\n",
        "    user_input = input(\"Enter password: \")\n",
        "    \n",
        "    if user_input == correct_password:\n",
        "        print(\"Login successful!\")\n",
        "        break\n",
        "    else:\n",
        "        attempts += 1\n",
        "        print(\"Incorrect password. Try again.\")\n",
        "\n",
        "if attempts == max_attempts:\n",
        "    print(\"Too many failed attempts. Access blocked.\")\n",
        "\n",
        "  Why is while better here?\n",
        "  You don’t know how many attempts it will take.\n",
        "  The loop should continue as long as a condition is true (attempts < 3).\n",
        "  It gives flexibility to stop early (if the password is correct), or after 3 tries.\n",
        "\n",
        "  A for loop would be less readable or natural in this case, because the condition depends on success, not just a fixed number.\n",
        "\n",
        "\n",
        "\n"
      ],
      "metadata": {
        "id": "LoPORV7_K7xS"
      }
    }
  ]
}