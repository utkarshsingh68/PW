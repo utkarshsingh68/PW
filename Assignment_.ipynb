{
  "nbformat": 4,
  "nbformat_minor": 0,
  "metadata": {
    "colab": {
      "provenance": []
    },
    "kernelspec": {
      "name": "python3",
      "display_name": "Python 3"
    },
    "language_info": {
      "name": "python"
    }
  },
  "cells": [
    {
      "cell_type": "markdown",
      "metadata": {
        "id": "07babf14"
      },
      "source": [
        "**What are data structures, and why are they important?**\n",
        "\n",
        "Data structures are ways of organizing and storing data in a computer so that it can be accessed and modified efficiently. They are important because they allow us to manage and manipulate data effectively for various tasks and algorithms."
      ]
    },
    {
      "cell_type": "markdown",
      "metadata": {
        "id": "b88e7ed0"
      },
      "source": [
        "**Explain the difference between mutable and immutable data types with examples.**\n",
        "\n",
        "*   **Mutable** data types can be changed after they are created. Examples include lists, dictionaries, and sets. You can add, remove, or modify elements within these structures."
      ]
    },
    {
      "cell_type": "code",
      "metadata": {
        "id": "67fedfb3"
      },
      "source": [
        "my_string = \"hello\"\n",
        "new_string = my_string.replace(\"h\", \"H\")"
      ],
      "execution_count": null,
      "outputs": []
    },
    {
      "cell_type": "markdown",
      "metadata": {
        "id": "d159b7ca"
      },
      "source": [
        "**What are the main differences between lists and tuples in Python?**\n",
        "\n",
        "*   **Mutability:** Lists are mutable, while tuples are immutable.\n",
        "*   **Syntax:** Lists are defined using square brackets `[]`, and tuples are defined using parentheses `()`.\n",
        "*   **Use cases:** Lists are typically used for collections of items that might change, while tuples are used for collections of items that should not change (e.g., coordinates, pairs of values)."
      ]
    },
    {
      "cell_type": "markdown",
      "metadata": {
        "id": "e31a4b35"
      },
      "source": [
        "**Describe how dictionaries store data.**\n",
        "\n",
        "Dictionaries store data as key-value pairs. Each key must be unique and immutable (like strings, numbers, or tuples), and it maps to a corresponding value, which can be any data type. Dictionaries are unordered in versions of Python prior to 3.7, but ordered in 3.7 and later versions, based on insertion order."
      ]
    },
    {
      "cell_type": "markdown",
      "metadata": {
        "id": "4ddc8cad"
      },
      "source": [
        "**Why might you use a set instead of a list in Python?**\n",
        "\n",
        "You might use a set instead of a list when you need:\n",
        "*   To store a collection of unique elements (sets automatically handle duplicates).\n",
        "*   To perform set operations like union, intersection, and difference efficiently.\n",
        "*   Fast membership testing (checking if an item is in the set)."
      ]
    },
    {
      "cell_type": "markdown",
      "metadata": {
        "id": "9dbff21e"
      },
      "source": [
        "**What is a string in Python, and how is it different from a list?**\n",
        "\n",
        "A string in Python is an immutable sequence of characters. While both strings and lists are sequences and can be iterated over, strings are specifically for text, and lists can contain elements of any data type. The key difference is mutability: lists can be modified, while strings cannot."
      ]
    },
    {
      "cell_type": "markdown",
      "metadata": {
        "id": "32649910"
      },
      "source": [
        "**How do tuples ensure data integrity in Python?**\n",
        "\n",
        "Tuples ensure data integrity because they are immutable. Once a tuple is created, its elements cannot be changed, added, or removed. This prevents accidental modification of the data they hold, making them suitable for storing data that should remain constant."
      ]
    },
    {
      "cell_type": "markdown",
      "metadata": {
        "id": "a02ec234"
      },
      "source": [
        "**What is a hash table, and how does it relate to dictionaries in Python?**\n",
        "\n",
        "A hash table (or hash map) is a data structure that stores key-value pairs. It uses a hash function to compute an index into an array of buckets or slots, from which the desired value can be found. Python dictionaries are implemented using hash tables, which allows for very fast average-case time complexity for operations like insertion, deletion, and lookup."
      ]
    },
    {
      "cell_type": "markdown",
      "metadata": {
        "id": "ae614500"
      },
      "source": [
        "**Can lists contain different data types in Python?**\n",
        "\n",
        "Yes, lists in Python can contain elements of different data types. You can have a list with integers, strings, floats, other lists, etc., all within the same list."
      ]
    },
    {
      "cell_type": "markdown",
      "metadata": {
        "id": "8eac9aba"
      },
      "source": [
        "**Explain why strings are immutable in Python.**\n",
        "\n",
        "Strings are immutable in Python for several reasons, including efficiency and safety. Being immutable allows Python to optimize string operations and share memory for identical strings. It also prevents unexpected changes to string values in different parts of a program, making code more predictable and easier to debug."
      ]
    },
    {
      "cell_type": "markdown",
      "metadata": {
        "id": "9ea932d7"
      },
      "source": [
        "**What advantages do dictionaries offer over lists for certain tasks?**\n",
        "\n",
        "Dictionaries offer advantages over lists when you need to:\n",
        "*   Quickly look up values based on a key rather than an index.\n",
        "*   Store data with meaningful labels (the keys).\n",
        "*   Represent relationships between pieces of data (key-value pairs).\n",
        "Accessing elements in a dictionary by key is generally much faster than searching for an element by value in a list."
      ]
    },
    {
      "cell_type": "markdown",
      "metadata": {
        "id": "22e88eed"
      },
      "source": [
        "**Describe a scenario where using a tuple would be preferable over a list.**\n",
        "\n",
        "A scenario where using a tuple would be preferable over a list is when you need to represent a collection of related items that should not change, such as coordinates (x, y), RGB color values (red, green, blue), or a record of a database entry's fields. The immutability of the tuple guarantees that these values remain constant."
      ]
    },
    {
      "cell_type": "markdown",
      "metadata": {
        "id": "4f49f33a"
      },
      "source": [
        "**How do sets handle duplicate values in Python?**\n",
        "\n",
        "Sets automatically handle duplicate values by storing only one instance of each unique element. When you add elements to a set, any duplicates are simply ignored, ensuring that each element in the set is unique."
      ]
    },
    {
      "cell_type": "markdown",
      "metadata": {
        "id": "b56407c6"
      },
      "source": [
        "**How does the “in” keyword work differently for lists and dictionaries?**\n",
        "\n",
        "*   For **lists**, the `in` keyword checks if an element's value exists within the list. It performs a linear search, which can be slow for large lists.\n",
        "*   For **dictionaries**, the `in` keyword checks if a key exists within the dictionary. This is a much faster operation, leveraging the dictionary's underlying hash table implementation."
      ]
    },
    {
      "cell_type": "markdown",
      "metadata": {
        "id": "4c310475"
      },
      "source": [
        "**Can you modify the elements of a tuple? Explain why or why not.**\n",
        "\n",
        "No, you cannot modify the elements of a tuple because tuples are immutable data types in Python. Once a tuple is created, its size and the values of its elements are fixed. If you need to change the data, you must create a new tuple."
      ]
    },
    {
      "cell_type": "markdown",
      "metadata": {
        "id": "2ef80389"
      },
      "source": [
        "**What is a nested dictionary, and give an example of its use case?**\n",
        "\n",
        "A nested dictionary is a dictionary where the values are themselves dictionaries. This allows you to represent hierarchical or more complex data structures.\n",
        "*   **Example Use Case:** Representing information about multiple users, where each user's information is stored in a separate dictionary nested within the main dictionary."
      ]
    },
    {
      "cell_type": "markdown",
      "metadata": {
        "id": "41b91811"
      },
      "source": [
        "**Describe the time complexity of accessing elements in a dictionary.**\n",
        "\n",
        "On average, the time complexity of accessing elements (lookup, insertion, deletion) in a Python dictionary is O(1) (constant time). This is because dictionaries use hash tables, which allow for direct access to elements based on their hash value. In the worst-case scenario (due to hash collisions), the time complexity can degrade to O(n) (linear time), but this is rare with good hash functions."
      ]
    },
    {
      "cell_type": "markdown",
      "metadata": {
        "id": "0b864031"
      },
      "source": [
        "**In what situations are lists preferred over dictionaries?**\n",
        "\n",
        "Lists are preferred over dictionaries when:\n",
        "*   The order of elements matters.\n",
        "*   You need to store a collection of items and access them by their position (index).\n",
        "*   You might have duplicate items and want to keep them.\n",
        "*   You need to iterate through the elements in a specific order."
      ]
    },
    {
      "cell_type": "markdown",
      "metadata": {
        "id": "2355b268"
      },
      "source": [
        "**Why are dictionaries considered unordered, and how does that affect data retrieval?**\n",
        "\n",
        "In Python versions before 3.7, dictionaries were considered unordered because the order of elements was not guaranteed to be the same as the insertion order. This was due to the internal implementation using hash tables, where the position of an item depends on its hash value, not the order it was added. In Python 3.7+, dictionaries maintain insertion order.\n",
        "\n",
        "For versions where they were unordered, this meant you couldn't rely on accessing elements by a numerical index like you can with lists. Data retrieval was done solely by key. While in 3.7+ they maintain insertion order, it's still best practice to access elements by key for clarity and compatibility with older code or other languages where dictionaries might be unordered."
      ]
    },
    {
      "cell_type": "markdown",
      "metadata": {
        "id": "57c5d468"
      },
      "source": [
        "**Explain the difference between a list and a dictionary in terms of data retrieval.**\n",
        "\n",
        "*   **Lists:** Data retrieval in lists is primarily done by index (position). You access elements using their numerical index (e.g., `my_list[0]`). You can also search for elements by value, but this requires iterating through the list.\n",
        "*   **Dictionaries:** Data retrieval in dictionaries is done by key. You access values using their associated key (e.g., `my_dictionary[\"my_key\"]`). You cannot access elements by a numerical index (unless the keys happen to be integers)."
      ]
    },
    {
      "cell_type": "markdown",
      "metadata": {
        "id": "69067c80"
      },
      "source": [
        "### Lists\n",
        "\n",
        "Lists are ordered, mutable collections of items. They are one of the most versatile data structures in Python and can hold elements of different data types.\n",
        "\n",
        "**Key Characteristics:**\n",
        "*   **Ordered:** Elements have a defined order, and you can access them by their index.\n",
        "*   **Mutable:** You can change, add, or remove elements after the list is created.\n",
        "*   **Allows Duplicates:** Lists can contain multiple instances of the same element.\n",
        "*   **Dynamic Size:** Lists can grow or shrink as needed.\n",
        "\n",
        "**Common Operations:**\n",
        "*   **Creating a list:**"
      ]
    },
    {
      "cell_type": "code",
      "metadata": {
        "id": "86b159cf"
      },
      "source": [
        "print(my_list[0])\n",
        "print(my_list[-1])"
      ],
      "execution_count": null,
      "outputs": []
    },
    {
      "cell_type": "code",
      "metadata": {
        "id": "6c6e3a31"
      },
      "source": [
        "print(my_list[1:4])"
      ],
      "execution_count": null,
      "outputs": []
    },
    {
      "cell_type": "code",
      "metadata": {
        "id": "fd00342c"
      },
      "source": [
        "my_list[0] = 10\n",
        "print(my_list)"
      ],
      "execution_count": null,
      "outputs": []
    },
    {
      "cell_type": "code",
      "metadata": {
        "id": "adede4f9"
      },
      "source": [
        "my_list.append('d')\n",
        "my_list.insert(1, 'x')\n",
        "print(my_list)"
      ],
      "execution_count": null,
      "outputs": []
    },
    {
      "cell_type": "code",
      "metadata": {
        "id": "2332a79d"
      },
      "source": [
        "my_list.remove('x')\n",
        "my_list.pop(0)\n",
        "print(my_list)"
      ],
      "execution_count": null,
      "outputs": []
    },
    {
      "cell_type": "code",
      "metadata": {
        "id": "d776b2a7"
      },
      "source": [
        "for item in my_list:\n",
        "    print(item)"
      ],
      "execution_count": null,
      "outputs": []
    },
    {
      "cell_type": "code",
      "metadata": {
        "id": "75bba235"
      },
      "source": [
        "\n",
        "print('z' in my_list)"
      ],
      "execution_count": null,
      "outputs": []
    },
    {
      "cell_type": "markdown",
      "metadata": {
        "id": "fe87f8b3"
      },
      "source": [
        "### Lists (Think of a Shopping List!)\n",
        "\n",
        "Imagine a shopping list. That's pretty much what a Python list is!\n",
        "\n",
        "*   **It keeps things in order:** Just like your shopping list has items one after the other, a Python list remembers the order you put things in. You can point to the first item, the second item, and so on.\n",
        "*   **You can change it:** This is the cool part! You can add things to your list (append), cross things off (remove), or even change an item on the list (modify). Lists are super flexible.\n",
        "*   **You can have the same thing more than once:** If you need two bottles of milk, you write milk on your list twice. Lists are fine with having duplicates.\n",
        "*   **It can hold anything:** Your shopping list can have groceries, cleaning supplies, or even a reminder to pick up the dry cleaning. Python lists can hold numbers, words, or even other lists!\n",
        "\n",
        "Here are some ways you'd work with a shopping list (and a Python list):"
      ]
    },
    {
      "cell_type": "code",
      "metadata": {
        "colab": {
          "base_uri": "https://localhost:8080/"
        },
        "id": "e287bd0c",
        "outputId": "1dc6e983-c67d-431a-baec-f65ce4643791"
      },
      "source": [
        "my_shopping_list = [\"milk\", \"bread\", \"eggs\"]\n",
        "print(my_shopping_list)"
      ],
      "execution_count": null,
      "outputs": [
        {
          "output_type": "stream",
          "name": "stdout",
          "text": [
            "['milk', 'bread', 'eggs']\n"
          ]
        }
      ]
    },
    {
      "cell_type": "code",
      "metadata": {
        "colab": {
          "base_uri": "https://localhost:8080/"
        },
        "id": "cdda01ca",
        "outputId": "e309b693-fe5f-47ff-a9b6-4f30d0e19de3"
      },
      "source": [
        "print(my_shopping_list[0])"
      ],
      "execution_count": null,
      "outputs": [
        {
          "output_type": "stream",
          "name": "stdout",
          "text": [
            "milk\n"
          ]
        }
      ]
    },
    {
      "cell_type": "code",
      "metadata": {
        "colab": {
          "base_uri": "https://localhost:8080/"
        },
        "id": "97f62c18",
        "outputId": "2dbd6fd9-2390-446b-a511-eb113a77cedb"
      },
      "source": [
        "my_shopping_list.append(\"cheese\")\n",
        "print(my_shopping_list)"
      ],
      "execution_count": null,
      "outputs": [
        {
          "output_type": "stream",
          "name": "stdout",
          "text": [
            "['milk', 'bread', 'eggs', 'cheese']\n"
          ]
        }
      ]
    },
    {
      "cell_type": "code",
      "metadata": {
        "colab": {
          "base_uri": "https://localhost:8080/"
        },
        "id": "44e3b654",
        "outputId": "2ec6f191-be9d-430e-b920-7a86c96709a5"
      },
      "source": [
        "my_shopping_list[1] = \"whole wheat bread\"\n",
        "print(my_shopping_list)"
      ],
      "execution_count": null,
      "outputs": [
        {
          "output_type": "stream",
          "name": "stdout",
          "text": [
            "['milk', 'whole wheat bread', 'eggs', 'cheese']\n"
          ]
        }
      ]
    },
    {
      "cell_type": "code",
      "metadata": {
        "colab": {
          "base_uri": "https://localhost:8080/"
        },
        "id": "ddeeb832",
        "outputId": "00e9acd6-5f28-4db7-fd3b-d8030c132677"
      },
      "source": [
        "my_shopping_list.remove(\"eggs\")\n",
        "print(my_shopping_list)"
      ],
      "execution_count": null,
      "outputs": [
        {
          "output_type": "stream",
          "name": "stdout",
          "text": [
            "['milk', 'whole wheat bread', 'cheese']\n"
          ]
        }
      ]
    },
    {
      "cell_type": "code",
      "metadata": {
        "colab": {
          "base_uri": "https://localhost:8080/"
        },
        "id": "f9d613c7",
        "outputId": "51eafce3-f31e-4b04-c84c-42a80bef8611"
      },
      "source": [
        "print(\"milk\" in my_shopping_list)\n",
        "print(\"broccoli\" in my_shopping_list)"
      ],
      "execution_count": null,
      "outputs": [
        {
          "output_type": "stream",
          "name": "stdout",
          "text": [
            "True\n",
            "False\n"
          ]
        }
      ]
    },
    {
      "cell_type": "markdown",
      "source": [
        "Write a code to create a string with your name and print itP"
      ],
      "metadata": {
        "id": "oBTpNf98EMhz"
      }
    },
    {
      "cell_type": "code",
      "execution_count": null,
      "metadata": {
        "colab": {
          "base_uri": "https://localhost:8080/"
        },
        "id": "yoqiyRbtCgoW",
        "outputId": "e917de57-3c4f-4cb6-bedc-c2df50c4d800"
      },
      "outputs": [
        {
          "output_type": "stream",
          "name": "stdout",
          "text": [
            "My name is: Utkaarsh Kumar\n"
          ]
        }
      ],
      "source": [
        "my_name = \"Utkaarsh Kumar\"\n",
        "print(\"My name is:\", my_name)"
      ]
    },
    {
      "cell_type": "markdown",
      "source": [
        "Write a code to find the length of the string \"Hello World\"P"
      ],
      "metadata": {
        "id": "LZNUJ9HXEwqV"
      }
    },
    {
      "cell_type": "code",
      "source": [
        "text = \"Hello World\"\n",
        "length = len(text)\n",
        "print(\"Length of the string is:\", length)\n"
      ],
      "metadata": {
        "colab": {
          "base_uri": "https://localhost:8080/"
        },
        "id": "E4bBynePEvfg",
        "outputId": "daddbaa3-a733-4bf3-db0d-46a7a143ed1d"
      },
      "execution_count": null,
      "outputs": [
        {
          "output_type": "stream",
          "name": "stdout",
          "text": [
            "Length of the string is: 11\n"
          ]
        }
      ]
    },
    {
      "cell_type": "markdown",
      "source": [
        " Write a code to slice the first 3 characters from the string \"Python Programming\"P"
      ],
      "metadata": {
        "id": "MUASClQ3EwBo"
      }
    },
    {
      "cell_type": "code",
      "source": [
        "text = \"Python Programming\"\n",
        "sliced = text[:3]\n",
        "print(\"First 3 characters are:\", sliced)\n"
      ],
      "metadata": {
        "colab": {
          "base_uri": "https://localhost:8080/"
        },
        "id": "bRaK4HUyFFXV",
        "outputId": "d3ff095c-bf97-4dc9-a21a-695769da62b8"
      },
      "execution_count": null,
      "outputs": [
        {
          "output_type": "stream",
          "name": "stdout",
          "text": [
            "First 3 characters are: Pyt\n"
          ]
        }
      ]
    },
    {
      "cell_type": "markdown",
      "source": [
        "Write a code to convert the string \"hello\" to uppercaseP"
      ],
      "metadata": {
        "id": "sITERj_pFUMD"
      }
    },
    {
      "cell_type": "code",
      "source": [
        "text = \"hello\"\n",
        "uppercase_text = text.upper()\n",
        "print(\"Uppercase string:\", uppercase_text)\n"
      ],
      "metadata": {
        "colab": {
          "base_uri": "https://localhost:8080/"
        },
        "id": "Wk8sGlGJFVhb",
        "outputId": "be4bd83a-236b-4361-980a-38e91bb7960b"
      },
      "execution_count": null,
      "outputs": [
        {
          "output_type": "stream",
          "name": "stdout",
          "text": [
            "Uppercase string: HELLO\n"
          ]
        }
      ]
    },
    {
      "cell_type": "markdown",
      "source": [
        "Write a code to replace the word \"apple\" with \"orange\" in the string \"I like apple\"P"
      ],
      "metadata": {
        "id": "beoLtwasFXMt"
      }
    },
    {
      "cell_type": "code",
      "source": [
        "text = \"I like apple\"\n",
        "new_text = text.replace(\"apple\", \"orange\")\n",
        "print(\"Updated string:\", new_text)\n"
      ],
      "metadata": {
        "colab": {
          "base_uri": "https://localhost:8080/"
        },
        "id": "AV1Qu-n8FaXK",
        "outputId": "86bbcd02-d68b-4a3a-9dbf-83180b83b372"
      },
      "execution_count": null,
      "outputs": [
        {
          "output_type": "stream",
          "name": "stdout",
          "text": [
            "Updated string: I like orange\n"
          ]
        }
      ]
    },
    {
      "cell_type": "markdown",
      "source": [
        "Write a code to create a list with numbers 1 to 5 and print it"
      ],
      "metadata": {
        "id": "E_UFuNX_F-AQ"
      }
    },
    {
      "cell_type": "code",
      "source": [
        "numbers = [1,2,3,4,5]\n",
        "print(\"List of numbers:\", numbers)"
      ],
      "metadata": {
        "colab": {
          "base_uri": "https://localhost:8080/"
        },
        "id": "i6PAohUvGIzu",
        "outputId": "71353e6f-4e6a-4bf0-c807-b54beffd05e3"
      },
      "execution_count": null,
      "outputs": [
        {
          "output_type": "stream",
          "name": "stdout",
          "text": [
            "List of numbers: [1, 2, 3, 4, 5]\n"
          ]
        }
      ]
    },
    {
      "cell_type": "markdown",
      "source": [
        "Write a code to append the number 10 to the list [1, 2, 3, 4"
      ],
      "metadata": {
        "id": "ilu1AAk3Gfkr"
      }
    },
    {
      "cell_type": "code",
      "source": [
        "numbers = [1,2,3,4]\n",
        "numbers.append(10)\n",
        "print(\"Updated list:\", numbers)"
      ],
      "metadata": {
        "colab": {
          "base_uri": "https://localhost:8080/"
        },
        "id": "CHZ52F6fGiIk",
        "outputId": "990c956e-d494-42f5-c971-d8f6684b5668"
      },
      "execution_count": null,
      "outputs": [
        {
          "output_type": "stream",
          "name": "stdout",
          "text": [
            "Updated list: [1, 2, 3, 4, 10]\n"
          ]
        }
      ]
    },
    {
      "cell_type": "markdown",
      "source": [
        "Write a code to remove the number 3 from the list [1, 2, 3, 4, 5]P"
      ],
      "metadata": {
        "id": "mrEImwSNz4-V"
      }
    },
    {
      "cell_type": "code",
      "source": [
        "numbers = [1, 2, 3, 4, 5]\n",
        "numbers.remove(3)\n",
        "print(\"List after removing 3:\", numbers)"
      ],
      "metadata": {
        "colab": {
          "base_uri": "https://localhost:8080/"
        },
        "id": "C2K-Xmnaz9vZ",
        "outputId": "28219d0c-d9da-4656-94fe-677341c9f2f0"
      },
      "execution_count": null,
      "outputs": [
        {
          "output_type": "stream",
          "name": "stdout",
          "text": [
            "List after removing 3: [1, 2, 4, 5]\n"
          ]
        }
      ]
    },
    {
      "cell_type": "markdown",
      "source": [
        "Write a code to access the second element in the list ['a', 'b', 'c', 'd']P"
      ],
      "metadata": {
        "id": "H7kXRAG30MJc"
      }
    },
    {
      "cell_type": "code",
      "source": [
        "my_list = ['a', 'b', 'c', 'd']\n",
        "second_element = my_list[1]\n",
        "print(\"Second element:\", second_element)"
      ],
      "metadata": {
        "colab": {
          "base_uri": "https://localhost:8080/"
        },
        "id": "SpeM1T2r0PZV",
        "outputId": "5c04c97d-b22a-48bb-f488-54a432677c6b"
      },
      "execution_count": null,
      "outputs": [
        {
          "output_type": "stream",
          "name": "stdout",
          "text": [
            "Second element: b\n"
          ]
        }
      ]
    },
    {
      "cell_type": "markdown",
      "source": [
        "Write a code to reverse the list [10, 20, 30, 40, 50]."
      ],
      "metadata": {
        "id": "4fAM-OmD0Z94"
      }
    },
    {
      "cell_type": "code",
      "source": [
        "my_list = [10, 20, 30, 40, 50]\n",
        "my_list.reverse()\n",
        "print(\"Reversed list:\", my_list)\n"
      ],
      "metadata": {
        "colab": {
          "base_uri": "https://localhost:8080/"
        },
        "id": "63u9Eq570foJ",
        "outputId": "0bfa1199-fb6b-4963-8780-27aed52a8c68"
      },
      "execution_count": null,
      "outputs": [
        {
          "output_type": "stream",
          "name": "stdout",
          "text": [
            "Reversed list: [50, 40, 30, 20, 10]\n"
          ]
        }
      ]
    },
    {
      "cell_type": "markdown",
      "source": [
        "Write a code to create a tuple with the elements 100, 200, 300 and print it."
      ],
      "metadata": {
        "id": "JYNG8MQu0yGF"
      }
    },
    {
      "cell_type": "code",
      "source": [
        "my_tuple = (100, 200, 300)\n",
        "print(\"My tuple:\", my_tuple)"
      ],
      "metadata": {
        "colab": {
          "base_uri": "https://localhost:8080/"
        },
        "id": "l4q6s-HF0yy5",
        "outputId": "261bb6f7-1bb3-452e-cee2-83b1a2680ffe"
      },
      "execution_count": null,
      "outputs": [
        {
          "output_type": "stream",
          "name": "stdout",
          "text": [
            "My tuple: (100, 200, 300)\n"
          ]
        }
      ]
    },
    {
      "cell_type": "markdown",
      "source": [
        "Write a code to access the second-to-last element of the tuple ('red', 'green', 'blue', 'yellow')."
      ],
      "metadata": {
        "id": "NC1q0JXw06-y"
      }
    },
    {
      "cell_type": "code",
      "source": [
        "my_tuple = ('red', 'green', 'blue', 'yellow')\n",
        "second_to_last_element = my_tuple[-2]\n",
        "print(\"Second-to-last element:\", second_to_last_element)"
      ],
      "metadata": {
        "colab": {
          "base_uri": "https://localhost:8080/"
        },
        "id": "56zwuR5y07qm",
        "outputId": "cf57b845-5c27-42ce-f946-3257a953ee42"
      },
      "execution_count": null,
      "outputs": [
        {
          "output_type": "stream",
          "name": "stdout",
          "text": [
            "Second-to-last element: blue\n"
          ]
        }
      ]
    },
    {
      "cell_type": "markdown",
      "source": [
        " Write a code to find the minimum number in the tuple (10, 20, 5, 15)"
      ],
      "metadata": {
        "id": "iuTsuMA_1Gsh"
      }
    },
    {
      "cell_type": "code",
      "source": [
        "my_tuple = (10, 20, 5, 15)\n",
        "minimum_number = min(my_tuple)\n",
        "print(\"Minimum number:\", minimum_number)"
      ],
      "metadata": {
        "colab": {
          "base_uri": "https://localhost:8080/"
        },
        "id": "Fi_1DXdo1H_z",
        "outputId": "9973445c-973c-450c-e147-075462ccbbe2"
      },
      "execution_count": null,
      "outputs": [
        {
          "output_type": "stream",
          "name": "stdout",
          "text": [
            "Minimum number: 5\n"
          ]
        }
      ]
    },
    {
      "cell_type": "markdown",
      "source": [
        " Write a code to find the index of the element \"cat\" in the tuple ('dog', 'cat', 'rabbit')\n"
      ],
      "metadata": {
        "id": "QZQT1VcQ1HLd"
      }
    },
    {
      "cell_type": "code",
      "source": [
        "my_tuple = ('dog', 'cat', 'rabbit')\n",
        "index_of_cat = my_tuple.index(\"cat\")\n",
        "print(\"Index of 'cat':\", index_of_cat)\n"
      ],
      "metadata": {
        "colab": {
          "base_uri": "https://localhost:8080/"
        },
        "id": "2FKG_W8Y0dPw",
        "outputId": "7cf3deb1-f3b5-46bb-987c-a0cee554a03c"
      },
      "execution_count": null,
      "outputs": [
        {
          "output_type": "stream",
          "name": "stdout",
          "text": [
            "Index of 'cat': 1\n"
          ]
        }
      ]
    },
    {
      "cell_type": "markdown",
      "source": [
        " Write a code to create a set with the elements 'a', 'b', 'c' and print it."
      ],
      "metadata": {
        "id": "Kf9bxe2t4cmZ"
      }
    },
    {
      "cell_type": "code",
      "source": [
        "my_set = {'a', 'b', 'c'}\n",
        "print(\"My set:\", my_set)"
      ],
      "metadata": {
        "id": "0n8DI4gi4fbL",
        "colab": {
          "base_uri": "https://localhost:8080/"
        },
        "outputId": "6de38bfa-a24b-42f9-a609-093a33ca2c62"
      },
      "execution_count": 1,
      "outputs": [
        {
          "output_type": "stream",
          "name": "stdout",
          "text": [
            "My set: {'c', 'b', 'a'}\n"
          ]
        }
      ]
    },
    {
      "cell_type": "markdown",
      "source": [
        "Write a code to clear all elements from the set {1, 2, 3, 4, 5}."
      ],
      "metadata": {
        "id": "HvmyPfQxp4Tu"
      }
    },
    {
      "cell_type": "code",
      "source": [
        "my_set = {1, 2, 3, 4, 5}\n",
        "my_set.clear()\n",
        "print(\"Cleared set:\", my_set)"
      ],
      "metadata": {
        "colab": {
          "base_uri": "https://localhost:8080/"
        },
        "id": "HIgA2a83p6cD",
        "outputId": "8433d63f-4c8a-422d-9079-13f702c49d25"
      },
      "execution_count": 2,
      "outputs": [
        {
          "output_type": "stream",
          "name": "stdout",
          "text": [
            "Cleared set: set()\n"
          ]
        }
      ]
    },
    {
      "cell_type": "markdown",
      "source": [
        " Write a code to remove the element 4 from the set {1, 2, 3, 4}."
      ],
      "metadata": {
        "id": "mi7e0gEFp-3p"
      }
    },
    {
      "cell_type": "code",
      "source": [
        "my_set = {1, 2, 3, 4}\n",
        "my_set.remove(4)\n",
        "print(\"Set after removing 4:\", my_set)"
      ],
      "metadata": {
        "colab": {
          "base_uri": "https://localhost:8080/"
        },
        "id": "cfb15ewxqCab",
        "outputId": "3403535b-807e-4d43-a5d2-d1328b72fe54"
      },
      "execution_count": 3,
      "outputs": [
        {
          "output_type": "stream",
          "name": "stdout",
          "text": [
            "Set after removing 4: {1, 2, 3}\n"
          ]
        }
      ]
    },
    {
      "cell_type": "markdown",
      "source": [
        "Write a code to find the union of two sets {1, 2, 3} and {3, 4, 5}."
      ],
      "metadata": {
        "id": "Q1vpk4WxqJJi"
      }
    },
    {
      "cell_type": "code",
      "source": [
        "set1 = {1, 2, 3}\n",
        "set2 = {3, 4, 5}\n",
        "union_set = set1.union(set2)\n",
        "print(\"Union of sets:\", union_set)"
      ],
      "metadata": {
        "colab": {
          "base_uri": "https://localhost:8080/"
        },
        "id": "4JF0C-XBqLFI",
        "outputId": "c6f9a47c-e464-40f6-dd65-b7d9b60be642"
      },
      "execution_count": 4,
      "outputs": [
        {
          "output_type": "stream",
          "name": "stdout",
          "text": [
            "Union of sets: {1, 2, 3, 4, 5}\n"
          ]
        }
      ]
    },
    {
      "cell_type": "markdown",
      "source": [
        "Write a code to find the intersection of two sets {1, 2, 3} and {2, 3, 4}."
      ],
      "metadata": {
        "id": "HiM8GZA5qO34"
      }
    },
    {
      "cell_type": "code",
      "source": [
        "set1 = {1, 2, 3}\n",
        "set2 = {2, 3, 4}\n",
        "intersection_set = set1.intersection(set2)\n",
        "print(\"Intersection of sets:\", intersection_set)"
      ],
      "metadata": {
        "colab": {
          "base_uri": "https://localhost:8080/"
        },
        "id": "TGpDEXmPqSEu",
        "outputId": "bc17b655-c4e1-44d9-b9d3-9d5bc46b4cbc"
      },
      "execution_count": 5,
      "outputs": [
        {
          "output_type": "stream",
          "name": "stdout",
          "text": [
            "Intersection of sets: {2, 3}\n"
          ]
        }
      ]
    },
    {
      "cell_type": "markdown",
      "source": [
        "Write a code to create a dictionary with the keys \"name\", \"age\", and \"city\", and print it."
      ],
      "metadata": {
        "id": "xKwQiHZcqZjL"
      }
    },
    {
      "cell_type": "code",
      "source": [
        "person = {\n",
        "  \"name\": \"Alice\",\n",
        "  \"age\": 30,\n",
        "  \"city\": \"New York\"\n",
        "}\n",
        "person"
      ],
      "metadata": {
        "colab": {
          "base_uri": "https://localhost:8080/"
        },
        "id": "Fk5QWOgsqaSj",
        "outputId": "81423f15-fdd3-418c-db1c-0b8fc8f2b050"
      },
      "execution_count": 6,
      "outputs": [
        {
          "output_type": "execute_result",
          "data": {
            "text/plain": [
              "{'name': 'Alice', 'age': 30, 'city': 'New York'}"
            ]
          },
          "metadata": {},
          "execution_count": 6
        }
      ]
    },
    {
      "cell_type": "markdown",
      "source": [
        "Write a code to add a new key-value pair \"country\": \"USA\" to the dictionary {'name': 'John', 'age': 25}."
      ],
      "metadata": {
        "id": "shm0ulTcqg85"
      }
    },
    {
      "cell_type": "code",
      "source": [
        "person = {'name': 'John', 'age': 25}\n",
        "person[\"country\"] = \"USA\"\n",
        "person"
      ],
      "metadata": {
        "colab": {
          "base_uri": "https://localhost:8080/"
        },
        "id": "WqwhC-znqi0A",
        "outputId": "075c4cb3-c525-459d-e602-56c9be81045d"
      },
      "execution_count": 7,
      "outputs": [
        {
          "output_type": "execute_result",
          "data": {
            "text/plain": [
              "{'name': 'John', 'age': 25, 'country': 'USA'}"
            ]
          },
          "metadata": {},
          "execution_count": 7
        }
      ]
    },
    {
      "cell_type": "markdown",
      "source": [
        "Write a code to access the value associated with the key \"name\" in the dictionary {'name': 'Alice', 'age': 30}."
      ],
      "metadata": {
        "id": "FiWfQ5cnqtuG"
      }
    },
    {
      "cell_type": "code",
      "source": [
        "person = {'name': 'Alice', 'age': 30}\n",
        "name_value = person['name']\n",
        "name_value"
      ],
      "metadata": {
        "id": "1a4Ng4MZqulL"
      },
      "execution_count": null,
      "outputs": []
    },
    {
      "cell_type": "markdown",
      "source": [
        "Write a code to remove the key \"age\" from the dictionary {'name': 'Bob', 'age': 22, 'city': 'New York'}."
      ],
      "metadata": {
        "id": "nejNgYrgqyZA"
      }
    },
    {
      "cell_type": "code",
      "source": [
        "person = {'name': 'Bob', 'age': 22, 'city': 'New York'}\n",
        "del person['age']\n",
        "person"
      ],
      "metadata": {
        "id": "21fCTvhvq1IG"
      },
      "execution_count": null,
      "outputs": []
    },
    {
      "cell_type": "markdown",
      "source": [
        "Write a code to check if the key \"city\" exists in the dictionary {'name': 'Alice', 'city': 'Paris'}."
      ],
      "metadata": {
        "id": "xUE54ycJq5TL"
      }
    },
    {
      "cell_type": "code",
      "source": [
        "person = {'name': 'Alice', 'city': 'Paris'}\n",
        "if \"city\" in person:\n",
        "  print(\"The key 'city' exists in the dictionary.\")\n",
        "else:\n",
        "  print(\"The key 'city' does not exist in the dictionary.\")"
      ],
      "metadata": {
        "id": "_lvKCh3Eq5_S"
      },
      "execution_count": null,
      "outputs": []
    },
    {
      "cell_type": "markdown",
      "source": [
        "Write a code to create a list, a tuple, and a dictionary, and print them all."
      ],
      "metadata": {
        "id": "loif-c6zq9CD"
      }
    },
    {
      "cell_type": "code",
      "source": [
        "my_list = [1, 2, 3, \"apple\", True]\n",
        "my_tuple = (\"red\", \"green\", \"blue\")\n",
        "my_dict = {\n",
        "  \"name\": \"Python\",\n",
        "  \"version\": 3.9,\n",
        "  \"is_awesome\": True\n",
        "}\n",
        "print(\"My List:\", my_list)\n",
        "print(\"My Tuple:\", my_tuple)\n",
        "print(\"My Dictionary:\", my_dict)"
      ],
      "metadata": {
        "id": "oqML6wfjq96J"
      },
      "execution_count": null,
      "outputs": []
    },
    {
      "cell_type": "markdown",
      "source": [
        "Write a code to create a list of 5 random numbers between 1 and 100, sort it in ascending order, and print the\n",
        "result.(replaced)"
      ],
      "metadata": {
        "id": "CduKydAWrV-V"
      }
    },
    {
      "cell_type": "code",
      "source": [
        "import random\n",
        "random_numbers = [random.randint(1, 100) for _ in range(5)]\n",
        "random_numbers.sort()\n",
        "print(\"Sorted random numbers:\", random_numbers)"
      ],
      "metadata": {
        "colab": {
          "base_uri": "https://localhost:8080/"
        },
        "id": "iu5yKZnBrW19",
        "outputId": "9864c9f7-69b4-4368-9605-d63146c9ccca"
      },
      "execution_count": 8,
      "outputs": [
        {
          "output_type": "stream",
          "name": "stdout",
          "text": [
            "Sorted random numbers: [19, 84, 84, 87, 88]\n"
          ]
        }
      ]
    },
    {
      "cell_type": "markdown",
      "source": [
        " Write a code to create a list with strings and print the element at the third index"
      ],
      "metadata": {
        "id": "Rja9GBzOreHn"
      }
    },
    {
      "cell_type": "code",
      "source": [
        "my_list = [\"apple\", \"banana\", \"cherry\", \"date\", \"elderberry\"]\n",
        "my_list[2]"
      ],
      "metadata": {
        "id": "5CiXdJVQrfCp"
      },
      "execution_count": null,
      "outputs": []
    },
    {
      "cell_type": "markdown",
      "source": [
        "Write a code to combine two dictionaries into one and print the result"
      ],
      "metadata": {
        "id": "Lvf5kDJNrsrk"
      }
    },
    {
      "cell_type": "code",
      "source": [
        "dict1 = {\"a\": 1, \"b\": 2}\n",
        "dict2 = {\"c\": 3, \"d\": 4}\n",
        "\n",
        "combined_dict = {**dict1, **dict2}\n",
        "print(\"Combined dictionary:\", combined_dict)"
      ],
      "metadata": {
        "id": "RGOrrN6Prryz"
      },
      "execution_count": null,
      "outputs": []
    },
    {
      "cell_type": "markdown",
      "source": [
        " Write a code to convert a list of strings into a set."
      ],
      "metadata": {
        "id": "_L1zQntArxWF"
      }
    },
    {
      "cell_type": "code",
      "source": [
        "list_of_strings = [\"apple\", \"banana\", \"cherry\", \"apple\", \"date\"]\n",
        "set_of_strings = set(list_of_strings)\n",
        "print(\"Set of strings:\", set_of_strings)"
      ],
      "metadata": {
        "id": "Jlw99hiCryHz"
      },
      "execution_count": null,
      "outputs": []
    }
  ]
}